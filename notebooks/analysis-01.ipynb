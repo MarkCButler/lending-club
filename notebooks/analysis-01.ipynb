{
 "cells": [
  {
   "cell_type": "markdown",
   "id": "418f7503-0e50-4ab2-a957-2e8af2525134",
   "metadata": {},
   "source": [
    "# Analysis of interest rate\n",
    "\n",
    "- [Normalization by historical interest-rate data](#Normalization-by-historical-interest-rate-data)\n",
    "\n",
    "    - The database is updated to include [data collected by the Federal\n",
    "    Reserve](https://fred.stlouisfed.org/series/TERMCBPER24NS) on historical interest\n",
    "    rates for 24-month personal loans.\n",
    "\n",
    "    - The historical data is used to normalize LendingClub interest rates, giving\n",
    "    information about how LendingClub rates changed independently of the changes\n",
    "    occurring in the broader economy.\n",
    "\n",
    "    - Spurious jumps in the normalized interest rates are avoided by interpolating the\n",
    "    quarterly historical data to monthly data.\n",
    "\n",
    "- [Correlation of interest rate with loan grade and term](#Correlation-of-interest-rate-with-loan-grade-and-term)\n",
    "\n",
    "    - The interest rate varies systematically with the loan grade.\n",
    "\n",
    "    - For loans with a high grade, the interest rate varies systematically with loan\n",
    "    sub-grade.\n",
    "\n",
    "    - For loans with a low grade, the dependence of interest rate on sub-grade is\n",
    "    complex.\n",
    "\n",
    "    - There is a weak dependence of interest rate on loan term.\n",
    "\n",
    "        - For loan grades of 'D' or higher, the mean rate for the 60-month loan is\n",
    "        greater than or equal to the mean rate for the 36-month loan.\n",
    "\n",
    "        - For the lower-grade loans, the mean rate for the 36-month loan is higher.\n",
    "\n",
    "- [Correlation of interest rate with loan\n",
    "date](#Correlation-of-interest-rate-with-loan-date)\n",
    "\n",
    "    - The historical interest rates for personal loans do not explain changes in\n",
    "    LendingClub mean interest rates as a function of loan date.\n",
    "\n",
    "    - For loans of grade 'D' or higher, the mean interest rate charged for loans of a\n",
    "    given grade is essentially constant during the period covered by the dataset.\n",
    "\n",
    "    - For lower-grade loans, the mean interest rate charged for loans of a particular\n",
    "    grade tends to increase for later loan dates."
   ]
  },
  {
   "cell_type": "code",
   "execution_count": null,
   "id": "08907c9f-9dae-49e5-94cd-2e87ad541a48",
   "metadata": {},
   "outputs": [],
   "source": [
    "from pathlib import Path\n",
    "\n",
    "import matplotlib.pyplot as plt\n",
    "import numpy as np\n",
    "import pandas as pd\n",
    "import plotly.express as px\n",
    "import seaborn as sns\n",
    "from IPython.display import display\n",
    "from matplotlib.ticker import FuncFormatter, PercentFormatter\n",
    "\n",
    "import notebook_tools.database as db\n",
    "from notebook_tools.feature_exploration import get_group_sizes\n",
    "from notebook_tools.plots import format_counts"
   ]
  },
  {
   "cell_type": "code",
   "execution_count": null,
   "id": "045d2faf-4a30-405e-b450-d5c58ebcd7e5",
   "metadata": {},
   "outputs": [],
   "source": [
    "sns.set_theme()"
   ]
  },
  {
   "cell_type": "code",
   "execution_count": null,
   "id": "415568fa-3bfd-4cec-9d25-ac58a7af474d",
   "metadata": {},
   "outputs": [],
   "source": [
    "loan_data = db.get_loan_data()\n",
    "loan_metadata = db.get_loan_metadata()"
   ]
  },
  {
   "cell_type": "markdown",
   "id": "5654680b-2042-4723-a692-4c7aa5feef97",
   "metadata": {},
   "source": [
    "## Normalization by historical interest-rate data"
   ]
  },
  {
   "cell_type": "markdown",
   "id": "ebcfcf56-ff0a-4ed0-b51e-829fe1e6b099",
   "metadata": {},
   "source": [
    "Since the 1970s, the Federal Reserve has collected\n",
    "[data](https://fred.stlouisfed.org/series/TERMCBPER24NS) on interest rates for 24-month\n",
    "personal loans made by commercial banks. This data is published as part of the [G.19\n",
    "Statistical Release](https://www.federalreserve.gov/releases/g19/about.htm).\n",
    "\n",
    "Although the LendingClub loans in our dataset have a term 36 months or 60 months rather\n",
    "than 24 months, this historical data is a measure of how the interest rates for personal\n",
    "loans in the broader US economy varied during the period in which the LendingClub loans\n",
    "were being issued."
   ]
  },
  {
   "cell_type": "markdown",
   "id": "1f7ff371-acf2-451d-a289-401dc61b81ad",
   "metadata": {},
   "source": [
    "### Load and inspect the data"
   ]
  },
  {
   "cell_type": "code",
   "execution_count": null,
   "id": "9d03bfff-2de0-472b-bbaa-3a68261b57be",
   "metadata": {},
   "outputs": [],
   "source": [
    "historical_data_path = Path.cwd().parent / \"data\" / \"TERMCBPER24NS.csv\"\n",
    "historical_data = (\n",
    "    pd.read_csv(\n",
    "        historical_data_path,\n",
    "        na_values=\".\",\n",
    "        dtype={\"DATE\": \"string\", \"TERMCBPER24NS\": \"float\"},\n",
    "    )\n",
    "    .rename(columns={\"DATE\": \"date\", \"TERMCBPER24NS\": \"int_rate\"})\n",
    "    .assign(date=lambda df: pd.to_datetime(df[\"date\"], format=\"ISO8601\"))\n",
    "    .set_index(\"date\")\n",
    ")"
   ]
  },
  {
   "cell_type": "code",
   "execution_count": null,
   "id": "4725ab94-4a0d-49dd-937b-e41f32bf4429",
   "metadata": {},
   "outputs": [],
   "source": [
    "display(historical_data)"
   ]
  },
  {
   "cell_type": "code",
   "execution_count": null,
   "id": "487b8b60-4bfd-4b48-8b5f-756cf33e4dc8",
   "metadata": {},
   "outputs": [],
   "source": [
    "plot = sns.relplot(historical_data, x=\"date\", y=\"int_rate\", aspect=3.3)\n",
    "plot.set(\n",
    "    title=\"Average interest rate for 24-month personal loans by commercial banks\"\n",
    ").set_axis_labels(x_var=\"Date\", y_var=\"Interest rate\")\n",
    "plot.facet_axis(0, 0).yaxis.set_major_formatter(PercentFormatter(decimals=0))\n",
    "plt.show()"
   ]
  },
  {
   "cell_type": "code",
   "execution_count": null,
   "id": "1b0da9eb-a9f3-4cfb-a997-52474f2d55a7",
   "metadata": {},
   "outputs": [],
   "source": [
    "to_plot = get_group_sizes(loan_data, group_by=\"issue_d\")\n",
    "to_plot[\"issue_d\"] = pd.to_datetime(to_plot[\"issue_d\"], format=\"ISO8601\")\n",
    "# to_plot\n",
    "plot = sns.relplot(to_plot, x=\"issue_d\", y=\"count\", aspect=3.3, kind=\"line\", marker=\"o\")\n",
    "plot.set(title=\"Distribution of loan dates for LendingClub loans\").set_axis_labels(\n",
    "    x_var=\"Loan date\", y_var=\"Count\"\n",
    ")\n",
    "ax = plot.facet_axis(0, 0)\n",
    "ax.yaxis.set_major_formatter(FuncFormatter(format_counts))\n",
    "plt.show()"
   ]
  },
  {
   "cell_type": "markdown",
   "id": "1ab49b6b-47db-4ac7-aef1-c9abd4c5ea26",
   "metadata": {},
   "source": [
    "### Interpolate and filter"
   ]
  },
  {
   "cell_type": "markdown",
   "id": "d1bdfb23-7269-4728-a671-c2b16e136dc3",
   "metadata": {},
   "source": [
    "The LendingClub loans in our cleaned dataset were issued in the years 2012 - 2018, and\n",
    "the loan date (`issue_d`) is given as a year-month combination.\n",
    "\n",
    "In contrast, the historical data on interest rates includes a much broader time span but\n",
    "was only collected on a quarterly basis.\n",
    "\n",
    "In this section, the historical data is interpolated and filtered, yielding estimated\n",
    "historical interest rates corresponding to the loan dates in our dataset.\n",
    "\n",
    "Note that the historical data will be used to normalize the interest rate for\n",
    "LendingClub loans, and interpolation avoids spurious jumps in the normalized data."
   ]
  },
  {
   "cell_type": "code",
   "execution_count": null,
   "id": "225e8893-ae3e-461b-ab97-eff93d4603ff",
   "metadata": {},
   "outputs": [],
   "source": [
    "bool_index = (historical_data.index >= pd.to_datetime(\"2012-01\", format=\"ISO8601\")) & (\n",
    "    historical_data.index <= pd.to_datetime(\"2018-12\", format=\"ISO8601\")\n",
    ")\n",
    "plot = sns.relplot(\n",
    "    historical_data[bool_index],\n",
    "    x=\"date\",\n",
    "    y=\"int_rate\",\n",
    "    aspect=3.3,\n",
    "    kind=\"line\",\n",
    "    marker=\"o\",\n",
    ")\n",
    "plot.set(\n",
    "    title=(\n",
    "        \"Average interest rate for 24-month personal loans \"\n",
    "        \"by commercial banks, 2012 - 2018\"\n",
    "    )\n",
    ").set_axis_labels(x_var=\"Date\", y_var=\"Interest rate\")\n",
    "plot.facet_axis(0, 0).yaxis.set_major_formatter(PercentFormatter(decimals=1))\n",
    "plt.show()"
   ]
  },
  {
   "cell_type": "code",
   "execution_count": null,
   "id": "ea6ec7c8-be24-423d-b5de-033435ed27cc",
   "metadata": {},
   "outputs": [],
   "source": [
    "historical_data = historical_data.interpolate(method=\"time\")\n",
    "historical_data = historical_data[bool_index]"
   ]
  },
  {
   "cell_type": "code",
   "execution_count": null,
   "id": "80057935-3a07-4ebd-b83f-b3796b0133d7",
   "metadata": {},
   "outputs": [],
   "source": [
    "plot = sns.relplot(\n",
    "    historical_data,\n",
    "    x=\"date\",\n",
    "    y=\"int_rate\",\n",
    "    aspect=3.3,\n",
    "    kind=\"line\",\n",
    "    marker=\"o\",\n",
    ")\n",
    "plot.set(\n",
    "    title=(\n",
    "        \"Interpolated data:  Average interest rate for 24-month personal loans \"\n",
    "        \"by commercial banks, 2012 - 2018\"\n",
    "    )\n",
    ").set_axis_labels(x_var=\"Date\", y_var=\"Interest rate\")\n",
    "plot.facet_axis(0, 0).yaxis.set_major_formatter(PercentFormatter(decimals=1))\n",
    "plt.show()"
   ]
  },
  {
   "cell_type": "markdown",
   "id": "6aa50142-6bc5-4d3d-9bc6-fdd8060c8289",
   "metadata": {},
   "source": [
    "### Add the historical data to the database"
   ]
  },
  {
   "cell_type": "markdown",
   "id": "4a30482fd672b8aa",
   "metadata": {
    "jupyter": {
     "outputs_hidden": false
    }
   },
   "source": []
  },
  {
   "cell_type": "markdown",
   "id": "21fe267b-73bb-402c-8467-0cfb785ecc15",
   "metadata": {},
   "source": [
    "Convert the dates to strings before storing them in the database, since SQLite does not\n",
    "support a dedicated data type for dates."
   ]
  },
  {
   "cell_type": "code",
   "execution_count": null,
   "id": "82ec9306-7bb8-432d-85c6-802c269ee4f5",
   "metadata": {},
   "outputs": [],
   "source": [
    "historical_data = historical_data.reset_index().assign(\n",
    "    date=lambda df: df[\"date\"].dt.strftime(\"%Y-%m\")\n",
    ")"
   ]
  },
  {
   "cell_type": "code",
   "execution_count": null,
   "id": "63f8fcde-0dc5-4d4e-8dd7-ea6eeb04912e",
   "metadata": {},
   "outputs": [],
   "source": [
    "if not db.table_exists(\"commercial_bank_interest_rates\"):\n",
    "    db.add_tables({\"commercial_bank_interest_rates\": historical_data})"
   ]
  },
  {
   "cell_type": "markdown",
   "id": "3b8c8a9e-25e6-43a6-a0e8-a9b03be9fbba",
   "metadata": {},
   "source": [
    "### Normalize LendingClub interest rates"
   ]
  },
  {
   "cell_type": "markdown",
   "id": "a023ad5c-fca1-496c-bf2e-ba0b17cef957",
   "metadata": {},
   "source": [
    "Set the normalization divisor to 1.0 for 2012-01."
   ]
  },
  {
   "cell_type": "code",
   "execution_count": null,
   "id": "6d8ad6f3-56ce-425e-a85f-e540d8bbac02",
   "metadata": {},
   "outputs": [],
   "source": [
    "historical_data = historical_data.assign(\n",
    "    divisor=historical_data[\"int_rate\"] / historical_data.loc[0, \"int_rate\"]\n",
    ").set_index(\"date\")"
   ]
  },
  {
   "cell_type": "code",
   "execution_count": null,
   "id": "4ce7ea7d-451f-4619-b5da-35e98ebfbf52",
   "metadata": {},
   "outputs": [],
   "source": [
    "historical_data"
   ]
  },
  {
   "cell_type": "code",
   "execution_count": null,
   "id": "98192d03-795a-401f-b606-407b3f8183dc",
   "metadata": {},
   "outputs": [],
   "source": [
    "loan_data = loan_data.join(historical_data[[\"divisor\"]], on=\"issue_d\").assign(\n",
    "    normalized_int_rate=lambda df: df[\"int_rate\"] / df[\"divisor\"]\n",
    ")"
   ]
  },
  {
   "cell_type": "markdown",
   "id": "175caf73-8148-4004-a84a-d8b66bef6bb8",
   "metadata": {},
   "source": [
    "## Correlation of interest rate with loan grade and term"
   ]
  },
  {
   "cell_type": "markdown",
   "id": "a6f622b0-a2e9-4fa9-818f-30940a55bccf",
   "metadata": {},
   "source": [
    "In exploring how interest rate varies with loan grade and loan term, we will use the raw\n",
    "interest rates rather than normalized rates."
   ]
  },
  {
   "cell_type": "code",
   "execution_count": null,
   "id": "c0e02e97-deb0-4554-9398-36bcfe482ff0",
   "metadata": {},
   "outputs": [],
   "source": [
    "min = loan_data[\"int_rate\"].min()\n",
    "max = loan_data[\"int_rate\"].max()\n",
    "print(\n",
    "    'The minimum and maximum values of \"int_rate\" '\n",
    "    f\"are {min} and {max}, respectively.\"\n",
    ")"
   ]
  },
  {
   "cell_type": "code",
   "execution_count": null,
   "id": "ee9ded62-5afe-4a65-83c0-e65561e9b47c",
   "metadata": {},
   "outputs": [],
   "source": [
    "# Define arrays / lists needed for binning the data and plotting histograms in plotly.\n",
    "int_rate_bins = np.linspace(5, 31, num=27)\n",
    "int_rate_bin_labels = [f\"{left:d}% - {left+0.99:.2f}%\" for left in range(5, 31)]\n",
    "int_rate_tick_vals = int_rate_bin_labels[0::5]\n",
    "int_rate_tick_text = [f\"{left}%\" for left in range(5, 35, 5)]"
   ]
  },
  {
   "cell_type": "code",
   "execution_count": null,
   "id": "2d518979-f246-489f-86b2-5c1736a6da1f",
   "metadata": {},
   "outputs": [],
   "source": [
    "loan_data[\"int_rate_bin\"] = pd.cut(\n",
    "    loan_data[\"int_rate\"], bins=int_rate_bins, labels=int_rate_bin_labels, right=False\n",
    ")"
   ]
  },
  {
   "cell_type": "code",
   "execution_count": null,
   "id": "008b687e-8832-4dbe-8812-898f8746df39",
   "metadata": {},
   "outputs": [],
   "source": [
    "to_plot = get_group_sizes(loan_data, group_by=\"int_rate_bin\")\n",
    "fig = px.bar(\n",
    "    to_plot,\n",
    "    x=\"int_rate_bin\",\n",
    "    y=\"count\",\n",
    "    labels={\"count\": \"Number of loans\", \"int_rate_bin\": \"Interest rate\"},\n",
    "    title=\"Distribution of loan interest rate\",\n",
    ")\n",
    "customdata = to_plot[\"int_rate_bin\"]\n",
    "hovertemplate = \"Interest rate=%{customdata}<br>Number of loans=%{y:.3s}<extra></extra>\"\n",
    "fig.update_traces(customdata=customdata, hovertemplate=hovertemplate)\n",
    "fig.update_layout(bargap=0)\n",
    "fig.update_xaxes(\n",
    "    tickmode=\"array\", tickvals=int_rate_tick_vals, ticktext=int_rate_tick_text\n",
    ")\n",
    "fig.show()"
   ]
  },
  {
   "cell_type": "code",
   "execution_count": null,
   "id": "b0b57ce5-d2b0-4945-bd85-505354056727",
   "metadata": {},
   "outputs": [],
   "source": [
    "to_plot = get_group_sizes(loan_data, group_by=[\"int_rate_bin\", \"grade\"])\n",
    "fig = px.bar(\n",
    "    to_plot,\n",
    "    x=\"int_rate_bin\",\n",
    "    y=\"count\",\n",
    "    facet_row=\"grade\",\n",
    "    labels={\n",
    "        \"count\": \"Number of loans\",\n",
    "        \"int_rate_bin\": \"Interest rate\",\n",
    "        \"grade\": \"Grade\",\n",
    "    },\n",
    "    title=\"Distribution of loan interest rate by loan grade\",\n",
    "    hover_data={\"count\": \":.3s\"},\n",
    "    height=1200,\n",
    ")\n",
    "fig.update_xaxes(tickmode=\"array\", tickvals=int_rate_tick_vals, tickangle=45)\n",
    "fig.update_yaxes(title=\"\")\n",
    "fig.update_layout(bargap=0, yaxis4_title=\"Number of Loans\")\n",
    "fig.show()"
   ]
  },
  {
   "cell_type": "markdown",
   "id": "2e1313d5-c76c-4300-ad18-69d376702baf",
   "metadata": {},
   "source": [
    "Show the same figure, but with a different vertical scale for each of the axes, in order\n",
    "to get a better view of the distribution of loan interest rate for loans with low\n",
    "grades."
   ]
  },
  {
   "cell_type": "code",
   "execution_count": null,
   "id": "27b3200a-0747-469c-86f6-77ab484df984",
   "metadata": {},
   "outputs": [],
   "source": [
    "fig.update_yaxes(matches=None)\n",
    "fig.show()"
   ]
  },
  {
   "cell_type": "code",
   "execution_count": null,
   "id": "88540e41-1298-4581-b26e-b2597d2a2607",
   "metadata": {},
   "outputs": [],
   "source": [
    "to_plot = get_group_sizes(loan_data, group_by=[\"int_rate_bin\", \"grade\", \"sub_grade\"])\n",
    "to_plot[\"sub_grade\"] = to_plot[\"sub_grade\"].str[1]\n",
    "fig = px.bar(\n",
    "    to_plot,\n",
    "    x=\"int_rate_bin\",\n",
    "    y=\"count\",\n",
    "    facet_row=\"grade\",\n",
    "    color=\"sub_grade\",\n",
    "    labels={\n",
    "        \"count\": \"Number of loans\",\n",
    "        \"int_rate_bin\": \"Interest rate\",\n",
    "        \"grade\": \"Grade\",\n",
    "        \"sub_grade\": \"Sub-grade\",\n",
    "    },\n",
    "    title=\"Distribution of loan interest rate by loan grade and sub-grade\",\n",
    "    hover_data={\"count\": \":.3s\"},\n",
    "    height=1200,\n",
    ")\n",
    "fig.update_xaxes(tickmode=\"array\", tickvals=int_rate_tick_vals, tickangle=45)\n",
    "fig.update_yaxes(matches=None, title=\"\")\n",
    "fig.update_layout(bargap=0, yaxis4_title=\"Number of Loans\")\n",
    "fig.show()"
   ]
  },
  {
   "cell_type": "code",
   "execution_count": null,
   "id": "75daafce-47a9-4f17-ad11-0aa68dce148a",
   "metadata": {},
   "outputs": [],
   "source": [
    "to_plot = get_group_sizes(\n",
    "    loan_data, group_by=[\"int_rate_bin\", \"grade\", \"sub_grade\", \"term\"]\n",
    ")\n",
    "to_plot[\"sub_grade\"] = to_plot[\"sub_grade\"].str[1]\n",
    "to_plot[\"term\"] = to_plot[\"term\"].astype(str) + \" months\"\n",
    "fig = px.bar(\n",
    "    to_plot,\n",
    "    x=\"int_rate_bin\",\n",
    "    y=\"count\",\n",
    "    facet_col=\"term\",\n",
    "    facet_row=\"grade\",\n",
    "    color=\"sub_grade\",\n",
    "    labels={\n",
    "        \"count\": \"Number of loans\",\n",
    "        \"int_rate_bin\": \"Interest rate\",\n",
    "        \"grade\": \"Grade\",\n",
    "        \"term\": \"Term\",\n",
    "        \"sub_grade\": \"Sub-grade\",\n",
    "    },\n",
    "    title=\"Distribution of loan interest rate by loan grade, sub-grade, and term\",\n",
    "    facet_col_spacing=0.06,\n",
    "    hover_data={\"count\": \":.3s\"},\n",
    "    height=1200,\n",
    ")\n",
    "fig.update_xaxes(tickmode=\"array\", tickvals=int_rate_tick_vals, tickangle=45)\n",
    "fig.update_yaxes(matches=None, showticklabels=True, title=\"\")\n",
    "fig.update_layout(bargap=0, yaxis7_title=\"Number of Loans\")\n",
    "fig.show()"
   ]
  },
  {
   "cell_type": "markdown",
   "id": "2c04874f-f529-4fde-8293-e3945b2ba7f3",
   "metadata": {},
   "source": [
    "The previous plots show the following:\n",
    "\n",
    "- The interest rate varies systematically with the loan grade.\n",
    "- For loans with a high grade, the interest rate varies systematically with loan\n",
    "sub-grade.\n",
    "- For loans with a low grade, the dependence of interest rate on sub-grade is complex.\n",
    "- There isn't a strong dependence of interest rate on loan term.\n",
    "\n",
    "To get a different view of these patterns, I'll set the y-axis to show percentage of\n",
    "loans rather than number of loans in each category."
   ]
  },
  {
   "cell_type": "code",
   "execution_count": null,
   "id": "338132e9-f6ce-4511-a13b-d7c32931f685",
   "metadata": {},
   "outputs": [],
   "source": [
    "to_plot = get_group_sizes(\n",
    "    loan_data, group_by=[\"int_rate_bin\", \"grade\", \"sub_grade\", \"term\"]\n",
    ")\n",
    "to_plot[\"sub_grade\"] = to_plot[\"sub_grade\"].str[1]\n",
    "to_plot[\"term\"] = to_plot[\"term\"].astype(str) + \" months\"\n",
    "fig = px.histogram(\n",
    "    to_plot,\n",
    "    x=\"int_rate_bin\",\n",
    "    y=\"count\",\n",
    "    facet_col=\"term\",\n",
    "    facet_row=\"grade\",\n",
    "    color=\"sub_grade\",\n",
    "    barnorm=\"fraction\",\n",
    "    labels={\n",
    "        \"count\": \"Number of loans\",\n",
    "        \"int_rate_bin\": \"Interest rate\",\n",
    "        \"grade\": \"Grade\",\n",
    "        \"term\": \"Term\",\n",
    "        \"sub_grade\": \"Sub-grade\",\n",
    "    },\n",
    "    title=\"Distribution of loan interest rate by loan grade, sub-grade, and term\",\n",
    "    height=1200,\n",
    ")\n",
    "\n",
    "\n",
    "def clean_up_hovertemplate(trace):\n",
    "    trace.hovertemplate = trace.hovertemplate.replace(\n",
    "        \"sum of Number of loans (normalized as fraction)\", \"Percentage\"\n",
    "    )\n",
    "\n",
    "\n",
    "fig.for_each_trace(clean_up_hovertemplate)\n",
    "fig.update_xaxes(tickmode=\"array\", tickvals=int_rate_tick_vals, tickangle=45)\n",
    "fig.update_yaxes(tickformat=\".2p\", title_text=\"\")\n",
    "fig.update_layout(bargap=0, yaxis7_title=\"Percentage of loans\")\n",
    "fig.show()"
   ]
  },
  {
   "cell_type": "markdown",
   "id": "7e374bc6-1b2a-435f-8196-1e7a84404d01",
   "metadata": {},
   "source": [
    "The dependence of interest rate on loan term is not clearly visible in the plots above.\n",
    "To give a clearer view of this dependence, group the loans based on grade and term, and\n",
    "for each group, calculate the mean interest rate."
   ]
  },
  {
   "cell_type": "code",
   "execution_count": null,
   "id": "19308ea8-51e8-42c8-9e28-e79e86c37b9c",
   "metadata": {},
   "outputs": [],
   "source": [
    "to_plot = (\n",
    "    loan_data[[\"int_rate\", \"grade\", \"term\"]]\n",
    "    .assign(\n",
    "        term=loan_data[\"term\"].map(lambda n: str(n) + \" months\"),\n",
    "        int_rate=loan_data[\"int_rate\"] / 100,\n",
    "    )\n",
    "    .groupby([\"grade\", \"term\"])\n",
    "    .mean()\n",
    "    .reset_index()\n",
    ")\n",
    "fig = px.bar(\n",
    "    to_plot,\n",
    "    x=\"grade\",\n",
    "    y=\"int_rate\",\n",
    "    color=\"term\",\n",
    "    barmode=\"group\",\n",
    "    labels={\"grade\": \"Grade\", \"int_rate\": \"Mean interest rate\", \"term\": \"Loan term\"},\n",
    "    hover_data={\"int_rate\": \":.3p\"},\n",
    "    title=\"Mean interest rate by loan grade and loan term\",\n",
    ")\n",
    "fig.update_yaxes(tickformat=\".2p\")\n",
    "fig.show()"
   ]
  },
  {
   "cell_type": "markdown",
   "id": "051674bb-f25c-4c8d-9dbe-90229e59f035",
   "metadata": {},
   "source": [
    "- For loan grades of 'D' or higher, the rate for the 60-month loan is greater than or\n",
    "equal to the rate for the 36-month loan.\n",
    "- For the lower-grade loans, the rate for the 36-month loan is higher."
   ]
  },
  {
   "cell_type": "markdown",
   "id": "f48433c3-dc6e-4b30-8011-baf6adb25ad6",
   "metadata": {},
   "source": [
    "## Correlation of interest rate with loan date"
   ]
  },
  {
   "cell_type": "code",
   "execution_count": null,
   "id": "64c0cb41-36d5-4e32-9210-9a694f03f884",
   "metadata": {},
   "outputs": [],
   "source": [
    "to_plot = (\n",
    "    loan_data[[\"int_rate\", \"normalized_int_rate\", \"issue_d\"]]\n",
    "    .groupby(\"issue_d\")\n",
    "    .mean()\n",
    "    .reset_index()\n",
    "    .rename(columns={\"int_rate\": \"raw\", \"normalized_int_rate\": \"normalized\"})\n",
    "    .melt(id_vars=\"issue_d\", var_name=\"type\", value_name=\"int_rate\")\n",
    "    .assign(int_rate=lambda df: df[\"int_rate\"] / 100)\n",
    ")\n",
    "fig = px.line(\n",
    "    to_plot,\n",
    "    x=\"issue_d\",\n",
    "    y=\"int_rate\",\n",
    "    color=\"type\",\n",
    "    facet_row=\"type\",\n",
    "    markers=True,\n",
    "    labels={\n",
    "        \"int_rate\": \"Mean interest rate\",\n",
    "        \"issue_d\": \"Loan date\",\n",
    "        \"type\": \"Interest-rate type\",\n",
    "    },\n",
    "    hover_data={\"int_rate\": \":.3p\"},\n",
    "    title=\"Mean interest rate by loan date\",\n",
    "    height=400,\n",
    ")\n",
    "fig.for_each_annotation(\n",
    "    lambda ann: ann.update(text=ann.text.replace(\"Interest-rate \", \"\"))\n",
    ")\n",
    "fig.update_yaxes(tickformat=\".2p\", title=\"Interest rate\")\n",
    "fig.show()"
   ]
  },
  {
   "cell_type": "markdown",
   "id": "f06b3b79-8dbe-49ee-818e-71cc5b231fb8",
   "metadata": {},
   "source": [
    "Although there are distinct differences between the curves for raw and normalized\n",
    "interest rates, the two curves are qualitatively similar.\n",
    "\n",
    "The historical interest rates do not explain the variation in the mean interest rate as\n",
    "a function of loan date.\n",
    "\n",
    "The analysis earlier in this notebook suggests that loan grade is the dominant factor\n",
    "determining interest rate. Check the dependence of interest rate on loan date for loans\n",
    "of a particular grade."
   ]
  },
  {
   "cell_type": "code",
   "execution_count": null,
   "id": "5fa2bb38-8ffa-4de7-ab20-211ba811e6d6",
   "metadata": {},
   "outputs": [],
   "source": [
    "to_plot = (\n",
    "    loan_data[[\"int_rate\", \"grade\", \"issue_d\"]]\n",
    "    .groupby([\"issue_d\", \"grade\"])\n",
    "    .mean()\n",
    "    .reset_index()\n",
    "    .assign(int_rate=lambda df: df[\"int_rate\"] / 100)\n",
    ")\n",
    "to_plot\n",
    "fig = px.line(\n",
    "    to_plot,\n",
    "    x=\"issue_d\",\n",
    "    y=\"int_rate\",\n",
    "    color=\"grade\",\n",
    "    facet_row=\"grade\",\n",
    "    markers=True,\n",
    "    labels={\n",
    "        \"int_rate\": \"Mean interest rate\",\n",
    "        \"issue_d\": \"Loan date\",\n",
    "        \"grade\": \"Loan grade\",\n",
    "    },\n",
    "    hover_data={\"int_rate\": \":.3p\"},\n",
    "    title=\"Mean interest rate by loan grade an loan date\",\n",
    "    height=800,\n",
    ")\n",
    "fig.for_each_annotation(lambda ann: ann.update(text=ann.text.replace(\"Loan \", \"\")))\n",
    "fig.update_yaxes(tickformat=\".2p\", title=\"\")\n",
    "fig.update_layout(bargap=0, yaxis4_title=\"Interest rate\")\n",
    "fig.show()"
   ]
  },
  {
   "cell_type": "markdown",
   "id": "e0b64487-19c3-4297-afd2-fc261866e0ad",
   "metadata": {},
   "source": [
    "- For loans of grade 'D' or higher, the mean interest rate charged for loans of a given\n",
    "grade is essentially constant during the period covered by the dataset.\n",
    "\n",
    "- For lower-grade loans, the mean interest rate charged for loans of a particular grade\n",
    "tends to increase for later loan date."
   ]
  }
 ],
 "metadata": {
  "kernelspec": {
   "display_name": "Python 3 (ipykernel)",
   "language": "python",
   "name": "python3"
  },
  "language_info": {
   "codemirror_mode": {
    "name": "ipython",
    "version": 3
   },
   "file_extension": ".py",
   "mimetype": "text/x-python",
   "name": "python",
   "nbconvert_exporter": "python",
   "pygments_lexer": "ipython3",
   "version": "3.11.4"
  }
 },
 "nbformat": 4,
 "nbformat_minor": 5
}
