{
 "cells": [
  {
   "cell_type": "markdown",
   "id": "544c4b3b-039e-4f9d-b919-7fc9fd1ff2e2",
   "metadata": {},
   "source": [
    "# Analysis of loan outcome\n",
    "\n",
    "- [Failure rate](#Failure-rate)\n",
    "\n",
    "    - The dependence of failure rate on loan grade and sub-grade is qualitatively\n",
    "    similar to the dependence of interest rate on these features.\n",
    "\n",
    "        - The failure rate increases steadily with poorer loan grade.\n",
    "\n",
    "        - For high-grade loans, the failure rate increases steady with poorer loan\n",
    "        sub-grade.\n",
    "\n",
    "        - For low-grade loans, the dependence of failure rate on sub-grade is complex.\n",
    "\n",
    "    - The variation in interest rate as a function of loan grade and sub-grade is much\n",
    "    smaller that the variation in failure rate.\n",
    "\n",
    "    - For high-grade loans, loans with a shorter term are slightly more likely to fail,\n",
    "    while for low-grade loans, the opposite is true.\n",
    "\n",
    "- [Duration](#Duration)\n",
    "\n",
    "    - Most loans have a duration much shorter than the loan term.  Mean loan durations:\n",
    "\n",
    "        - 20.6 months for 36-month loans.\n",
    "\n",
    "        - 20.7 months for 60-month loans.\n",
    "\n",
    "    - Including only loans that are fully paid, rather than loans that are in default or\n",
    "    been charged off, does not significantly change the mean loan durations.\n",
    "\n",
    "    - Among loans that are fully paid, the loan duration tends to decrease for poorer\n",
    "    loan grades.  Mean loan durations:\n",
    "\n",
    "        - 22.5 months for loans of grade 'A'.\n",
    "\n",
    "        - 17.5 months for loans of grade 'G'.\n",
    "\n",
    "- [Profit](#Profit)\n",
    "\n",
    "- [Estimated rate of return](#Estimated-rate-of-return)"
   ]
  },
  {
   "cell_type": "code",
   "execution_count": null,
   "id": "606b6951-8b75-4127-aca4-656e326ddaa7",
   "metadata": {},
   "outputs": [],
   "source": [
    "import re\n",
    "\n",
    "import matplotlib.pyplot as plt\n",
    "import numpy as np\n",
    "import pandas as pd\n",
    "import plotly.express as px\n",
    "import seaborn as sns\n",
    "from IPython.display import display\n",
    "from matplotlib.ticker import PercentFormatter\n",
    "\n",
    "import notebook_tools.database as db\n",
    "from notebook_tools.derived_features import (\n",
    "    get_annualized_return,\n",
    "    get_duration,\n",
    "    get_profit,\n",
    ")\n",
    "from notebook_tools.feature_exploration import (\n",
    "    get_group_sizes,\n",
    "    get_value_counts,\n",
    "    style_value_counts,\n",
    ")"
   ]
  },
  {
   "cell_type": "code",
   "execution_count": null,
   "id": "2daf8f05-c381-4904-b90b-fe585493c9d4",
   "metadata": {},
   "outputs": [],
   "source": [
    "loan_data = db.get_loan_data()\n",
    "loan_metadata = db.get_loan_metadata()"
   ]
  },
  {
   "cell_type": "code",
   "execution_count": null,
   "id": "75e6b1c9-0c4a-4486-971d-97a486714bb6",
   "metadata": {},
   "outputs": [],
   "source": [
    "loan_data[\"term\"] = loan_data[\"term\"].map(lambda n: str(n) + \" months\")"
   ]
  },
  {
   "cell_type": "code",
   "execution_count": null,
   "id": "3a8244d1-ea37-4cc7-a252-84ceee082ed4",
   "metadata": {},
   "outputs": [],
   "source": [
    "loan_status_counts = get_value_counts(loan_data[\"loan_status\"])\n",
    "display(style_value_counts(loan_status_counts))"
   ]
  },
  {
   "cell_type": "markdown",
   "id": "24d4cc6b-6535-485a-89c9-f3c9bf0e86e6",
   "metadata": {},
   "source": [
    "## Failure rate"
   ]
  },
  {
   "cell_type": "markdown",
   "id": "7bdffa7c-cb30-4143-a244-77b27cbf4875",
   "metadata": {},
   "source": [
    "As explained on LendingClub's [site](https://www.lendingclub.com/help/investing-faq/what-do-the-different-note-statuses-mean),\n",
    "the first two tranches of loan delinquency are:\n",
    "\n",
    "- Late (16-30 days)\n",
    "- Late (31-120 days)\n",
    "\n",
    "The next two stages are:\n",
    "\n",
    "- Default\n",
    "- Charged off\n",
    "\n",
    "The loan status becomes \"Default\" when the loan has not been current for more than 120\n",
    "days. A loan status of \"Charged off\" indicates that LendingClub \"no longer reasonable\n",
    "expect\\[s\\] further payments.\" Normally this occurs within 30 days of the time the loan\n",
    "enters \"Default\" status."
   ]
  },
  {
   "cell_type": "markdown",
   "id": "babe6c2a-ab25-4006-b6cd-2c49590bc54d",
   "metadata": {},
   "source": [
    "What percentage of loans go beyond delinquency?"
   ]
  },
  {
   "cell_type": "code",
   "execution_count": null,
   "id": "35b481b9-3691-4438-99a3-2beb61a0ae4b",
   "metadata": {},
   "outputs": [],
   "source": [
    "loan_data[\"loan_failed\"] = loan_data[\"loan_status\"].map(\n",
    "    lambda status: True if status in [\"Default\", \"Charged Off\"] else False\n",
    ")"
   ]
  },
  {
   "cell_type": "code",
   "execution_count": null,
   "id": "74a6523a-cb8d-4b5f-8768-d4179adfaa3e",
   "metadata": {},
   "outputs": [],
   "source": [
    "to_plot = loan_data[[\"grade\", \"loan_failed\"]].groupby(\"grade\").mean().reset_index()\n",
    "fig = px.bar(\n",
    "    to_plot,\n",
    "    x=\"grade\",\n",
    "    y=\"loan_failed\",\n",
    "    labels={\"grade\": \"Loan grade\", \"loan_failed\": \"Percent failed\"},\n",
    "    title=\"Percentage of failed loans (default or charged off) by loan grade\",\n",
    "    hover_data={\"loan_failed\": \":.3p\"},\n",
    ")\n",
    "fig.update_yaxes(tickformat=\".0%\")\n",
    "fig.show()"
   ]
  },
  {
   "cell_type": "code",
   "execution_count": null,
   "id": "8def8a0a-00b3-4554-a6e6-8d32047c4fd7",
   "metadata": {},
   "outputs": [],
   "source": [
    "to_plot = (\n",
    "    loan_data[[\"grade\", \"sub_grade\", \"loan_failed\"]]\n",
    "    .groupby([\"grade\", \"sub_grade\"])\n",
    "    .mean()\n",
    "    .reset_index()\n",
    ")\n",
    "fig = px.bar(\n",
    "    to_plot,\n",
    "    x=\"sub_grade\",\n",
    "    y=\"loan_failed\",\n",
    "    color=\"grade\",\n",
    "    labels={\n",
    "        \"grade\": \"Loan grade\",\n",
    "        \"sub_grade\": \"Loan sub-grade\",\n",
    "        \"loan_failed\": \"Percent failed\",\n",
    "    },\n",
    "    title=(\n",
    "        \"Percentage of failed loans (default or charged off) \"\n",
    "        \"by loan grade and sub-grade\"\n",
    "    ),\n",
    "    hover_data={\"loan_failed\": \":.3p\"},\n",
    ")\n",
    "fig.update_yaxes(tickformat=\".0%\")\n",
    "fig.show()"
   ]
  },
  {
   "cell_type": "markdown",
   "id": "801b77be-46bf-4b4d-98a2-881733555b71",
   "metadata": {},
   "source": [
    "The [notebook that analyzes interest rate](./analysis-01.html) shows the following:\n",
    "\n",
    "- Interest rate increases systematically with loan grade\n",
    "- For loans with a high grade, the interest rate varies systematically with loan\n",
    "sub-grade.\n",
    "- For loans with a low grade, the dependence of interest rate on sub-grade is complex.\n",
    "\n",
    "The two charts above show that similar conclusions hold if \"interest rate\" is replaced\n",
    "by \"percentage of loan failures.\"\n",
    "\n",
    "Note, however, that the variation in interest rates is distinctly smaller than the\n",
    "variation in the percentage of loan failures. The next two cells compare these two\n",
    "ranges."
   ]
  },
  {
   "cell_type": "code",
   "execution_count": null,
   "id": "42bc4794-8047-4cfb-89b4-e6ad72cd7374",
   "metadata": {},
   "outputs": [],
   "source": [
    "min = loan_data[\"int_rate\"].min()\n",
    "max = loan_data[\"int_rate\"].max()\n",
    "print(\n",
    "    'The minimum and maximum values of \"int_rate\" are '\n",
    "    f\"{min/100:.2%} and {max/100:.2%}, respectively.\"\n",
    ")\n",
    "print(f\"The ratio of maximum interest rate to minimum is {max/min:.1f}.\")"
   ]
  },
  {
   "cell_type": "code",
   "execution_count": null,
   "id": "e9624e0b-6af1-453a-b10d-d5046c2a8ee6",
   "metadata": {},
   "outputs": [],
   "source": [
    "min = to_plot[\"loan_failed\"].min()\n",
    "max = to_plot[\"loan_failed\"].max()\n",
    "print(\n",
    "    \"The minimum and maximum percentage of failed loans are \"\n",
    "    f\"{min:.2%} and {max:.2%}, respectively.\"\n",
    ")\n",
    "print(f\"The ratio of maximum failure rate to minimum is {max/min:.1f}.\")"
   ]
  },
  {
   "cell_type": "code",
   "execution_count": null,
   "id": "aff2fc09-5c83-4d1e-a60b-c14598b40142",
   "metadata": {},
   "outputs": [],
   "source": [
    "to_plot = loan_data[[\"term\", \"loan_failed\"]].groupby(\"term\").mean().reset_index()\n",
    "fig = px.bar(\n",
    "    to_plot,\n",
    "    x=\"term\",\n",
    "    y=\"loan_failed\",\n",
    "    labels={\"term\": \"Loan term\", \"loan_failed\": \"Percent failed\"},\n",
    "    title=\"Percentage of failed loans by loan grade\",\n",
    "    hover_data={\"loan_failed\": \":.3p\"},\n",
    ")\n",
    "fig.update_yaxes(tickformat=\".0%\")\n",
    "fig.show()"
   ]
  },
  {
   "cell_type": "markdown",
   "id": "d59116fb-6ebc-491d-af2f-14d4ce951ef5",
   "metadata": {},
   "source": [
    "The [notebook that explores correlations](./correlations-01.html) shows that the loan\n",
    "term is strongly correlated with loan grade, tending to increase with poorer loan grade.\n",
    "This correlation is the underlying cause of the dependence of failure rate on loan term\n",
    "shown in the previous plot."
   ]
  },
  {
   "cell_type": "code",
   "execution_count": null,
   "id": "5361a7a3-673b-4378-834e-532d6cc3b2c9",
   "metadata": {},
   "outputs": [],
   "source": [
    "to_plot = (\n",
    "    loan_data[[\"grade\", \"term\", \"loan_failed\"]]\n",
    "    .groupby([\"grade\", \"term\"])\n",
    "    .mean()\n",
    "    .reset_index()\n",
    ")\n",
    "fig = px.bar(\n",
    "    to_plot,\n",
    "    x=\"grade\",\n",
    "    y=\"loan_failed\",\n",
    "    color=\"term\",\n",
    "    barmode=\"group\",\n",
    "    labels={\n",
    "        \"grade\": \"Loan grade\",\n",
    "        \"loan_failed\": \"Percent failed\",\n",
    "        \"term\": \"Loan term\",\n",
    "    },\n",
    "    title=\"Percentage of failed loans by loan grade and loan term\",\n",
    "    hover_data={\"loan_failed\": \":.3p\"},\n",
    ")\n",
    "fig.update_yaxes(tickformat=\".0%\")\n",
    "fig.show()"
   ]
  },
  {
   "cell_type": "markdown",
   "id": "22b2b8e2-4e96-4670-8a83-6d77b5f5b90a",
   "metadata": {},
   "source": [
    "- For high-grade loans, loans with a shorter term are more likely to fail.\n",
    "- The opposite is true for loans with low grades."
   ]
  },
  {
   "cell_type": "markdown",
   "id": "3353f1dd-bcd5-4b43-a3b0-6af4c81dc5d9",
   "metadata": {},
   "source": [
    "## Duration"
   ]
  },
  {
   "cell_type": "markdown",
   "id": "92af42ce-477e-44be-b181-96864a6ae67a",
   "metadata": {},
   "source": [
    "How do loan durations compare to loan terms?\n",
    "\n",
    "In exploring this question, filter out loans where payments are still in progress."
   ]
  },
  {
   "cell_type": "code",
   "execution_count": null,
   "id": "f1d9c08d-a071-49a5-9c11-37f0999deecf",
   "metadata": {},
   "outputs": [],
   "source": [
    "bool_index = loan_data[\"loan_status\"].isin([\"Fully Paid\", \"Charged Off\", \"Default\"])\n",
    "closed_loans = loan_data[bool_index].assign(\n",
    "    loan_duration=lambda df: get_duration(df, \"issue_d\", \"last_pymnt_d\"),\n",
    "    loan_failed=lambda df: df[\"loan_failed\"].map({True: \"true\", False: \"false\"}),\n",
    ")"
   ]
  },
  {
   "cell_type": "code",
   "execution_count": null,
   "id": "4d59d844-0552-4f21-a9b9-4d647c2acf35",
   "metadata": {},
   "outputs": [],
   "source": [
    "to_plot = get_group_sizes(closed_loans, group_by=[\"term\", \"loan_duration\"])\n",
    "fig = px.bar(\n",
    "    to_plot,\n",
    "    x=\"loan_duration\",\n",
    "    y=\"count\",\n",
    "    color=\"term\",\n",
    "    facet_row=\"term\",\n",
    "    labels={\n",
    "        \"loan_duration\": \"Loan duration\",\n",
    "        \"count\": \"Number of loans\",\n",
    "        \"term\": \"Loan term\",\n",
    "    },\n",
    "    title=\"Distribution of loan duration by loan term\",\n",
    "    hover_data={\"count\": \":.3s\"},\n",
    "    height=500,\n",
    ")\n",
    "\n",
    "\n",
    "def clean_up_hovertemplate(trace):\n",
    "    trace.hovertemplate = re.sub(\n",
    "        r\"(Loan duration.*?})\",\n",
    "        r\"\\1 months\",\n",
    "        trace.hovertemplate,\n",
    "    )\n",
    "\n",
    "\n",
    "fig.for_each_trace(clean_up_hovertemplate)\n",
    "fig.for_each_annotation(\n",
    "    lambda ann: ann.update(text=ann.text.replace(\"Loan term\", \"Term\"))\n",
    ")\n",
    "fig.update_yaxes(matches=None)\n",
    "fig.update_layout(xaxis1_title=\"Loan duration (months)\")\n",
    "fig.show()"
   ]
  },
  {
   "cell_type": "code",
   "execution_count": null,
   "id": "e23b767b-ec03-492c-a794-82df7e6027ae",
   "metadata": {},
   "outputs": [],
   "source": [
    "to_plot = closed_loans[[\"term\", \"loan_duration\"]].groupby(\"term\").mean().reset_index()\n",
    "fig = px.bar(\n",
    "    to_plot,\n",
    "    x=\"term\",\n",
    "    y=\"loan_duration\",\n",
    "    color=\"term\",\n",
    "    labels={\n",
    "        \"loan_duration\": \"Mean loan duration\",\n",
    "        \"term\": \"Loan term\",\n",
    "    },\n",
    "    title=\"Mean loan duration by loan term\",\n",
    "    hover_data={\"loan_duration\": \":.1f\"},\n",
    ")\n",
    "\n",
    "\n",
    "def clean_up_hovertemplate(trace):\n",
    "    trace.hovertemplate = re.sub(\n",
    "        r\"(Mean loan duration.*?})<\",\n",
    "        r\"\\1 months<\",\n",
    "        trace.hovertemplate,\n",
    "    )\n",
    "\n",
    "\n",
    "fig.for_each_trace(clean_up_hovertemplate)\n",
    "fig.update_yaxes(title=\"Mean loan duration (months)\")\n",
    "fig.show()"
   ]
  },
  {
   "cell_type": "markdown",
   "id": "ad17d1d3-e307-4d97-81a1-dcf1864976ae",
   "metadata": {},
   "source": [
    "The duration of most loans is much shorter than the loan term.\n",
    "\n",
    "Is there a significant difference if we only consider loans that are fully paid, rather\n",
    "than loans that are in default or been charged off?"
   ]
  },
  {
   "cell_type": "code",
   "execution_count": null,
   "id": "ae97bc68-18c7-45b0-add5-92ffc95d2cc3",
   "metadata": {},
   "outputs": [],
   "source": [
    "to_plot = get_group_sizes(\n",
    "    closed_loans, group_by=[\"term\", \"loan_failed\", \"loan_duration\"]\n",
    ")\n",
    "fig = px.bar(\n",
    "    to_plot,\n",
    "    x=\"loan_duration\",\n",
    "    y=\"count\",\n",
    "    color=\"term\",\n",
    "    facet_row=\"term\",\n",
    "    facet_col=\"loan_failed\",\n",
    "    labels={\n",
    "        \"loan_duration\": \"Loan duration\",\n",
    "        \"count\": \"Number of loans\",\n",
    "        \"term\": \"Loan term\",\n",
    "        \"loan_failed\": \"Loan failed\",\n",
    "    },\n",
    "    title=\"Distribution of loan duration by loan outcome and loan term\",\n",
    "    hover_data={\"count\": \":.3s\"},\n",
    "    facet_col_spacing=0.06,\n",
    "    height=500,\n",
    ")\n",
    "\n",
    "\n",
    "def clean_up_hovertemplate(trace):\n",
    "    trace.hovertemplate = re.sub(\n",
    "        r\"(Loan duration.*?})\",\n",
    "        r\"\\1 months\",\n",
    "        trace.hovertemplate,\n",
    "    )\n",
    "\n",
    "\n",
    "fig.for_each_trace(clean_up_hovertemplate)\n",
    "fig.for_each_annotation(\n",
    "    lambda ann: ann.update(text=ann.text.replace(\"Loan term\", \"Term\"))\n",
    ")\n",
    "fig.update_yaxes(matches=None, showticklabels=True)\n",
    "fig.update_layout(\n",
    "    xaxis1_title=\"Loan duration (months)\", xaxis2_title=\"Loan duration (months)\"\n",
    ")\n",
    "fig.show()"
   ]
  },
  {
   "cell_type": "code",
   "execution_count": null,
   "id": "d614784f-b474-40ea-a4f5-01aa724c13f5",
   "metadata": {},
   "outputs": [],
   "source": [
    "to_plot = (\n",
    "    closed_loans[[\"term\", \"loan_failed\", \"loan_duration\"]]\n",
    "    .groupby([\"term\", \"loan_failed\"])\n",
    "    .mean()\n",
    "    .reset_index()\n",
    ")\n",
    "fig = px.bar(\n",
    "    to_plot,\n",
    "    x=\"loan_failed\",\n",
    "    y=\"loan_duration\",\n",
    "    color=\"term\",\n",
    "    barmode=\"group\",\n",
    "    labels={\n",
    "        \"loan_duration\": \"Mean loan duration\",\n",
    "        \"loan_failed\": \"Loan failed\",\n",
    "        \"term\": \"Loan term\",\n",
    "    },\n",
    "    title=\"Mean loan duration by loan outcome and loan term\",\n",
    "    hover_data={\"loan_duration\": \":.1f\"},\n",
    ")\n",
    "\n",
    "\n",
    "def clean_up_hovertemplate(trace):\n",
    "    trace.hovertemplate = re.sub(\n",
    "        r\"(Mean loan duration.*?})\",\n",
    "        r\"\\1 months\",\n",
    "        trace.hovertemplate,\n",
    "    )\n",
    "\n",
    "\n",
    "fig.for_each_trace(clean_up_hovertemplate)\n",
    "fig.update_yaxes(title=\"Mean loan duration (months)\")\n",
    "fig.show()"
   ]
  },
  {
   "cell_type": "markdown",
   "id": "3a055a6b-0297-40da-b41b-109711e1388f",
   "metadata": {},
   "source": [
    "With loans that are in default or been charged off excluded from the analysis, the\n",
    "qualitative pattern is similar:  the duration of most loans is much shorter than the\n",
    "loan term."
   ]
  },
  {
   "cell_type": "markdown",
   "id": "cf24cbf0-0f16-4288-84b9-b1186cae18a1",
   "metadata": {},
   "source": [
    "Continuing to consider only loans that are fully paid, do we find a correlation between\n",
    "loan grade and loan duration?"
   ]
  },
  {
   "cell_type": "code",
   "execution_count": null,
   "id": "612b8150-d27c-4664-bd35-a2da4ca0f80c",
   "metadata": {},
   "outputs": [],
   "source": [
    "paid_loans = closed_loans[closed_loans[\"loan_failed\"] == \"false\"]"
   ]
  },
  {
   "cell_type": "code",
   "execution_count": null,
   "id": "1d89657e-b218-44c4-8dff-41c4d1c02210",
   "metadata": {},
   "outputs": [],
   "source": [
    "to_plot = paid_loans[[\"grade\", \"loan_duration\"]].groupby(\"grade\").mean().reset_index()\n",
    "fig = px.bar(\n",
    "    to_plot,\n",
    "    x=\"grade\",\n",
    "    y=\"loan_duration\",\n",
    "    labels={\n",
    "        \"grade\": \"Grade\",\n",
    "        \"loan_duration\": \"Mean loan duration\",\n",
    "    },\n",
    "    title=\"Mean loan duration for fully paid loans by loan grade\",\n",
    "    hover_data={\"loan_duration\": \":.1f\"},\n",
    ")\n",
    "\n",
    "\n",
    "def clean_up_hovertemplate(trace):\n",
    "    trace.hovertemplate = re.sub(\n",
    "        r\"(Mean loan duration.*?})\",\n",
    "        r\"\\1 months\",\n",
    "        trace.hovertemplate,\n",
    "    )\n",
    "\n",
    "\n",
    "fig.for_each_trace(clean_up_hovertemplate)\n",
    "fig.update_yaxes(title=\"Mean loan duration (months)\")\n",
    "fig.show()"
   ]
  },
  {
   "cell_type": "markdown",
   "id": "2b7ab064-adda-487a-a17a-682e9166f8c7",
   "metadata": {},
   "source": [
    "The loan duration tends to decrease for poorer loan grades.\n",
    "\n",
    "The next two plots illustrate the correlation in greater detail."
   ]
  },
  {
   "cell_type": "code",
   "execution_count": null,
   "id": "72f08569-1635-48f7-8aa0-ee720ead214a",
   "metadata": {},
   "outputs": [],
   "source": [
    "to_plot = (\n",
    "    paid_loans[[\"term\", \"grade\", \"loan_duration\"]]\n",
    "    .groupby([\"term\", \"grade\"])\n",
    "    .mean()\n",
    "    .reset_index()\n",
    ")\n",
    "fig = px.bar(\n",
    "    to_plot,\n",
    "    x=\"grade\",\n",
    "    y=\"loan_duration\",\n",
    "    color=\"term\",\n",
    "    barmode=\"group\",\n",
    "    labels={\n",
    "        \"grade\": \"Grade\",\n",
    "        \"loan_duration\": \"Mean loan duration\",\n",
    "        \"term\": \"Loan term\",\n",
    "    },\n",
    "    title=\"Mean loan duration for fully paid loans by loan grade and term\",\n",
    "    hover_data={\"loan_duration\": \":.1f\"},\n",
    ")\n",
    "\n",
    "\n",
    "def clean_up_hovertemplate(trace):\n",
    "    trace.hovertemplate = re.sub(\n",
    "        r\"(Mean loan duration.*?})\",\n",
    "        r\"\\1 months\",\n",
    "        trace.hovertemplate,\n",
    "    )\n",
    "\n",
    "\n",
    "fig.for_each_trace(clean_up_hovertemplate)\n",
    "fig.update_yaxes(title=\"Mean loan duration (months)\")\n",
    "fig.show()"
   ]
  },
  {
   "cell_type": "code",
   "execution_count": null,
   "id": "fe082606-e055-4449-8887-b9852e1a84be",
   "metadata": {},
   "outputs": [],
   "source": [
    "to_plot = get_group_sizes(paid_loans, group_by=[\"term\", \"grade\", \"loan_duration\"])\n",
    "fig = px.bar(\n",
    "    to_plot,\n",
    "    x=\"loan_duration\",\n",
    "    y=\"count\",\n",
    "    color=\"term\",\n",
    "    facet_row=\"grade\",\n",
    "    facet_col=\"term\",\n",
    "    labels={\n",
    "        \"loan_duration\": \"Loan duration\",\n",
    "        \"count\": \"Number of loans\",\n",
    "        \"term\": \"Loan term\",\n",
    "        \"grade\": \"Grade\",\n",
    "    },\n",
    "    title=(\n",
    "        \"Distribution of loan duration for fully paid loans \" \"by loan grade and term\"\n",
    "    ),\n",
    "    hover_data={\"count\": \":.3s\"},\n",
    "    facet_col_spacing=0.06,\n",
    "    height=800,\n",
    ")\n",
    "\n",
    "\n",
    "def clean_up_hovertemplate(trace):\n",
    "    trace.hovertemplate = re.sub(\n",
    "        r\"(Loan duration.*?})\",\n",
    "        r\"\\1 months\",\n",
    "        trace.hovertemplate,\n",
    "    )\n",
    "\n",
    "\n",
    "fig.for_each_trace(clean_up_hovertemplate)\n",
    "fig.for_each_annotation(\n",
    "    lambda ann: ann.update(text=ann.text.replace(\"Loan term\", \"Term\"))\n",
    ")\n",
    "fig.update_yaxes(matches=None, showticklabels=True, title=\"\")\n",
    "fig.update_layout(\n",
    "    xaxis1_title=\"Loan duration (months)\",\n",
    "    xaxis2_title=\"Loan duration (months)\",\n",
    "    yaxis7_title=\"Number of loans\",\n",
    ")\n",
    "fig.show()"
   ]
  },
  {
   "cell_type": "markdown",
   "id": "a110f9ce-3323-4d4e-97d9-27817be432ee",
   "metadata": {},
   "source": [
    "## Profit"
   ]
  },
  {
   "cell_type": "markdown",
   "id": "585cff62-0d52-4069-b56f-415ebbef4981",
   "metadata": {},
   "source": [
    "### Calculation"
   ]
  },
  {
   "cell_type": "markdown",
   "id": "52113038-9f69-4f4f-879d-087c64d9cd74",
   "metadata": {},
   "source": [
    "The calculation of profit as a percentage of principal is simple:\n",
    "\n",
    "$$\n",
    "  \\text{percent profit} = \\frac{\\text{total payments} - \\text{principal}}{\\text{principal}}\n",
    "$$\n",
    "\n",
    "This calculation is done by the `get_profit` function from `notebook_tools.derived_features`."
   ]
  },
  {
   "cell_type": "markdown",
   "id": "6c4efb94-6c78-455b-bcc7-98d20e4a99b9",
   "metadata": {},
   "source": [
    "As discussed in the [notebook that filters data](./data-cleaning-02.html), the dataset includes a few loans for which the feature `funded_amnt` is\n",
    "different than `loan_amnt`.  Consistent with the fact that `loan_amnt` represents the amount requested by the borrower, `funded_amnt` is always less than or equal to `funded_amnt`.\n",
    "\n",
    "Conclusion: `funded_amnt` should be used as the principal in calculating profit."
   ]
  },
  {
   "cell_type": "code",
   "execution_count": null,
   "id": "604e95bf-69ab-4e6c-a49f-f34daeedc20b",
   "metadata": {},
   "outputs": [],
   "source": [
    "closed_loans[\"profit\"] = get_profit(closed_loans, \"total_pymnt\", \"funded_amnt\")"
   ]
  },
  {
   "cell_type": "markdown",
   "id": "240ced5f-9f83-4bb7-86b6-fd5560d56350",
   "metadata": {},
   "source": [
    "### Analysis"
   ]
  },
  {
   "cell_type": "markdown",
   "id": "f149b3f5-508f-418c-a076-07f9a5a10a58",
   "metadata": {},
   "source": [
    "What is the distribution of profit / loss from the loans?"
   ]
  },
  {
   "cell_type": "code",
   "execution_count": null,
   "id": "10ff950c-3b0b-436d-93a9-feb13405c621",
   "metadata": {},
   "outputs": [],
   "source": [
    "closed_loans[[\"profit\"]].describe()"
   ]
  },
  {
   "cell_type": "code",
   "execution_count": null,
   "id": "f312e7ae-2fd7-4b38-9a9f-eedc6b1fde9c",
   "metadata": {},
   "outputs": [],
   "source": [
    "mean_profit = closed_loans[\"profit\"].mean()\n",
    "max_loss = closed_loans[\"profit\"].min()\n",
    "max_profit = closed_loans[\"profit\"].max()\n",
    "print(\n",
    "    f\"The mean profit was {mean_profit:.2%}.\\n\"\n",
    "    f\"The maximum loss was {max_loss:.2%} and the \"\n",
    "    f\"maximum profit was {max_profit:.2%}.\"\n",
    ")"
   ]
  },
  {
   "cell_type": "code",
   "execution_count": null,
   "id": "1baea8f9-5a02-484f-90ac-e3fe1b425266",
   "metadata": {},
   "outputs": [],
   "source": [
    "profit_bins = np.linspace(-1.0, 1.18, num=110)\n",
    "profit_bin_labels = [f\"{left:d}% to {left+1.99:.2f}%\" for left in range(-100, 118, 2)]\n",
    "profit_tick_vals = profit_bin_labels[0::25]\n",
    "profit_tick_text = [f\"{left:d}%\" for left in range(-100, 118, 50)]"
   ]
  },
  {
   "cell_type": "code",
   "execution_count": null,
   "id": "57e7637e-871f-4568-adf0-f1499973c72c",
   "metadata": {},
   "outputs": [],
   "source": [
    "closed_loans[\"profit_bin\"] = pd.cut(\n",
    "    closed_loans[\"profit\"], bins=profit_bins, labels=profit_bin_labels, right=False\n",
    ")"
   ]
  },
  {
   "cell_type": "code",
   "execution_count": null,
   "id": "d968b9ee-afbe-49ed-80d3-1118d491880d",
   "metadata": {},
   "outputs": [],
   "source": [
    "to_plot = get_group_sizes(closed_loans, group_by=\"profit_bin\")\n",
    "fig = px.bar(\n",
    "    to_plot,\n",
    "    x=\"profit_bin\",\n",
    "    y=\"count\",\n",
    "    labels={\"profit_bin\": \"Percent profit\", \"count\": \"Number of loans\"},\n",
    "    title=\"Distribution of loan profit\",\n",
    "    hover_data={\"count\": \":.3s\"},\n",
    ")\n",
    "\n",
    "\n",
    "def clean_up_hovertemplate(trace):\n",
    "    trace.customdata = profit_bin_labels\n",
    "    trace.hovertemplate = trace.hovertemplate.replace(\"%{x}\", \"%{customdata}\")\n",
    "\n",
    "\n",
    "fig.for_each_trace(clean_up_hovertemplate)\n",
    "fig.update_layout(bargap=0)\n",
    "fig.update_xaxes(tickmode=\"array\", tickvals=profit_tick_vals, ticktext=profit_tick_text)\n",
    "fig.show()"
   ]
  },
  {
   "cell_type": "code",
   "execution_count": null,
   "id": "81108473-7d1b-4c53-8427-eb1e9fabb924",
   "metadata": {},
   "outputs": [],
   "source": [
    "to_plot = closed_loans[[\"term\", \"profit\"]].groupby(\"term\").mean().reset_index()\n",
    "fig = px.bar(\n",
    "    to_plot,\n",
    "    x=\"term\",\n",
    "    y=\"profit\",\n",
    "    color=\"term\",\n",
    "    labels={\n",
    "        \"term\": \"Loan term\",\n",
    "        \"profit\": \"Mean profit\",\n",
    "    },\n",
    "    title=\"Mean profit by loan term\",\n",
    "    hover_data={\"profit\": \":.3p\"},\n",
    ")\n",
    "fig.update_yaxes(tickformat=\".0%\")\n",
    "fig.show()"
   ]
  },
  {
   "cell_type": "code",
   "execution_count": null,
   "id": "487abc6f-1743-4047-8121-29ddba1643de",
   "metadata": {},
   "outputs": [],
   "source": [
    "to_plot = closed_loans[[\"grade\", \"profit\"]].groupby(\"grade\").mean().reset_index()\n",
    "fig = px.bar(\n",
    "    to_plot,\n",
    "    x=\"grade\",\n",
    "    y=\"profit\",\n",
    "    labels={\n",
    "        \"grade\": \"Loan grade\",\n",
    "        \"profit\": \"Mean profit\",\n",
    "    },\n",
    "    title=\"Mean profit by loan grade\",\n",
    "    hover_data={\"profit\": \":.3p\"},\n",
    ")\n",
    "fig.update_yaxes(tickformat=\".0%\")\n",
    "fig.show()"
   ]
  },
  {
   "cell_type": "code",
   "execution_count": null,
   "id": "575d0d6f-4ad0-4322-8360-466bd505e5f8",
   "metadata": {},
   "outputs": [],
   "source": [
    "to_plot = (\n",
    "    closed_loans[[\"grade\", \"sub_grade\", \"profit\"]]\n",
    "    .groupby([\"grade\", \"sub_grade\"])\n",
    "    .mean()\n",
    "    .reset_index()\n",
    ")\n",
    "fig = px.bar(\n",
    "    to_plot,\n",
    "    x=\"sub_grade\",\n",
    "    y=\"profit\",\n",
    "    color=\"grade\",\n",
    "    labels={\n",
    "        \"grade\": \"Loan grade\",\n",
    "        \"sub_grade\": \"Loan sub-grade\",\n",
    "        \"profit\": \"Mean profit\",\n",
    "    },\n",
    "    title=\"Mean profit by loan grade and sub-grade\",\n",
    "    hover_data={\"profit\": \":.3p\"},\n",
    ")\n",
    "fig.update_yaxes(tickformat=\".0%\")\n",
    "fig.show()"
   ]
  },
  {
   "cell_type": "code",
   "execution_count": null,
   "id": "fee08794-ad9b-4df9-9a0c-87b94d62d039",
   "metadata": {},
   "outputs": [],
   "source": [
    "to_plot = (\n",
    "    closed_loans[[\"grade\", \"term\", \"profit\"]]\n",
    "    .groupby([\"grade\", \"term\"])\n",
    "    .mean()\n",
    "    .reset_index()\n",
    ")\n",
    "fig = px.bar(\n",
    "    to_plot,\n",
    "    x=\"grade\",\n",
    "    y=\"profit\",\n",
    "    color=\"term\",\n",
    "    barmode=\"group\",\n",
    "    labels={\n",
    "        \"grade\": \"Loan grade\",\n",
    "        \"profit\": \"Mean profit\",\n",
    "        \"term\": \"Loan term\",\n",
    "    },\n",
    "    title=\"Mean profit by loan grade and loan term\",\n",
    "    hover_data={\"profit\": \":.3p\"},\n",
    ")\n",
    "fig.update_yaxes(tickformat=\".0%\")\n",
    "fig.show()"
   ]
  },
  {
   "cell_type": "markdown",
   "id": "67af8181-a24e-45a1-bf35-48fadd9b5f53",
   "metadata": {},
   "source": [
    "## Estimate of annualized return"
   ]
  },
  {
   "cell_type": "markdown",
   "id": "9f643247-71fd-422a-8d31-e67e0f19f985",
   "metadata": {},
   "source": [
    "### Calculation"
   ]
  },
  {
   "cell_type": "markdown",
   "id": "f94ba615-59fd-4ca9-a60f-b9d1dba0ed6f",
   "metadata": {},
   "source": [
    "#### Method"
   ]
  },
  {
   "cell_type": "markdown",
   "id": "bde7a5b9-877e-4314-8fff-3812b8aadb68",
   "metadata": {},
   "source": [
    "How can the profit analyzed in the previous section be converted to an annualized rate of return?\n",
    "\n",
    "The [internal rate of return](https://en.wikipedia.org/wiki/Internal_rate_of_return) or IRR can be used to characterize \n",
    "the rate of return on a stream of payments from an amortized loan.\n",
    "However, calculation of the IRR requires knowing the value of each payment in the stream, and this information\n",
    "is not included in our dataset.\n",
    "\n",
    "In estimating an annualized return for each loan, it is natural to consider a simplified model that assumes that all\n",
    "payments made during the loan duration were equal, even in cases where the loan duration was less than the loan term.\n",
    "However, calculation of IRR in general requires a numerical solver, and running a numerical solver for each of the 2.2 million\n",
    "loans in our dataset is likely to be time-consuming.\n",
    "\n",
    "Our analytic goal in doing such a calculation would be to place each loan in a bin representing a range of return rates.\n",
    "This binning can be done without using a numerical solver:\n",
    "\n",
    "- Generate a dataframe $G$ of values for percent profit for amortized loans based on two discretized inputs:\n",
    "\n",
    "    - The loan duration in months, with each value corresponding to a column of the dataframe.\n",
    "    \n",
    "    - The internal rate of return (IRR) for the loan, with each value corresponding to a row of the dataframe.\n",
    "\n",
    "- In the values of profit in this dataframe, assume that all payments are equal.\n",
    "    \n",
    "- For each loan in the dataset, the duration of the loan specifies a column of the dataframe $G$.  Find the two values of profit\n",
    "in this column that bracket the loan's percent profit.  The corresponding two values of IRR define a bin for the loan's estimate IRR."
   ]
  },
  {
   "cell_type": "markdown",
   "id": "c522d62d-b2ed-4312-80ee-d1512c4cfd8e",
   "metadata": {},
   "source": [
    "#### Simpifying assumptions"
   ]
  },
  {
   "cell_type": "markdown",
   "id": "d3248303-190e-49a7-9045-8921d6f693c0",
   "metadata": {},
   "source": [
    "- The major simplifying assumption described in the previous subsection is that all payments are equal, which may be quite inaccurate.\n",
    "However, a calculation performed using this assumption still gives insight not available directly from the calculated profit on the loan.\n",
    "\n",
    "- A second simplifying assumption is to treat loans in the dataset of zero duration as loans of duration 1 month."
   ]
  },
  {
   "cell_type": "markdown",
   "id": "dedb1819-cd33-4948-ac80-0c87cd3dfcd4",
   "metadata": {},
   "source": [
    "To understand the rational for this second assumption, explore the properties of the loans that are fully paid, in default, or charged off but have a loan duration that is undefined or equal to 0."
   ]
  },
  {
   "cell_type": "code",
   "execution_count": null,
   "id": "736ac70f-6d65-49f3-a5de-da4b4a97b244",
   "metadata": {},
   "outputs": [],
   "source": [
    "loans_missing_duration = closed_loans[closed_loans[\"loan_duration\"].isna()]"
   ]
  },
  {
   "cell_type": "code",
   "execution_count": null,
   "id": "c6c5a067-e07c-4a9c-9a01-4a0afdd26300",
   "metadata": {},
   "outputs": [],
   "source": [
    "missing_duration_status_counts = get_value_counts(loans_missing_duration[\"loan_status\"])\n",
    "display(style_value_counts(missing_duration_status_counts))"
   ]
  },
  {
   "cell_type": "markdown",
   "id": "c4c002f5-b668-491d-8c32-07c4b6265cf8",
   "metadata": {},
   "source": [
    "All loans with undefined duration have status \"Charged off\".  Since only loans with status \"Fully Paid\" will be included in the calculation\n",
    "of annualized return, the calculation is not affected by loans with undefined duration."
   ]
  },
  {
   "cell_type": "code",
   "execution_count": null,
   "id": "c48ca372-ae78-4122-8ac0-a773efc5e22e",
   "metadata": {},
   "outputs": [],
   "source": [
    "zero_duration_loans = closed_loans[closed_loans[\"loan_duration\"] == 0]"
   ]
  },
  {
   "cell_type": "code",
   "execution_count": null,
   "id": "edf92046-0102-4e59-95eb-5c2f1d12ac2f",
   "metadata": {},
   "outputs": [],
   "source": [
    "zero_duration_status_counts = get_value_counts(zero_duration_loans[\"loan_status\"])\n",
    "display(style_value_counts(zero_duration_status_counts))"
   ]
  },
  {
   "cell_type": "markdown",
   "id": "cdbc64e2-7cb1-4f2c-8c49-5f1cab1aaff3",
   "metadata": {},
   "source": [
    "Exclude the loans of zero duration that have status \"Charged Off\"."
   ]
  },
  {
   "cell_type": "code",
   "execution_count": null,
   "id": "544825d9-8553-4161-afae-9be2c6ea53b5",
   "metadata": {},
   "outputs": [],
   "source": [
    "bool_index = (closed_loans[\"loan_duration\"] == 0) & (\n",
    "    closed_loans[\"loan_status\"] == \"Fully Paid\"\n",
    ")\n",
    "zero_duration_loans = closed_loans[bool_index]"
   ]
  },
  {
   "cell_type": "code",
   "execution_count": null,
   "id": "777f66bf-5e07-4598-b36f-6d5dac2be252",
   "metadata": {},
   "outputs": [],
   "source": [
    "zero_duration_loans[[\"profit\"]].describe()"
   ]
  },
  {
   "cell_type": "code",
   "execution_count": null,
   "id": "ac686cb5-77e1-4b4d-9799-4715236dd4cf",
   "metadata": {},
   "outputs": [],
   "source": [
    "sns.set_theme()"
   ]
  },
  {
   "cell_type": "code",
   "execution_count": null,
   "id": "5f1a646d-0fcb-404d-b524-cd26d242a535",
   "metadata": {},
   "outputs": [],
   "source": [
    "plot = sns.displot(zero_duration_loans, x=\"profit\", aspect=2.5, bins=100).set(\n",
    "    title=\"Distribution of profit for loans of zero duration\"\n",
    ")\n",
    "ax = plot.facet_axis(0, 0)\n",
    "ax.xaxis.set_major_formatter(PercentFormatter(xmax=1.0, decimals=0))\n",
    "ax.set_xticks([0.0, 0.01, 0.02, 0.03, 0.04])\n",
    "ax.set_xlabel(\"Profit\")\n",
    "plt.show()"
   ]
  },
  {
   "cell_type": "markdown",
   "id": "6f1e8d86-990d-4928-9985-8e45a40a5018",
   "metadata": {},
   "source": [
    "From this chart, it's clear that interest was charged on some loans that had a duration of less than a month.  But in the absence of detailed information about how interest is charged\n",
    "for these loans with a duration of less than a month, annualized returns are estimated as if these\n",
    "loans had a duration of 1 month."
   ]
  },
  {
   "cell_type": "markdown",
   "id": "28150276-5634-4221-b161-d3cf0eedff61",
   "metadata": {},
   "source": [
    "#### Derivation of formula"
   ]
  },
  {
   "cell_type": "markdown",
   "id": "dfcadd7b-8d05-4d6b-bcfa-02bd743fb25b",
   "metadata": {},
   "source": [
    "The function `get_annualized_return` in `notebook_tools.derived_features` calculates the estimated rate of return\n",
    "\n",
    "for loans that are fully paid.\n",
    "\n",
    "The current section derives and checks the formulas used in that function."
   ]
  },
  {
   "cell_type": "markdown",
   "id": "c320104f-2b4c-4602-9c0d-dc5d3b1bd5c6",
   "metadata": {},
   "source": [
    "The [internal rate of return (IRR)](https://en.wikipedia.org/wiki/Internal_rate_of_return) is calculated\n",
    "by finding the [discount rate](https://en.wikipedia.org/wiki/Annual_effective_discount_rate) that causes the [net present value](https://en.wikipedia.org/wiki/Net_present_value) of a stream of payments to be zero.\n",
    "\n",
    "Define the following notation:\n",
    "- $r$ the internal rate of return\n",
    "- $P$ the loan principal\n",
    "- $n$ the number of monthly payments\n",
    "- $M$ the monthly payment\n",
    "- $T$ the total payment, or sum of payments made by the borrower\n",
    "- $G$ the percent profit made by the lender\n",
    "\n",
    "We assume that $r$, $P$, and $n$ are known, while $G$ is to be calculated.  We also assume that $T=nM$, i.e., equal monthly payments are made.\n",
    "\n",
    "Given a net present value of 0, we have\n",
    "\n",
    "$$\n",
    "    0 = -P + \\sum_{i=1}^{n}\\frac{M}{(1+r/12)^n}\n",
    "$$\n",
    "\n",
    "The percent profit is\n",
    "\n",
    "$$\n",
    "    G = \\frac{T - P}{P}\n",
    "$$"
   ]
  },
  {
   "cell_type": "markdown",
   "id": "fd1f6516-918a-49a9-b54a-deee2905f1e9",
   "metadata": {},
   "source": [
    "### Analysis"
   ]
  },
  {
   "cell_type": "markdown",
   "id": "fda1dcca-b3ec-4019-a5f8-2785d2dfa97e",
   "metadata": {},
   "source": [
    "How does the distribution of annualized return for fully-paid loans compare to the distribution of profit?"
   ]
  },
  {
   "cell_type": "code",
   "execution_count": null,
   "id": "92bfc128-8458-49d4-88e5-e49bc798fd73",
   "metadata": {},
   "outputs": [],
   "source": [
    "paid_loans = paid_loans.assign(\n",
    "    profit=lambda df: get_profit(df, \"total_pymnt\", \"funded_amnt\"),\n",
    "    annualized_return=lambda df: get_annualized_return(df, \"profit\", \"loan_duration\"),\n",
    ")"
   ]
  },
  {
   "cell_type": "code",
   "execution_count": null,
   "id": "d06793dd-1e1e-48f4-a71f-5755840c87df",
   "metadata": {},
   "outputs": [],
   "source": [
    "paid_loans[[\"profit\"]].describe()"
   ]
  },
  {
   "cell_type": "code",
   "execution_count": null,
   "id": "042b6283-034c-4f21-ac50-a265a1cb3d18",
   "metadata": {},
   "outputs": [],
   "source": [
    "paid_loans[[\"annualized_return\"]].describe()"
   ]
  },
  {
   "cell_type": "code",
   "execution_count": null,
   "id": "e8ac05b1-083c-4e99-b62d-451cdb0890f0",
   "metadata": {},
   "outputs": [],
   "source": [
    "mean_return = paid_loans[\"annualized_return\"].mean()\n",
    "min_return = paid_loans[\"annualized_return\"].min()\n",
    "max_return = paid_loans[\"annualized_return\"].max()\n",
    "print(\n",
    "    f\"The mean annualized return was {mean_return:.2%}.\\n\"\n",
    "    f\"The minimum annualized loss was {min_return:.2%} and the \"\n",
    "    f\"maximum was {max_return:.2%}.\"\n",
    ")"
   ]
  },
  {
   "cell_type": "code",
   "execution_count": null,
   "id": "8e5e2b82-0814-4f3d-abb8-2652ad1a422d",
   "metadata": {},
   "outputs": [],
   "source": [
    "return_bins = np.linspace(0, 1.0, num=101)\n",
    "return_bin_labels = [f\"{left:d}% to {left+.99:.2f}%\" for left in range(0, 100)]\n",
    "return_tick_vals = return_bin_labels[0::25]\n",
    "return_tick_text = [f\"{left:d}%\" for left in range(0, 100, 25)]\n",
    "display(return_tick_text)"
   ]
  },
  {
   "cell_type": "code",
   "execution_count": null,
   "id": "3cd6cf32-6bbc-4262-8c9e-c707fc04e55c",
   "metadata": {},
   "outputs": [],
   "source": [
    "paid_loans[\"annualized_return_bin\"] = pd.cut(\n",
    "    paid_loans[\"annualized_return\"],\n",
    "    bins=return_bins,\n",
    "    labels=return_bin_labels,\n",
    "    right=False,\n",
    ")"
   ]
  },
  {
   "cell_type": "code",
   "execution_count": null,
   "id": "58e47004-b812-4923-862c-1496ab22531d",
   "metadata": {},
   "outputs": [],
   "source": [
    "to_plot = get_group_sizes(paid_loans, group_by=\"annualized_return_bin\")\n",
    "fig = px.bar(\n",
    "    to_plot,\n",
    "    x=\"annualized_return_bin\",\n",
    "    y=\"count\",\n",
    "    labels={\"annualized_return_bin\": \"Annualized return\", \"count\": \"Number of loans\"},\n",
    "    title=\"Distribution of annualized return for fully-paid loans\",\n",
    "    hover_data={\"count\": \":.3s\"},\n",
    ")\n",
    "\n",
    "\n",
    "def clean_up_hovertemplate(trace):\n",
    "    trace.customdata = return_bin_labels\n",
    "    trace.hovertemplate = trace.hovertemplate.replace(\"%{x}\", \"%{customdata}\")\n",
    "\n",
    "\n",
    "fig.for_each_trace(clean_up_hovertemplate)\n",
    "fig.update_layout(bargap=0)\n",
    "fig.update_xaxes(tickmode=\"array\", tickvals=return_tick_vals, ticktext=return_tick_text)\n",
    "fig.show()"
   ]
  }
 ],
 "metadata": {
  "kernelspec": {
   "display_name": "Python 3 (ipykernel)",
   "language": "python",
   "name": "python3"
  },
  "language_info": {
   "codemirror_mode": {
    "name": "ipython",
    "version": 3
   },
   "file_extension": ".py",
   "mimetype": "text/x-python",
   "name": "python",
   "nbconvert_exporter": "python",
   "pygments_lexer": "ipython3",
   "version": "3.11.4"
  }
 },
 "nbformat": 4,
 "nbformat_minor": 5
}
