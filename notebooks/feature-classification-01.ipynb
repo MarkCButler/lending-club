{
 "cells": [
  {
   "cell_type": "markdown",
   "id": "dda3db9b-b9cc-4941-80ba-a5ae8d24bf3c",
   "metadata": {},
   "source": [
    "# Classify features\n",
    "\n",
    "- [Prioritize prevention of data leakage](#Prioritize-prevention-of-data-leakage)\n",
    "- [Explore features](#Explore-features)\n",
    "- [Display features by group](#Display-features-by-group)\n",
    "- [Create a SQLite database](#Create-a-SQLite-database)"
   ]
  },
  {
   "cell_type": "markdown",
   "id": "11436e13-78b4-4b0d-83ce-d8e870b9e508",
   "metadata": {},
   "source": [
    "I manually added two columns to the table of metadata for accepted loans.\n",
    "\n",
    "- `category` labels the features based on the type of information they contain, e.g.,\n",
    "information about the borrower or details about the loan.\n",
    "- `known at loan origination` indicates whether the feature can be used in predictive\n",
    "models that require information available at the time of loan origination."
   ]
  },
  {
   "cell_type": "markdown",
   "id": "5b61dac3-40ac-434c-b552-10cd6dd308af",
   "metadata": {},
   "source": [
    "This notebook does the following:\n",
    "\n",
    "- Explore features for which the classification is initially unclear.\n",
    "- Group all features by the added columns `category` and `known at loan origination`,\n",
    "displaying the features in each group.\n",
    "- Create a SQLite database"
   ]
  },
  {
   "cell_type": "code",
   "execution_count": null,
   "id": "c96070d7-1f76-4792-9a83-76466e07ff67",
   "metadata": {},
   "outputs": [],
   "source": [
    "from IPython.display import display\n",
    "\n",
    "from notebook_tools.data_cleaning import (\n",
    "    convert_acc_loan_data,\n",
    "    filter_acc_loan_data,\n",
    "    load_acc_loan_data,\n",
    "    load_acc_loan_metadata,\n",
    ")\n",
    "from notebook_tools.database import create_database\n",
    "from notebook_tools.feature_exploration import (\n",
    "    get_value_counts,\n",
    "    style_loan_summary,\n",
    "    style_value_counts,\n",
    ")"
   ]
  },
  {
   "cell_type": "code",
   "execution_count": null,
   "id": "46f73796-fc51-416d-8916-50858b1ecc7b",
   "metadata": {},
   "outputs": [],
   "source": [
    "loan_data = load_acc_loan_data().pipe(convert_acc_loan_data).pipe(filter_acc_loan_data)"
   ]
  },
  {
   "cell_type": "code",
   "execution_count": null,
   "id": "199373a0-8260-4ec1-8af1-0a2e6f4aa25f",
   "metadata": {},
   "outputs": [],
   "source": [
    "loan_metadata = load_acc_loan_metadata(cleaned_data=loan_data)"
   ]
  },
  {
   "cell_type": "code",
   "execution_count": null,
   "id": "8645e59e-ba84-43a4-9785-c1f1345ac805",
   "metadata": {},
   "outputs": [],
   "source": [
    "feature_categories = loan_metadata[\"category\"].unique()\n",
    "list(feature_categories)"
   ]
  },
  {
   "cell_type": "markdown",
   "id": "ac9fb1a6-c4b1-4a17-bd97-f3483f1bc68f",
   "metadata": {},
   "source": [
    "## Prioritize prevention of data leakage"
   ]
  },
  {
   "cell_type": "markdown",
   "id": "65f8c37c-deb9-406f-8280-a3db91eab92f",
   "metadata": {},
   "source": [
    "For many of the features that characterize the borrower's credit history, it is\n",
    "difficult to know whether the information would have been available at loan origination.\n",
    "\n",
    "The cause of the ambiguity is that LendingClub continued to pull credit reports for\n",
    "borrowers after these loans were originated.  (In particular, the feature\n",
    "`last_credit_pull_d` gives the most recent date when a credit report was pulled for a\n",
    "loan.)\n",
    "\n",
    "### Example: classification is straightforward\n",
    "\n",
    "Consider the descriptions of the following two features:\n",
    "- `fico_range_high`:  The upper boundary range the borrower’s FICO at loan origination\n",
    "belongs to.\n",
    "- `last_fico_range_high`:  The upper boundary range the borrower’s last FICO pulled\n",
    "belongs to.\n",
    "\n",
    "Clearly `fico_range_high` was known at loan origination, but `last_fico_range_high` may\n",
    "have come from a more recent credit report.\n",
    "\n",
    "### Example: classification is ambiguous\n",
    "\n",
    "For many other features associated with the borrower's credit report, however, the\n",
    "description gives no hint about when the credit report was obtained.\n",
    "\n",
    "For example:\n",
    "- `bc_open_to_buy`:  Total open to buy on revolving bankcards.\n",
    "\n",
    "Is this the total open credit for revolving bankcards _at the time of loan origination_?\n",
    " Or is it the total from a credit report that has been pulled more recently?\n",
    "\n",
    "### Prevention of data leakage\n",
    "\n",
    "Since data leakage would invalidate predictive models developed for this project, I have\n",
    "assumed that for ambiguous cases such as `bc_open_to_buy`, the data was not known at\n",
    "the time of loan origination."
   ]
  },
  {
   "cell_type": "markdown",
   "id": "2eaec210-a8bd-4366-8ded-7a6dfcdd1722",
   "metadata": {},
   "source": [
    "## Explore features\n",
    "\n",
    "Explore features for which the classification is initially unclear."
   ]
  },
  {
   "cell_type": "markdown",
   "id": "7832c078-0118-442f-bbf4-02dab53f6050",
   "metadata": {},
   "source": [
    "### `pymnt_plan`"
   ]
  },
  {
   "cell_type": "markdown",
   "id": "b3061c83-92cb-4732-9410-0a63e689e5eb",
   "metadata": {},
   "source": [
    "What sort of payment plan is associated with the feature `pymnt_plan`?"
   ]
  },
  {
   "cell_type": "code",
   "execution_count": null,
   "id": "fde36802-9268-4218-9505-d0016660c7b6",
   "metadata": {},
   "outputs": [],
   "source": [
    "pymnt_plan_counts = get_value_counts(loan_data[\"pymnt_plan\"])\n",
    "display(style_value_counts(pymnt_plan_counts))"
   ]
  },
  {
   "cell_type": "markdown",
   "id": "5c8f8aa2-737f-4f8c-8332-48381f688eb3",
   "metadata": {},
   "source": [
    "The number of `True` values is relatively small, so `pymnt_plan` may be associated with\n",
    "a hardship plan or settlement plan.\n",
    "\n",
    "Select the rows for which `pymnt_plan` is `True` and check whether characteristic\n",
    "features for hardship plan  settlement plan are non-null."
   ]
  },
  {
   "cell_type": "code",
   "execution_count": null,
   "id": "4d913b52-cf40-489d-9185-f0e6bcbd2a3b",
   "metadata": {},
   "outputs": [],
   "source": [
    "bool_index = loan_data[\"pymnt_plan\"]\n",
    "loans_with_payment_plan = loan_data[bool_index]\n",
    "\n",
    "hardship_status_counts = get_value_counts(loans_with_payment_plan[\"hardship_status\"])\n",
    "display(style_value_counts(hardship_status_counts))\n",
    "\n",
    "settlement_status_counts = get_value_counts(\n",
    "    loans_with_payment_plan[\"settlement_status\"]\n",
    ")\n",
    "display(style_value_counts(settlement_status_counts))"
   ]
  },
  {
   "cell_type": "markdown",
   "id": "4367ffe6-6a97-4893-8de2-7029031988e2",
   "metadata": {},
   "source": [
    "All loans with `pymnt_plan` equal to `True` have `hardship_status` as `ACTIVE` and\n",
    "`settlement_status` as `<NA>`.\n",
    "\n",
    "Compare the distribution of values for `hardship_status` across the full set of accepted\n",
    "loans."
   ]
  },
  {
   "cell_type": "code",
   "execution_count": null,
   "id": "1fc75019-97cd-4be6-8c32-b764f103784f",
   "metadata": {},
   "outputs": [],
   "source": [
    "hardship_status_counts = get_value_counts(loan_data[\"hardship_status\"])\n",
    "display(style_value_counts(hardship_status_counts))"
   ]
  },
  {
   "cell_type": "markdown",
   "id": "45ccacf1-776a-48b8-8db4-5702510e5d99",
   "metadata": {},
   "source": [
    "Conclusion:  `pymnt_plan` gives information about a hardship plan associated with the loan."
   ]
  },
  {
   "cell_type": "markdown",
   "id": "66e1ead3-9310-4a51-a52a-5421e9d27280",
   "metadata": {},
   "source": [
    "## Display features by group"
   ]
  },
  {
   "cell_type": "markdown",
   "id": "860e2242-5f64-44b6-9288-339a36401c16",
   "metadata": {},
   "source": [
    "### `borrower` features available at loan origination"
   ]
  },
  {
   "cell_type": "code",
   "execution_count": null,
   "id": "3e46b886-704f-470b-91ae-47283f95c828",
   "metadata": {},
   "outputs": [],
   "source": [
    "bool_index = (loan_metadata[\"category\"] == \"borrower\") & (\n",
    "    loan_metadata[\"known at loan origination\"] == \"Y\"\n",
    ")\n",
    "feature_count = len(loan_metadata[bool_index])\n",
    "print(\n",
    "    f\"\\n\\n{feature_count} features available at loan origination \"\n",
    "    \"characterize the borrower:\\n\\n\"\n",
    ")\n",
    "display(style_loan_summary(loan_metadata.loc[bool_index, [\"data type\", \"description\"]]))"
   ]
  },
  {
   "cell_type": "markdown",
   "id": "9a4c9e7b-08a9-47a1-ad12-94feda7a2ad0",
   "metadata": {},
   "source": [
    "### `borrower` features not available at loan origination"
   ]
  },
  {
   "cell_type": "code",
   "execution_count": null,
   "id": "99b42724-71b0-4bbb-af8d-3e9404037c28",
   "metadata": {},
   "outputs": [],
   "source": [
    "bool_index = (loan_metadata[\"category\"] == \"borrower\") & (\n",
    "    loan_metadata[\"known at loan origination\"] == \"N\"\n",
    ")\n",
    "feature_count = len(loan_metadata[bool_index])\n",
    "print(\n",
    "    f\"\\n\\n{feature_count} features not available at loan origination \"\n",
    "    \"characterize the borrower:\\n\\n\"\n",
    ")\n",
    "style_loan_summary(loan_metadata.loc[bool_index, [\"data type\", \"description\"]])"
   ]
  },
  {
   "cell_type": "markdown",
   "id": "cf503534-a0fb-4896-afdc-28863b44c605",
   "metadata": {},
   "source": [
    "### `co_borrower` features available at loan origination"
   ]
  },
  {
   "cell_type": "markdown",
   "id": "89ac69f9-8a1b-458e-b80c-2cf672a5af6c",
   "metadata": {},
   "source": [
    "For most features associated with the co-borrowers' credit history, the description\n",
    "indicates that the information is known at the time of loan application. Also, none of\n",
    "the `co_borrower` feature descriptions suggest that credit reports for the co-borrowers\n",
    "continue to be pulled during the lifetime of the loan. So I assume that all features\n",
    "characterizing the co-borrowers' credit history are known at loan origination.\n",
    "\n",
    "Example: the co-borrower feature `sec_app_fico_range_low`, like the borrower feature\n",
    "`fico_range_low`, is considered to be available at loan origination."
   ]
  },
  {
   "cell_type": "code",
   "execution_count": null,
   "id": "00a9f503-ef9b-4d05-b654-7a296c5db2b0",
   "metadata": {},
   "outputs": [],
   "source": [
    "bool_index = (loan_metadata[\"category\"] == \"co_borrower\") & (\n",
    "    loan_metadata[\"known at loan origination\"] == \"Y\"\n",
    ")\n",
    "feature_count = len(loan_metadata[bool_index])\n",
    "print(\n",
    "    f\"\\n\\n{feature_count} features available at loan origination \"\n",
    "    \"characterize the co-borrowers:\\n\\n\"\n",
    ")\n",
    "style_loan_summary(loan_metadata.loc[bool_index, [\"data type\", \"description\"]])"
   ]
  },
  {
   "cell_type": "markdown",
   "id": "e36cf9ce-8ad3-4e77-b91e-380896bd27a9",
   "metadata": {},
   "source": [
    "### `loan` features available at loan origination"
   ]
  },
  {
   "cell_type": "code",
   "execution_count": null,
   "id": "9dd491e0-0520-4b40-b727-4ea32c4b82e3",
   "metadata": {},
   "outputs": [],
   "source": [
    "bool_index = (loan_metadata[\"category\"] == \"loan\") & (\n",
    "    loan_metadata[\"known at loan origination\"] == \"Y\"\n",
    ")\n",
    "feature_count = len(loan_metadata[bool_index])\n",
    "print(\n",
    "    f\"\\n\\n{feature_count} features available at loan origination \"\n",
    "    \"characterize the loan:\\n\\n\"\n",
    ")\n",
    "display(style_loan_summary(loan_metadata.loc[bool_index, [\"data type\", \"description\"]]))"
   ]
  },
  {
   "cell_type": "markdown",
   "id": "2a7e442a-ff6a-49db-b279-93714f01d242",
   "metadata": {},
   "source": [
    "### `loan` features not available at loan origination"
   ]
  },
  {
   "cell_type": "code",
   "execution_count": null,
   "id": "87068ec2-6102-42b0-a208-ecc3831bb186",
   "metadata": {},
   "outputs": [],
   "source": [
    "bool_index = (loan_metadata[\"category\"] == \"loan\") & (\n",
    "    loan_metadata[\"known at loan origination\"] == \"N\"\n",
    ")\n",
    "feature_count = len(loan_metadata[bool_index])\n",
    "print(\n",
    "    f\"\\n\\n{feature_count} features not available at loan origination \"\n",
    "    \"characterize the loan:\\n\\n\"\n",
    ")\n",
    "display(style_loan_summary(loan_metadata.loc[bool_index, [\"data type\", \"description\"]]))"
   ]
  },
  {
   "cell_type": "markdown",
   "id": "8f64cd98-1c6c-475a-9806-9bd526bc7d17",
   "metadata": {},
   "source": [
    "### `hardship_plan` features not available at loan origination"
   ]
  },
  {
   "cell_type": "code",
   "execution_count": null,
   "id": "76f618c0-40e4-436e-a2c0-4d95173f0b4b",
   "metadata": {},
   "outputs": [],
   "source": [
    "bool_index = (loan_metadata[\"category\"] == \"hardship_plan\") & (\n",
    "    loan_metadata[\"known at loan origination\"] == \"N\"\n",
    ")\n",
    "feature_count = len(loan_metadata[bool_index])\n",
    "print(\n",
    "    f\"\\n\\n{feature_count} features not available at loan origination \"\n",
    "    \"characterize the hardship plan (in cases where one was created):\\n\\n\"\n",
    ")\n",
    "display(style_loan_summary(loan_metadata.loc[bool_index, [\"data type\", \"description\"]]))"
   ]
  },
  {
   "cell_type": "markdown",
   "id": "7c30aca1-143e-4aed-b977-67ed64eb4b59",
   "metadata": {},
   "source": [
    "### `settlement_plan` features not available at loan origination"
   ]
  },
  {
   "cell_type": "code",
   "execution_count": null,
   "id": "cfbc6d1b-0cdc-473c-b381-f1b18258f671",
   "metadata": {},
   "outputs": [],
   "source": [
    "bool_index = (loan_metadata[\"category\"] == \"settlement_plan\") & (\n",
    "    loan_metadata[\"known at loan origination\"] == \"N\"\n",
    ")\n",
    "feature_count = len(loan_metadata[bool_index])\n",
    "print(\n",
    "    f\"\\n\\n{feature_count} features not available at loan origination \"\n",
    "    \"characterize the settlement plan (in cases where one was created):\\n\\n\"\n",
    ")\n",
    "display(style_loan_summary(loan_metadata.loc[bool_index, [\"data type\", \"description\"]]))"
   ]
  },
  {
   "cell_type": "markdown",
   "id": "3cd3369d-599d-4cae-806a-ec7a913a5e18",
   "metadata": {},
   "source": [
    "### `charge_off` features not available at loan origination"
   ]
  },
  {
   "cell_type": "code",
   "execution_count": null,
   "id": "684b7061-0c17-4f34-a066-1b78a459bf40",
   "metadata": {},
   "outputs": [],
   "source": [
    "bool_index = (loan_metadata[\"category\"] == \"charge_off\") & (\n",
    "    loan_metadata[\"known at loan origination\"] == \"N\"\n",
    ")\n",
    "feature_count = len(loan_metadata[bool_index])\n",
    "print(\n",
    "    f\"\\n\\n{feature_count} features not available at loan origination \"\n",
    "    \"characterize the charge-off (in cases where a charge-off occurred):\\n\\n\"\n",
    ")\n",
    "display(style_loan_summary(loan_metadata.loc[bool_index, [\"data type\", \"description\"]]))"
   ]
  },
  {
   "cell_type": "markdown",
   "id": "a1436791-9a7c-41df-a005-242c5d5c6ddc",
   "metadata": {},
   "source": [
    "## Create a SQLite database"
   ]
  },
  {
   "cell_type": "code",
   "execution_count": null,
   "id": "c4a96b50-fe00-442b-8820-5de8a0c5083a",
   "metadata": {},
   "outputs": [],
   "source": [
    "tables = {\n",
    "    \"loan_data\": loan_data,\n",
    "    \"loan_metadata\": loan_metadata.reset_index(),\n",
    "}"
   ]
  },
  {
   "cell_type": "code",
   "execution_count": null,
   "id": "771b2f8f-b74d-4792-a0a2-bf55ce2ad906",
   "metadata": {},
   "outputs": [],
   "source": [
    "create_database(tables)"
   ]
  }
 ],
 "metadata": {
  "kernelspec": {
   "display_name": "Python 3 (ipykernel)",
   "language": "python",
   "name": "python3"
  },
  "language_info": {
   "codemirror_mode": {
    "name": "ipython",
    "version": 3
   },
   "file_extension": ".py",
   "mimetype": "text/x-python",
   "name": "python",
   "nbconvert_exporter": "python",
   "pygments_lexer": "ipython3",
   "version": "3.11.4"
  }
 },
 "nbformat": 4,
 "nbformat_minor": 5
}
