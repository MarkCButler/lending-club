{
 "cells": [
  {
   "cell_type": "markdown",
   "id": "bfa54fc0d35b01c7",
   "metadata": {
    "jupyter": {
     "outputs_hidden": false
    }
   },
   "source": [
    "# Define data types and reformat data\n",
    "- [Load the data](#Load-the-data)\n",
    "- [Summarize / describe the data](#Summarize-/-describe-the-data)\n",
    "- [Reformat data](#Reformat-data)"
   ]
  },
  {
   "cell_type": "markdown",
   "id": "1b9273c2-04f2-4f5a-a59b-53ff9014c870",
   "metadata": {},
   "source": [
    "The LendingClub [dataset](https://www.kaggle.com/datasets/wordsforthewise/lending-club)\n",
    "includes data on accepted and rejected loans from 2007 through 2018 Q2.\n",
    "\n",
    "This notebook does the following:\n",
    "- After preliminary exploration of the data, define a data type for each feature.\n",
    "- Convert / reformat some columns to facilitate model development.\n",
    "\n",
    "The data-cleaning steps developed in this notebook have been incorporated into the\n",
    "project's Python package `notebook_tools`."
   ]
  },
  {
   "cell_type": "code",
   "execution_count": null,
   "id": "687ea93b1073a216",
   "metadata": {
    "jupyter": {
     "outputs_hidden": false
    }
   },
   "outputs": [],
   "source": [
    "from calendar import month_name\n",
    "from pathlib import Path\n",
    "\n",
    "import numpy as np\n",
    "import pandas as pd\n",
    "from IPython.display import display"
   ]
  },
  {
   "cell_type": "markdown",
   "id": "cce2597614fdff48",
   "metadata": {
    "jupyter": {
     "outputs_hidden": false
    }
   },
   "source": [
    "## Load the data"
   ]
  },
  {
   "cell_type": "markdown",
   "id": "38f1b6cb-161d-454f-9daf-a01a11cbe007",
   "metadata": {},
   "source": [
    "I manually chose a pandas `dtype` for each column of data on accepted and rejected\n",
    "loans.\n",
    "- For the table of accepted loans, which has 151 columns, I found and downloaded a table\n",
    "  of [column\n",
    "  descriptions](https://www.kaggle.com/datasets/ethon0426/lending-club-20072020q1?select=LCDataDictionary.xlsx).\n",
    "  Taking account of the column descriptions as well as characteristic values displayed\n",
    "  by `pandas.DataFrame.describe`, I chose a `dtype` for each column.  To store the\n",
    "  `dtype` choices, I added a column named \"data type\" to the downloaded table of column\n",
    "  descriptions. The values in this column are string aliases for pandas dtypes.\n",
    "- For the table of rejected loans, which has 9 columns, I inspected the table and then\n",
    "  created a dictionary mapping column names to `dtype` aliases."
   ]
  },
  {
   "cell_type": "code",
   "execution_count": null,
   "id": "9143a669d1ffe77d",
   "metadata": {
    "jupyter": {
     "outputs_hidden": false
    }
   },
   "outputs": [],
   "source": [
    "data_folder = Path(\"../data/\")\n",
    "acc_loans_path = data_folder / \"accepted_2007_to_2018Q4.csv\"\n",
    "rej_loans_path = data_folder / \"rejected_2007_to_2018Q4.csv\"\n",
    "acc_loans_col_desc_path = data_folder / \"accepted_loans_metadata.csv\""
   ]
  },
  {
   "cell_type": "markdown",
   "id": "99f517d8400d65a0",
   "metadata": {
    "jupyter": {
     "outputs_hidden": false
    }
   },
   "source": [
    "Record the number of columns in each of the tables of loan data, in order to check that\n",
    "no columns are accidentally excluded from the database.\n",
    "\n",
    "Note that the column `member_id` in the data on accepted loans is empty,\n",
    "so we exclude it in loading the data."
   ]
  },
  {
   "cell_type": "code",
   "execution_count": null,
   "id": "cf59bc7bf84dbb00",
   "metadata": {
    "jupyter": {
     "outputs_hidden": false
    }
   },
   "outputs": [],
   "source": [
    "acc_loans_columns = pd.read_csv(\n",
    "    acc_loans_path, nrows=0, usecols=lambda col_name: col_name != \"member_id\"\n",
    ").columns\n",
    "ncols_acc_loans = len(acc_loans_columns)\n",
    "ncols_acc_loans"
   ]
  },
  {
   "cell_type": "code",
   "execution_count": null,
   "id": "b50779004b372398",
   "metadata": {
    "jupyter": {
     "outputs_hidden": false
    }
   },
   "outputs": [],
   "source": [
    "rej_loans_columns = pd.read_csv(rej_loans_path, nrows=0).columns\n",
    "ncols_rej_loans = len(rej_loans_columns)\n",
    "ncols_rej_loans"
   ]
  },
  {
   "cell_type": "code",
   "execution_count": null,
   "id": "3c773859fb9fedb6",
   "metadata": {
    "jupyter": {
     "outputs_hidden": false
    }
   },
   "outputs": [],
   "source": [
    "acc_loans_col_desc = pd.read_csv(acc_loans_col_desc_path)\n",
    "acc_loans_col_desc = acc_loans_col_desc.set_index(\"column name\")"
   ]
  },
  {
   "cell_type": "code",
   "execution_count": null,
   "id": "e116e7dbeee2e83e",
   "metadata": {
    "jupyter": {
     "outputs_hidden": false
    }
   },
   "outputs": [],
   "source": [
    "acc_loans_col_desc[[\"data type\", \"description\"]].head()"
   ]
  },
  {
   "cell_type": "code",
   "execution_count": null,
   "id": "f793c60c9ad68d01",
   "metadata": {
    "jupyter": {
     "outputs_hidden": false
    }
   },
   "outputs": [],
   "source": [
    "acc_loans_dtypes = acc_loans_col_desc[\"data type\"].to_dict()"
   ]
  },
  {
   "cell_type": "code",
   "execution_count": null,
   "id": "3ad7bfc2-d9b0-4601-aa9e-a5b80dba2d54",
   "metadata": {},
   "outputs": [],
   "source": [
    "rej_loans_dtypes = {\n",
    "    \"Amount Requested\": \"Float64\",\n",
    "    \"Application Date\": \"string\",\n",
    "    \"Loan Title\": \"string\",\n",
    "    \"Risk_Score\": \"Float64\",\n",
    "    \"Debt-To-Income Ratio\": \"string\",\n",
    "    \"Zip Code\": \"string\",\n",
    "    \"State\": \"string\",\n",
    "    \"Employment Length\": \"string\",\n",
    "    \"Policy Code\": \"string\",\n",
    "}"
   ]
  },
  {
   "cell_type": "code",
   "execution_count": null,
   "id": "2b49a7414586cb88",
   "metadata": {
    "jupyter": {
     "outputs_hidden": false
    }
   },
   "outputs": [],
   "source": [
    "acc_loans = pd.read_csv(\n",
    "    acc_loans_path,\n",
    "    dtype=acc_loans_dtypes,\n",
    "    usecols=lambda col_name: col_name != \"member_id\",\n",
    ")"
   ]
  },
  {
   "cell_type": "code",
   "execution_count": null,
   "id": "9ef084b4bbea6b6e",
   "metadata": {
    "jupyter": {
     "outputs_hidden": false
    }
   },
   "outputs": [],
   "source": [
    "rej_loans = pd.read_csv(rej_loans_path, dtype=rej_loans_dtypes)"
   ]
  },
  {
   "cell_type": "markdown",
   "id": "b4afa514b0e71717",
   "metadata": {
    "jupyter": {
     "outputs_hidden": false
    }
   },
   "source": [
    "## Summarize / describe the data"
   ]
  },
  {
   "cell_type": "markdown",
   "id": "fcb5312ba6fc7b97",
   "metadata": {
    "jupyter": {
     "outputs_hidden": false
    }
   },
   "source": [
    "Verify that the `dtype` of all columns corresponds to one of the aliases that I\n",
    "assigned: `\"string\"`, `\"Int64\"`, `\"Float64\"`."
   ]
  },
  {
   "cell_type": "code",
   "execution_count": null,
   "id": "a143dff279697890",
   "metadata": {
    "jupyter": {
     "outputs_hidden": false
    }
   },
   "outputs": [],
   "source": [
    "acc_loans.dtypes.unique()"
   ]
  },
  {
   "cell_type": "code",
   "execution_count": null,
   "id": "e790a5018c32659e",
   "metadata": {
    "jupyter": {
     "outputs_hidden": false
    }
   },
   "outputs": [],
   "source": [
    "rej_loans.dtypes.unique()"
   ]
  },
  {
   "cell_type": "markdown",
   "id": "cdaed4b90c19e146",
   "metadata": {
    "jupyter": {
     "outputs_hidden": false
    }
   },
   "source": [
    "In summarizing the data, generate separate summary dataframes for numeric columns and\n",
    "string columns."
   ]
  },
  {
   "cell_type": "code",
   "execution_count": null,
   "id": "7984d15d-b198-46f4-86da-a451552e0d18",
   "metadata": {},
   "outputs": [],
   "source": [
    "def summarize_loan_data(df, dtype):\n",
    "    summary = df.describe(include=dtype).transpose()\n",
    "    dtypes_df = df.dtypes.to_frame(name=\"data type\")\n",
    "    summary = summary.join(dtypes_df)\n",
    "    summary = summary.astype({\"count\": \"int\"})\n",
    "    return summary"
   ]
  },
  {
   "cell_type": "code",
   "execution_count": null,
   "id": "8d62153edd1ecba6",
   "metadata": {},
   "outputs": [],
   "source": [
    "def summarize_acc_loans(df, dtype):\n",
    "    summary = summarize_loan_data(df, dtype)\n",
    "    return summary.join(acc_loans_col_desc[\"description\"])"
   ]
  },
  {
   "cell_type": "code",
   "execution_count": null,
   "id": "8f07b1c399247d31",
   "metadata": {
    "jupyter": {
     "outputs_hidden": false
    }
   },
   "outputs": [],
   "source": [
    "def style_loan_summary(df):\n",
    "    styler = (\n",
    "        df.style.set_properties(**{\"text-align\": \"center\"})\n",
    "        .map_index(lambda _heading: \"text-align: center;\", axis=\"rows\")\n",
    "        .map_index(lambda _heading: \"text-align: center;\", axis=\"columns\")\n",
    "        .set_table_styles([{\"selector\": \".index_name\", \"props\": \"text-align: center;\"}])\n",
    "        .format(na_rep=\"&lt;NA&gt;\", precision=1, thousands=\",\", decimal=\".\")\n",
    "        .format_index(na_rep=\"&lt;NA&gt;\", axis=\"index\")\n",
    "    )\n",
    "    if \"description\" in df.columns:\n",
    "        styler = styler.set_properties(\n",
    "            subset=\"description\", **{\"text-align\": \"left\", \"white-space\": \"normal\"}\n",
    "        )\n",
    "    return styler"
   ]
  },
  {
   "cell_type": "code",
   "execution_count": null,
   "id": "ad3d5a85fb31adb5",
   "metadata": {
    "jupyter": {
     "outputs_hidden": false
    }
   },
   "outputs": [],
   "source": [
    "acc_loans_summary_numeric = summarize_acc_loans(acc_loans, np.number)\n",
    "display(style_loan_summary(acc_loans_summary_numeric))"
   ]
  },
  {
   "cell_type": "code",
   "execution_count": null,
   "id": "fec497e7f8ba172c",
   "metadata": {
    "jupyter": {
     "outputs_hidden": false
    }
   },
   "outputs": [],
   "source": [
    "acc_loans_summary_string = summarize_acc_loans(acc_loans, \"string\")\n",
    "display(style_loan_summary(acc_loans_summary_string))"
   ]
  },
  {
   "cell_type": "code",
   "execution_count": null,
   "id": "40550d18-a6df-44b7-bba1-2ab35e958264",
   "metadata": {},
   "outputs": [],
   "source": [
    "rej_loans_summary_numeric = summarize_loan_data(rej_loans, np.number)\n",
    "display(style_loan_summary(rej_loans_summary_numeric))"
   ]
  },
  {
   "cell_type": "code",
   "execution_count": null,
   "id": "bb71b90f3db1263",
   "metadata": {},
   "outputs": [],
   "source": [
    "rej_loans_summary_string = summarize_loan_data(rej_loans, \"string\")\n",
    "display(style_loan_summary(rej_loans_summary_string))"
   ]
  },
  {
   "cell_type": "markdown",
   "id": "de46fa6f-6f02-4e9c-b6c9-b8a96a66cd77",
   "metadata": {},
   "source": [
    "For both the accepted loans and the rejected loans, verify that the combined number of\n",
    "rows in the two summary dataframes equals the number of columns initially loaded."
   ]
  },
  {
   "cell_type": "code",
   "execution_count": null,
   "id": "91304ea3-184f-44af-a733-69207de0b98c",
   "metadata": {},
   "outputs": [],
   "source": [
    "assert ncols_acc_loans == len(acc_loans_summary_numeric) + len(acc_loans_summary_string)\n",
    "assert ncols_rej_loans == len(rej_loans_summary_numeric) + len(rej_loans_summary_string)"
   ]
  },
  {
   "cell_type": "markdown",
   "id": "9a2583de-1478-4dac-b168-0554ab93b40c",
   "metadata": {},
   "source": [
    "## Reformat data"
   ]
  },
  {
   "cell_type": "markdown",
   "id": "9aa2a6bd-a541-42cb-8f68-7748d1a64a52",
   "metadata": {},
   "source": [
    "For several of the `\"string\"` columns, such as columns containing dates, data conversion is needed.\n",
    "I'll use a series of ad-hoc commands for the data conversion."
   ]
  },
  {
   "cell_type": "markdown",
   "id": "92132869-411e-476e-8e27-a096fe304de9",
   "metadata": {},
   "source": [
    "Convert elements of the `term` column for accepted loans from strings (e.g., \"36 months\") to integers (e.g., 36)."
   ]
  },
  {
   "cell_type": "code",
   "execution_count": null,
   "id": "59e0ab0d-ffd1-4462-abc8-4b74ab0f4132",
   "metadata": {},
   "outputs": [],
   "source": [
    "acc_loans[\"term\"] = (\n",
    "    acc_loans[\"term\"].str.replace(\"months\", \"\").str.strip().astype(\"Int64\")\n",
    ")"
   ]
  },
  {
   "cell_type": "code",
   "execution_count": null,
   "id": "d3e726d6-2ed1-4957-a431-5f1a3104acce",
   "metadata": {},
   "outputs": [],
   "source": [
    "acc_loans[\"term\"].unique()"
   ]
  },
  {
   "cell_type": "markdown",
   "id": "557e5f27-99fe-4549-bbfb-693617c04698",
   "metadata": {},
   "source": [
    "Convert date strings to ISO format (e.g., convert \"Jan-2015\" to \"2015-01\")."
   ]
  },
  {
   "cell_type": "code",
   "execution_count": null,
   "id": "274383e0-2aa0-4ea8-982b-4894e7421323",
   "metadata": {},
   "outputs": [],
   "source": [
    "# The array of capitalized month names in chronological order provided by the calendar\n",
    "# module has the empty string as the first element, which is discarded.\n",
    "ordered_months = list(month_name)[1:]\n",
    "\n",
    "# Dictionary used in converting abbreviated month names to month numbers in ISO format.\n",
    "iso_month_labels = {\n",
    "    month.lower()[:3]: format(index + 1, \"02\")\n",
    "    for index, month in enumerate(ordered_months)\n",
    "}\n",
    "\n",
    "\n",
    "def get_iso_date_string(element):\n",
    "    month, year = element.lower().split(\"-\")\n",
    "    return year + \"-\" + iso_month_labels[month]"
   ]
  },
  {
   "cell_type": "code",
   "execution_count": null,
   "id": "7e9df60a-65d5-431e-b7f1-7825d8b2cc28",
   "metadata": {},
   "outputs": [],
   "source": [
    "iso_month_labels"
   ]
  },
  {
   "cell_type": "code",
   "execution_count": null,
   "id": "a0d6f947-893d-4f85-a1f0-d81fdde9479f",
   "metadata": {},
   "outputs": [],
   "source": [
    "date_columns = [\n",
    "    \"issue_d\",\n",
    "    \"earliest_cr_line\",\n",
    "    \"last_pymnt_d\",\n",
    "    \"next_pymnt_d\",\n",
    "    \"last_credit_pull_d\",\n",
    "    \"sec_app_earliest_cr_line\",\n",
    "    \"hardship_start_date\",\n",
    "    \"hardship_end_date\",\n",
    "    \"payment_plan_start_date\",\n",
    "    \"debt_settlement_flag_date\",\n",
    "    \"settlement_date\",\n",
    "]\n",
    "\n",
    "for col_name in date_columns:\n",
    "    acc_loans[col_name] = (\n",
    "        acc_loans[col_name]\n",
    "        .map(get_iso_date_string, na_action=\"ignore\")\n",
    "        .astype(\"string\")\n",
    "    )"
   ]
  },
  {
   "cell_type": "markdown",
   "id": "d6f672b6-313f-4516-9615-6091bf5c5aff",
   "metadata": {},
   "source": [
    "Convert yes/no values given as string to boolean elements."
   ]
  },
  {
   "cell_type": "code",
   "execution_count": null,
   "id": "23469d90-a217-4310-823f-cca9ab1551a2",
   "metadata": {},
   "outputs": [],
   "source": [
    "boolean_columns = [\"pymnt_plan\", \"hardship_flag\", \"debt_settlement_flag\"]"
   ]
  },
  {
   "cell_type": "code",
   "execution_count": null,
   "id": "1a8476eb-8821-4306-825a-5ee2b3abe00d",
   "metadata": {},
   "outputs": [],
   "source": [
    "mapper = {\"N\": False, \"Y\": True}\n",
    "for col_name in boolean_columns:\n",
    "    acc_loans[col_name] = (\n",
    "        acc_loans[col_name]\n",
    "        .str.upper()\n",
    "        .map(mapper, na_action=\"ignore\")\n",
    "        .astype(\"boolean\")\n",
    "    )"
   ]
  },
  {
   "cell_type": "markdown",
   "id": "4e9de070-e2b4-4512-8693-06f7e87bd46c",
   "metadata": {},
   "source": [
    "Convert strings representing percentages to floats."
   ]
  },
  {
   "cell_type": "code",
   "execution_count": null,
   "id": "e29a1143-9a76-4f95-a472-0f973dcdded4",
   "metadata": {},
   "outputs": [],
   "source": [
    "rej_loans[\"Debt-To-Income Ratio\"] = (\n",
    "    rej_loans[\"Debt-To-Income Ratio\"].str.replace(\"%\", \"\").astype(\"Float64\")\n",
    ")"
   ]
  }
 ],
 "metadata": {
  "kernelspec": {
   "display_name": "Python 3 (ipykernel)",
   "language": "python",
   "name": "python3"
  },
  "language_info": {
   "codemirror_mode": {
    "name": "ipython",
    "version": 3
   },
   "file_extension": ".py",
   "mimetype": "text/x-python",
   "name": "python",
   "nbconvert_exporter": "python",
   "pygments_lexer": "ipython3",
   "version": "3.11.4"
  }
 },
 "nbformat": 4,
 "nbformat_minor": 5
}
