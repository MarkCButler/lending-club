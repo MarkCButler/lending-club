{
 "cells": [
  {
   "cell_type": "markdown",
   "id": "39e0ff50-478e-4adc-b683-d892730654f9",
   "metadata": {},
   "source": [
    "# Display summary of cleaned data\n",
    "\n",
    "The feature summaries displayed in earlier notebooks are no longer valid due to the\n",
    "data-cleaning performed in those notebooks. The current notebook displays feature\n",
    "summaries for the cleaned data."
   ]
  },
  {
   "cell_type": "code",
   "execution_count": null,
   "id": "afe60b4f-83c5-4162-a6e8-0d66d1cd3794",
   "metadata": {},
   "outputs": [],
   "source": [
    "import numpy as np\n",
    "from IPython.display import display\n",
    "\n",
    "from notebook_tools.data_cleaning import (\n",
    "    convert_acc_loan_data,\n",
    "    filter_acc_loan_data,\n",
    "    load_acc_loan_data,\n",
    "    load_acc_loan_feat_desc,\n",
    ")\n",
    "from notebook_tools.feature_exploration import (\n",
    "    style_loan_summary,\n",
    "    summarize_acc_loans,\n",
    ")"
   ]
  },
  {
   "cell_type": "code",
   "execution_count": null,
   "id": "5f88a2d8-db0e-4563-8567-041f7921e70b",
   "metadata": {},
   "outputs": [],
   "source": [
    "loan_data = filter_acc_loan_data(convert_acc_loan_data(load_acc_loan_data()))"
   ]
  },
  {
   "cell_type": "code",
   "execution_count": null,
   "id": "d52e4532-06f6-46d0-ae6d-36ed82b49ccf",
   "metadata": {},
   "outputs": [],
   "source": [
    "feat_desc = load_acc_loan_feat_desc()"
   ]
  },
  {
   "cell_type": "code",
   "execution_count": null,
   "id": "25a56e4b-3b1c-40b7-b051-5f08e5041dea",
   "metadata": {},
   "outputs": [],
   "source": [
    "print(f\"The number of records is {len(loan_data.index):,d}.\")\n",
    "for dtype in [np.number, \"string\", \"boolean\"]:\n",
    "    summary = summarize_acc_loans(loan_data, dtype, feat_desc)\n",
    "    print(f\"\\n\\nThe number of features of type {dtype} is {len(summary.index)}.\\n\\n\")\n",
    "    display(style_loan_summary(summary))"
   ]
  }
 ],
 "metadata": {
  "kernelspec": {
   "display_name": "Python 3 (ipykernel)",
   "language": "python",
   "name": "python3"
  },
  "language_info": {
   "codemirror_mode": {
    "name": "ipython",
    "version": 3
   },
   "file_extension": ".py",
   "mimetype": "text/x-python",
   "name": "python",
   "nbconvert_exporter": "python",
   "pygments_lexer": "ipython3",
   "version": "3.11.4"
  }
 },
 "nbformat": 4,
 "nbformat_minor": 5
}
