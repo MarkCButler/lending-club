{
 "cells": [
  {
   "cell_type": "markdown",
   "id": "b412eee1-e1e8-4eb0-ba2f-ebc8dbff4309",
   "metadata": {},
   "source": [
    "# Filter columns and rows\n",
    "\n",
    "- [Display feature summaries](#Display-feature-summaries)\n",
    "- [Explore features](#Explore-features)\n",
    "- [Filter data](#Filter-data)"
   ]
  },
  {
   "cell_type": "markdown",
   "id": "87c6f0f4-0d32-46cb-a1fb-528a1263df10",
   "metadata": {},
   "source": [
    "The most recent data in the LendingClub\n",
    "[dataset](https://www.kaggle.com/datasets/wordsforthewise/lending-club) is from 2018,\n",
    "and since then, LendingClub has [stopped operating as a peer-to-peer\n",
    "lender](https://en.wikipedia.org/wiki/LendingClub#End_of_P2P_platform,_2019-2020).\n",
    "Unsurprisingly, it's difficult to find explanations on the LendingClub website about the\n",
    "features in this dataset.\n",
    "\n",
    "Sites not officially associated with LendingClub still contain information about the\n",
    "peer-to-peer service previously offered by LendingClub.  As a result, the feature\n",
    "exploration for this project includes links to miscellaneous pages such as blogs.\n",
    "\n",
    "Beginning with the current notebook, however, lack of detailed information about\n",
    "features does impose some limits.  For instance, rows containing certain values of\n",
    "`loan_status` are filtered out simply because it is difficult to understand what those\n",
    "values mean."
   ]
  },
  {
   "cell_type": "markdown",
   "id": "e305cc0e-bc33-4e44-b292-c8e3f568c9a2",
   "metadata": {},
   "source": [
    "This notebook does the following:\n",
    "\n",
    "- Explore features to determine what filtering should be done.\n",
    "- Filter out certain columns and rows from the data on accepted loans.\n",
    "\n",
    "The information available on rejected loans is fairly limited, so for now, I will limit\n",
    "attention to the data on accepted loans.\n",
    "\n",
    "The data-cleaning steps developed in this notebook have been incorporated into the\n",
    "project's Python package `notebook_tools`."
   ]
  },
  {
   "cell_type": "code",
   "execution_count": null,
   "id": "c96070d7-1f76-4792-9a83-76466e07ff67",
   "metadata": {},
   "outputs": [],
   "source": [
    "import numpy as np\n",
    "import pandas as pd\n",
    "import plotly.express as px\n",
    "from IPython.display import display\n",
    "\n",
    "from notebook_tools.data_cleaning import (\n",
    "    convert_acc_loan_data,\n",
    "    convert_rej_loan_data,\n",
    "    load_acc_loan_data,\n",
    "    load_acc_loan_feat_desc,\n",
    "    load_rej_loan_data,\n",
    ")\n",
    "from notebook_tools.feature_exploration import (\n",
    "    get_group_sizes,\n",
    "    get_value_counts,\n",
    "    style_loan_summary,\n",
    "    style_value_counts,\n",
    "    summarize_acc_loans,\n",
    "    summarize_loan_data,\n",
    ")"
   ]
  },
  {
   "cell_type": "markdown",
   "id": "ce4c84e8-f781-4f9f-b307-be5a7b647e87",
   "metadata": {},
   "source": [
    "## Display feature summaries"
   ]
  },
  {
   "cell_type": "markdown",
   "id": "e5dff0a8-d773-4cf5-a7a4-1ccce10c57c9",
   "metadata": {},
   "source": [
    "Use functions in the package `notebook_tools` to load data and generate feature\n",
    "summaries."
   ]
  },
  {
   "cell_type": "code",
   "execution_count": null,
   "id": "911bb68d-1876-4a50-afd6-474c199954df",
   "metadata": {},
   "outputs": [],
   "source": [
    "acc_loan_data = load_acc_loan_data(excluded_cols=[\"member_id\"]).pipe(\n",
    "    convert_acc_loan_data\n",
    ")"
   ]
  },
  {
   "cell_type": "code",
   "execution_count": null,
   "id": "dbb7fc71-cd37-48ab-b907-6238e483f7b3",
   "metadata": {},
   "outputs": [],
   "source": [
    "acc_loan_feat_desc = load_acc_loan_feat_desc()"
   ]
  },
  {
   "cell_type": "code",
   "execution_count": null,
   "id": "80b15560-c4d5-48bd-806f-0c7ecd0935be",
   "metadata": {},
   "outputs": [],
   "source": [
    "rej_loan_data = load_rej_loan_data().pipe(convert_rej_loan_data)"
   ]
  },
  {
   "cell_type": "markdown",
   "id": "8d89710a-0d61-4b93-b2d9-106662924053",
   "metadata": {},
   "source": [
    "### Feature summaries for accepted loans"
   ]
  },
  {
   "cell_type": "markdown",
   "id": "92307e58-183b-480a-bc56-2da437b088af",
   "metadata": {},
   "source": [
    "#### Total number of records:  2,260,701"
   ]
  },
  {
   "cell_type": "code",
   "execution_count": null,
   "id": "d9c5532d-890c-4044-8148-9435aafaecd0",
   "metadata": {},
   "outputs": [],
   "source": [
    "print(f\"The number of records for accepted loans is {len(acc_loan_data.index):,d}.\")"
   ]
  },
  {
   "cell_type": "code",
   "execution_count": null,
   "id": "b9654b45-3891-40c4-9b07-afddf3536e8d",
   "metadata": {},
   "outputs": [],
   "source": [
    "for dtype in [np.number, \"string\", \"boolean\"]:\n",
    "    summary = summarize_acc_loans(acc_loan_data, dtype, acc_loan_feat_desc)\n",
    "    print(f\"\\n\\nThe number of features of type {dtype} is {len(summary.index)}.\\n\\n\")\n",
    "    display(style_loan_summary(summary))"
   ]
  },
  {
   "cell_type": "markdown",
   "id": "42515cf1-1faf-4c3e-8318-61e5027bf27c",
   "metadata": {},
   "source": [
    "### Feature summaries for rejected loans"
   ]
  },
  {
   "cell_type": "markdown",
   "id": "164d4498-d9c8-4383-99fb-ae7bf4137767",
   "metadata": {},
   "source": [
    "#### Total number of records:  27,648,741"
   ]
  },
  {
   "cell_type": "code",
   "execution_count": null,
   "id": "f9cfb47e-cc07-40e6-adcf-6ededc59a61d",
   "metadata": {},
   "outputs": [],
   "source": [
    "print(f\"The number of records for accepted loans is {len(rej_loan_data.index):,d}.\")"
   ]
  },
  {
   "cell_type": "code",
   "execution_count": null,
   "id": "647b57fd-bd55-4ee8-a917-af56c4fdd420",
   "metadata": {},
   "outputs": [],
   "source": [
    "for dtype in [np.number, \"string\"]:\n",
    "    summary = summarize_loan_data(rej_loan_data, dtype)\n",
    "    display(style_loan_summary(summary))"
   ]
  },
  {
   "cell_type": "markdown",
   "id": "ef6156cd-2203-4bca-aff9-c4e8b9d9737e",
   "metadata": {},
   "source": [
    "## Explore features"
   ]
  },
  {
   "cell_type": "markdown",
   "id": "ae815015-38fb-4782-8b14-d7167788dd70",
   "metadata": {},
   "source": [
    "### `policy_code` / `Policy Code`\n",
    "\n",
    "What do the columns `policy_code` (for accepted loans) and `Policy Code` (for rejected\n",
    "loans) refer to?\n",
    "\n",
    "From [\"What are these Policy Code 2 Loans at Lending\n",
    "Club?\"](https://www.fintechnexus.com/policy-code-2-loans-lending-club/):\n",
    "\n",
    "> - These [Policy Code 2 loans] are loans made to borrowers that do not meet Lending\n",
    "Club’s current credit policy standards.\n",
    "> - The FICO scores on these borrowers are typically 640-659, below the 660 threshold on\n",
    "Policy Code 1 loans.\n",
    "> - These loans are made available to select institutional investors who have a great\n",
    "deal of experience with consumer loans in this credit spectrum and with Lending Club."
   ]
  },
  {
   "cell_type": "code",
   "execution_count": null,
   "id": "9ff82876-93a8-46b8-9426-b608fce98f47",
   "metadata": {},
   "outputs": [],
   "source": [
    "policy_code_counts = get_value_counts(acc_loan_data[\"policy_code\"])\n",
    "display(style_value_counts(policy_code_counts))"
   ]
  },
  {
   "cell_type": "code",
   "execution_count": null,
   "id": "44c8c98c-3307-45b3-9c64-80f80383b955",
   "metadata": {},
   "outputs": [],
   "source": [
    "policy_code_counts_rej = get_value_counts(rej_loan_data[\"Policy Code\"])\n",
    "display(style_value_counts(policy_code_counts_rej))"
   ]
  },
  {
   "cell_type": "markdown",
   "id": "1948d8ab-3599-4c4e-924f-c8c7eb027539",
   "metadata": {},
   "source": [
    "### `loan_status`"
   ]
  },
  {
   "cell_type": "markdown",
   "id": "00cd6e10-d9bd-4199-abe8-c58538e448a1",
   "metadata": {},
   "source": [
    "What are the distinct values for the column `loan_status`?"
   ]
  },
  {
   "cell_type": "code",
   "execution_count": null,
   "id": "f430c5f2-2335-4a41-8e22-fe3c7de0586e",
   "metadata": {},
   "outputs": [],
   "source": [
    "loan_status_counts = get_value_counts(acc_loan_data[\"loan_status\"])\n",
    "display(style_value_counts(loan_status_counts))"
   ]
  },
  {
   "cell_type": "markdown",
   "id": "fdf59357-efab-45e3-8f53-db27b9398bfa",
   "metadata": {},
   "source": [
    "The 33 rows that have `NA` for `loan_status` also have `NA` for all other features other\n",
    "than `id`, so these rows can be filtered from the data.\n",
    "\n",
    "From the values of `id` displayed in the output of next cell, these null rows appear to\n",
    "be associated with the policy code."
   ]
  },
  {
   "cell_type": "code",
   "execution_count": null,
   "id": "db2858d7-7f0e-40cc-ba27-bb756c27be8f",
   "metadata": {},
   "outputs": [],
   "source": [
    "missing_status = acc_loan_data[acc_loan_data[\"loan_status\"].isna()]"
   ]
  },
  {
   "cell_type": "code",
   "execution_count": null,
   "id": "cb313337-3a2a-4ae8-9687-96f1e597eb02",
   "metadata": {},
   "outputs": [],
   "source": [
    "display(missing_status.head(4).transpose())"
   ]
  },
  {
   "cell_type": "markdown",
   "id": "71569468-0988-4136-a720-391e119ce15b",
   "metadata": {},
   "source": [
    "As a check, verify that if the `id` column is dropped, then all values are `NA` in rows\n",
    "that are missing `loan_status`."
   ]
  },
  {
   "cell_type": "code",
   "execution_count": null,
   "id": "55e61bca-91d7-4582-bcfa-3f8321bdd480",
   "metadata": {},
   "outputs": [],
   "source": [
    "display(missing_status.drop(\"id\", axis=\"columns\").count().sum())"
   ]
  },
  {
   "cell_type": "markdown",
   "id": "3223554d-cd8d-4f46-b582-260aad2610ab",
   "metadata": {},
   "source": [
    "Create a dataframe that has these empty rows filtered out.  After additional filtering,\n",
    "this dataframe will be used to recreate the SQLite database."
   ]
  },
  {
   "cell_type": "code",
   "execution_count": null,
   "id": "43871d75-7c2e-4148-9eb5-f76e46a176fa",
   "metadata": {},
   "outputs": [],
   "source": [
    "filtered_loan_data = acc_loan_data[acc_loan_data[\"loan_status\"].notna()]"
   ]
  },
  {
   "cell_type": "code",
   "execution_count": null,
   "id": "6b0c5c1a-fda1-4a7e-849d-73ad5426851d",
   "metadata": {},
   "outputs": [],
   "source": [
    "loan_status_counts = get_value_counts(filtered_loan_data[\"loan_status\"])\n",
    "display(style_value_counts(loan_status_counts))"
   ]
  },
  {
   "cell_type": "markdown",
   "id": "0b0a5b1c-43a2-4a9c-8689-4057f67454eb",
   "metadata": {},
   "source": [
    "Note that after the rows with missing `loan_status` have been filtered out, there are no\n",
    "missing values for `policy_code`.  Since all rows have the same value for `policy_code`,\n",
    "this column can be dropped."
   ]
  },
  {
   "cell_type": "code",
   "execution_count": null,
   "id": "a8c86216-cddd-48f7-8a7e-ba53e0f3f9ae",
   "metadata": {},
   "outputs": [],
   "source": [
    "policy_code_counts = get_value_counts(filtered_loan_data[\"policy_code\"])\n",
    "display(style_value_counts(policy_code_counts))"
   ]
  },
  {
   "cell_type": "markdown",
   "id": "c1c3d857-cee5-447d-bb1c-c7121b4fe4db",
   "metadata": {},
   "source": [
    "Most of the values for `loan_status` are explained at [\"What Do the Different Note Statuses\n",
    "Mean?\"](https://www.lendingclub.com/help/investing-faq/what-do-the-different-note-statuses-mean).\n",
    "\n",
    "However, the values `Does not meet the credit policy. Status:Fully Paid` and `Does not\n",
    "meet the credit policy. Status:Charged Off` are unclear. Let's take look at a random\n",
    "sample of the rows that have these value of loan status."
   ]
  },
  {
   "cell_type": "code",
   "execution_count": null,
   "id": "75dee296-689b-4409-b593-ce49b522bbb3",
   "metadata": {},
   "outputs": [],
   "source": [
    "bool_index = filtered_loan_data[\"loan_status\"].str.endswith(\"Status:Fully Paid\")\n",
    "sampled_data = filtered_loan_data[bool_index].sample(\n",
    "    n=5, random_state=59147, axis=\"index\"\n",
    ")\n",
    "with pd.option_context(\"display.max_columns\", None):\n",
    "    display(sampled_data)"
   ]
  },
  {
   "cell_type": "code",
   "execution_count": null,
   "id": "44b8b8a8-3f11-406f-9396-c9f0aefaa062",
   "metadata": {},
   "outputs": [],
   "source": [
    "bool_index = filtered_loan_data[\"loan_status\"].str.endswith(\"Status:Charged Off\")\n",
    "sampled_data = filtered_loan_data[bool_index].sample(\n",
    "    n=5, random_state=59147, axis=\"index\"\n",
    ")\n",
    "with pd.option_context(\"display.max_columns\", None):\n",
    "    display(sampled_data)"
   ]
  },
  {
   "cell_type": "markdown",
   "id": "9a474cba-0bd5-44ad-80f7-2a2448a339d9",
   "metadata": {},
   "source": [
    "Nothing jumps out from this small random sample.  Rather than trying to guess why\n",
    "certain rows do not meet the credit policy, I'll exclude these rows."
   ]
  },
  {
   "cell_type": "code",
   "execution_count": null,
   "id": "f22ed896-2c4a-483f-89a5-95ca13452e56",
   "metadata": {},
   "outputs": [],
   "source": [
    "bool_index = filtered_loan_data[\"loan_status\"].str.startswith(\"Does not meet\")\n",
    "filtered_loan_data = filtered_loan_data[~bool_index]"
   ]
  },
  {
   "cell_type": "code",
   "execution_count": null,
   "id": "9fb261eb-f506-4954-9404-f5c5c9fa91bb",
   "metadata": {},
   "outputs": [],
   "source": [
    "loan_status_counts = get_value_counts(filtered_loan_data[\"loan_status\"])\n",
    "display(style_value_counts(loan_status_counts))"
   ]
  },
  {
   "cell_type": "markdown",
   "id": "ced5dda5-0a62-44fc-84f0-a6943e8dd35a",
   "metadata": {},
   "source": [
    "### `issue_d`"
   ]
  },
  {
   "cell_type": "markdown",
   "id": "715867cf-bd06-4171-97d0-9bd66f72fd1b",
   "metadata": {},
   "source": [
    "The description of this feature is \"The month which the loan was funded\".\n",
    "\n",
    "After rows with problematic values of `loan_status` have been filtered out, there are no\n",
    "missing values for `issue_d`."
   ]
  },
  {
   "cell_type": "code",
   "execution_count": null,
   "id": "76f6df43-9439-49b3-9d0c-f1c805f24b39",
   "metadata": {},
   "outputs": [],
   "source": [
    "filtered_loan_data[\"issue_d\"].isna().sum()"
   ]
  },
  {
   "cell_type": "code",
   "execution_count": null,
   "id": "bf0d76c0-224c-4765-b5af-b6187aec01f0",
   "metadata": {},
   "outputs": [],
   "source": [
    "to_plot = get_group_sizes(filtered_loan_data, group_by=\"issue_d\")\n",
    "fig = px.line(\n",
    "    to_plot,\n",
    "    x=\"issue_d\",\n",
    "    y=\"count\",\n",
    "    markers=True,\n",
    "    labels={\"issue_d\": \"Loan date\", \"count\": \"Number of loans\"},\n",
    "    hover_data={\"count\": \":.3s\"},\n",
    "    title=\"Number of accepted loans by date\",\n",
    ")\n",
    "fig.show()"
   ]
  },
  {
   "cell_type": "markdown",
   "id": "95ca72d5-71d4-4f4c-80dd-4dd1684119d7",
   "metadata": {},
   "source": [
    "I will exclude pre-2012 dates from the analysis.\n",
    "\n",
    "Analysis and prediction based on this data will need to take account of changes in\n",
    "behavior over time, and given the relatively small number of loans issued before 2012,\n",
    "it is not worthwhile to include the pre-2012 data."
   ]
  },
  {
   "cell_type": "code",
   "execution_count": null,
   "id": "260a8ed4-9b47-44d7-9639-3aeac71640f7",
   "metadata": {},
   "outputs": [],
   "source": [
    "bool_index = filtered_loan_data[\"issue_d\"] >= \"2012-01\"\n",
    "filtered_loan_data = filtered_loan_data[bool_index]"
   ]
  },
  {
   "cell_type": "code",
   "execution_count": null,
   "id": "509a195e-fb4c-4ef9-bcbd-70b3e83f0cb6",
   "metadata": {},
   "outputs": [],
   "source": [
    "to_plot = get_group_sizes(filtered_loan_data, group_by=\"issue_d\")\n",
    "fig = px.line(\n",
    "    to_plot,\n",
    "    x=\"issue_d\",\n",
    "    y=\"count\",\n",
    "    markers=True,\n",
    "    labels={\"issue_d\": \"Loan date\", \"count\": \"Number of loans\"},\n",
    "    hover_data={\"count\": \":.3s\"},\n",
    "    title=\"Number of accepted loans by date\",\n",
    ")\n",
    "fig.show()"
   ]
  },
  {
   "cell_type": "markdown",
   "id": "6d90e094-a7a4-442b-b6d6-eb3e049cef7d",
   "metadata": {},
   "source": [
    "### `loan_amnt` / `funded_amnt` / `funded_amnt_inv`"
   ]
  },
  {
   "cell_type": "markdown",
   "id": "04ff7372-65fc-4d48-9750-db14b30d108e",
   "metadata": {},
   "source": [
    "What is the distinction between `loan_amnt`, `funded_amnt`, `funded_amnt_inv`?\n",
    "\n",
    "Start by examining the feature descriptions."
   ]
  },
  {
   "cell_type": "code",
   "execution_count": null,
   "id": "78262c16-4dc9-4103-a57a-79003df62534",
   "metadata": {},
   "outputs": [],
   "source": [
    "amount_features = acc_loan_feat_desc.loc[\n",
    "    [\"loan_amnt\", \"funded_amnt\", \"funded_amnt_inv\"], [\"description\"]\n",
    "]\n",
    "display(style_loan_summary(amount_features))"
   ]
  },
  {
   "cell_type": "markdown",
   "id": "0923418c-7c1a-484a-a178-14063ac2a76b",
   "metadata": {},
   "source": [
    "What should we infer in cases where `loan_amnt` is different than `funded_amnt`, or in\n",
    "cases where `funded_amnt` is different than `funded_amnt_inv`?  It's not completely\n",
    "clear from these descriptions.\n",
    "\n",
    "Investigate the frequency of these cases."
   ]
  },
  {
   "cell_type": "code",
   "execution_count": null,
   "id": "42c0849d-0505-460e-815d-05b1333f0d01",
   "metadata": {},
   "outputs": [],
   "source": [
    "# First check for missing values.\n",
    "for column_name in [\"loan_amnt\", \"funded_amnt\", \"funded_amnt_inv\"]:\n",
    "    na_count = filtered_loan_data[column_name].isna().sum()\n",
    "    print(f'\\nThe number of missing values for feature \"{column_name}\" is {na_count}.')"
   ]
  },
  {
   "cell_type": "code",
   "execution_count": null,
   "id": "7f97fad4-44bc-4656-8910-1312c08b68d1",
   "metadata": {},
   "outputs": [],
   "source": [
    "bool_index = (filtered_loan_data[\"loan_amnt\"] - filtered_loan_data[\"funded_amnt\"]) != 0\n",
    "print(\n",
    "    '\\nThe number of loans with \"loan_amnt\" different than \"funded_amnt\" is '\n",
    "    f\"{sum(bool_index)}.\\n\"\n",
    ")\n",
    "\n",
    "to_plot = get_group_sizes(filtered_loan_data[bool_index], group_by=\"issue_d\")\n",
    "fig = px.scatter(\n",
    "    to_plot,\n",
    "    x=\"issue_d\",\n",
    "    y=\"count\",\n",
    "    labels={\"issue_d\": \"Loan date\", \"count\": \"Number of loans\"},\n",
    "    hover_data={\"count\": \":,d\"},\n",
    "    title='Number of loans with \"loan_amnt\" different than \"funded_amnt\"',\n",
    ")\n",
    "fig.show()"
   ]
  },
  {
   "cell_type": "code",
   "execution_count": null,
   "id": "bee98671-04f6-4092-a688-13be388bb103",
   "metadata": {},
   "outputs": [],
   "source": [
    "bool_index = (\n",
    "    filtered_loan_data[\"funded_amnt\"] - filtered_loan_data[\"funded_amnt_inv\"]\n",
    ") != 0\n",
    "print(\n",
    "    '\\nThe number of loans with \"funded_amnt\" different than \"funded_amnt_inv\" is '\n",
    "    f\"{sum(bool_index)}.\\n\"\n",
    ")\n",
    "\n",
    "to_plot = get_group_sizes(filtered_loan_data[bool_index], group_by=\"issue_d\")\n",
    "fig = px.scatter(\n",
    "    to_plot,\n",
    "    x=\"issue_d\",\n",
    "    y=\"count\",\n",
    "    labels={\"issue_d\": \"Loan date\", \"count\": \"Number of loans\"},\n",
    "    hover_data={\"count\": \":,d\"},\n",
    "    title='Number of loans with \"funded_amnt\" different than \"funded_amnt_inv\"',\n",
    ")\n",
    "fig.show()"
   ]
  },
  {
   "cell_type": "markdown",
   "id": "0bcc869c-8938-4a13-b122-abb30f82b5fc",
   "metadata": {},
   "source": [
    "Discussion:\n",
    "\n",
    "- Only 68 of the 2.2 million loans have `loan_amnt` different than `funded_amnt`.\n",
    "Essentially all the loans are fully funded.\n",
    "- About 130k of the loans have different values for `funded_amnt` and `funded_amnt_inv`.\n",
    "Is LendingClub itself providing funding in these case?\n",
    "\n",
    "While I don't understand the cause of the differences between `loan_amnt`,\n",
    "`funded_amnt`, and `funded_amnt_inv`, I won't filter out the rows with different values\n",
    "for these features.  Unlike the rows where `loan_status` includes the string `\"Does not\n",
    "meet the credit policy\"`, there isn't a strong indication that rows with different\n",
    "values for `loan_amnt`, `funded_amnt`, and `funded_amnt_inv` are fundamentally\n",
    "problematic."
   ]
  },
  {
   "cell_type": "markdown",
   "id": "472c5921-81e2-470b-a7a2-03c0c594eb1d",
   "metadata": {},
   "source": [
    "### `initial_list_status`"
   ]
  },
  {
   "cell_type": "markdown",
   "id": "23f04e21-752c-4999-8fca-7bff0f79825d",
   "metadata": {},
   "source": [
    "The feature `initial_list_status` is explained in [this blog\n",
    "post](https://sirallen.name/blog/note-on-lending-club/):\n",
    "\n",
    "> The variable initial_list_status is available in the public data and identifies\n",
    "> whether a loan was initially listed in the whole (W) or fractional (F) market. Loans\n",
    "> listed “whole” become available for fractional funding (and vice versa) if there are no\n",
    "> buyers within a certain time frame."
   ]
  },
  {
   "cell_type": "code",
   "execution_count": null,
   "id": "f3446c70-2e14-4be6-a76d-6d31f46addb6",
   "metadata": {},
   "outputs": [],
   "source": [
    "list_status_counts = get_value_counts(filtered_loan_data[\"initial_list_status\"])\n",
    "display(style_value_counts(list_status_counts))"
   ]
  },
  {
   "cell_type": "markdown",
   "id": "0ac077b9-062c-4f88-ae63-afbae4ab6253",
   "metadata": {},
   "source": [
    "Given this explanation of the feature `initial_list_status`, there's no need to drop the\n",
    "feature or filter out rows based on the value of the feature"
   ]
  },
  {
   "cell_type": "markdown",
   "id": "723b68f9-83ae-4989-9cea-1869b3f85620",
   "metadata": {},
   "source": [
    "### `int_rate`"
   ]
  },
  {
   "cell_type": "markdown",
   "id": "26afb7fe-141a-4857-8a97-6a27ba79a968",
   "metadata": {},
   "source": [
    "The notebook `analysis-01.ipynb` presents an in-depth analysis of interest rates for the\n",
    "accepted loans. While doing that analysis, I found that some loans had an anomalously\n",
    "low interest rate, given the poor grade assigned to the loans by LendingClub.\n",
    "\n",
    "Here I present analysis showing that some interest rates are anomalously low, and I\n",
    "explore possible explanations. Since none of the explanations are well supported by the\n",
    "data, I filter out the corresponding loans."
   ]
  },
  {
   "cell_type": "markdown",
   "id": "26aa6488-8bc8-4bab-bdd6-dc16e179ddcf",
   "metadata": {},
   "source": [
    "Note on the code for visualization:  I use plotly histograms to highlight the anomalous\n",
    "interest rates, and the binning for these histograms needs to be done outside of plotly.\n",
    "The reason is that plotly does binning in JavaScript, and so unbinned data passed to\n",
    "plotly's histogram function becomes part of the javascript code stored with the\n",
    "notebook. For the current data set, this can increase the notebook size on disk by a\n",
    "factor of more than 100."
   ]
  },
  {
   "cell_type": "code",
   "execution_count": null,
   "id": "9745463c-05a4-4c86-82dd-00d9842b08d4",
   "metadata": {},
   "outputs": [],
   "source": [
    "min = filtered_loan_data[\"int_rate\"].min()\n",
    "max = filtered_loan_data[\"int_rate\"].max()\n",
    "print(\n",
    "    'The minimum and maximum values of \"int_rate\" '\n",
    "    f\"are {min} and {max}, respectively.\"\n",
    ")"
   ]
  },
  {
   "cell_type": "code",
   "execution_count": null,
   "id": "1ef60d99-baff-44b8-9dbf-02ee6821cb6a",
   "metadata": {},
   "outputs": [],
   "source": [
    "# Define arrays / lists needed for binning the histogram and plotting the bins in\n",
    "# plotly.\n",
    "int_rate_bins = np.linspace(5, 31, num=27)\n",
    "int_rate_bin_labels = [f\"{left:d}% - {left+0.99:.2f}%\" for left in range(5, 31)]\n",
    "int_rate_tick_vals = int_rate_bin_labels[0::5]\n",
    "int_rate_tick_text = [f\"{left}%\" for left in range(5, 35, 5)]"
   ]
  },
  {
   "cell_type": "code",
   "execution_count": null,
   "id": "ba867526-a66c-40bb-b06f-7bc26819ded9",
   "metadata": {},
   "outputs": [],
   "source": [
    "filtered_loan_data[\"int_rate_bin\"] = pd.cut(\n",
    "    filtered_loan_data[\"int_rate\"],\n",
    "    bins=int_rate_bins,\n",
    "    labels=int_rate_bin_labels,\n",
    "    right=False,\n",
    ")"
   ]
  },
  {
   "cell_type": "code",
   "execution_count": null,
   "id": "01405d17-8f63-4350-afd3-2c539da3979a",
   "metadata": {},
   "outputs": [],
   "source": [
    "to_plot = get_group_sizes(filtered_loan_data, group_by=\"int_rate_bin\")\n",
    "fig = px.bar(\n",
    "    to_plot,\n",
    "    x=\"int_rate_bin\",\n",
    "    y=\"count\",\n",
    "    labels={\"count\": \"Number of loans\", \"int_rate_bin\": \"Interest rate\"},\n",
    "    title=\"Distribution of loan interest rate\",\n",
    ")\n",
    "customdata = to_plot[\"int_rate_bin\"]\n",
    "hovertemplate = \"Interest rate=%{customdata}<br>Number of loans=%{y:.3s}<extra></extra>\"\n",
    "fig.update_traces(customdata=customdata, hovertemplate=hovertemplate)\n",
    "fig.update_layout(bargap=0)\n",
    "fig.update_xaxes(\n",
    "    tickmode=\"array\", tickvals=int_rate_tick_vals, ticktext=int_rate_tick_text\n",
    ")\n",
    "fig.show()"
   ]
  },
  {
   "cell_type": "code",
   "execution_count": null,
   "id": "f8eca8ab-8da8-4d32-9c59-be29b7a74507",
   "metadata": {},
   "outputs": [],
   "source": [
    "to_plot = get_group_sizes(filtered_loan_data, group_by=[\"int_rate_bin\", \"grade\"])\n",
    "fig = px.bar(\n",
    "    to_plot,\n",
    "    x=\"int_rate_bin\",\n",
    "    y=\"count\",\n",
    "    facet_row=\"grade\",\n",
    "    labels={\n",
    "        \"count\": \"Number of loans\",\n",
    "        \"int_rate_bin\": \"Interest rate\",\n",
    "        \"grade\": \"Grade\",\n",
    "    },\n",
    "    title=\"Distribution of loan interest rate by loan grade\",\n",
    "    hover_data={\"count\": \":.3s\"},\n",
    "    height=1200,\n",
    ")\n",
    "fig.update_xaxes(tickmode=\"array\", tickvals=int_rate_tick_vals, tickangle=45)\n",
    "fig.update_yaxes(matches=None, title=\"\")\n",
    "fig.update_layout(bargap=0, yaxis4_title=\"Number of Loans\")\n",
    "fig.show()"
   ]
  },
  {
   "cell_type": "code",
   "execution_count": null,
   "id": "7caa5afa-99f3-476b-a4f1-2d6f68775f7a",
   "metadata": {},
   "outputs": [],
   "source": [
    "to_plot = get_group_sizes(\n",
    "    filtered_loan_data, group_by=[\"int_rate_bin\", \"grade\", \"sub_grade\"]\n",
    ")\n",
    "to_plot[\"sub_grade\"] = to_plot[\"sub_grade\"].str[1]\n",
    "fig = px.bar(\n",
    "    to_plot,\n",
    "    x=\"int_rate_bin\",\n",
    "    y=\"count\",\n",
    "    facet_row=\"grade\",\n",
    "    color=\"sub_grade\",\n",
    "    labels={\n",
    "        \"count\": \"Number of loans\",\n",
    "        \"int_rate_bin\": \"Interest rate\",\n",
    "        \"grade\": \"Grade\",\n",
    "        \"sub_grade\": \"Sub-grade\",\n",
    "    },\n",
    "    title=\"Distribution of loan interest rate by loan grade and sub-grade\",\n",
    "    hover_data={\"count\": \":.3s\"},\n",
    "    height=1200,\n",
    ")\n",
    "fig.update_xaxes(tickmode=\"array\", tickvals=int_rate_tick_vals, tickangle=45)\n",
    "fig.update_yaxes(matches=None, title=\"\")\n",
    "fig.update_layout(bargap=0, yaxis4_title=\"Number of Loans\")\n",
    "fig.show()"
   ]
  },
  {
   "cell_type": "markdown",
   "id": "f8e0615d-3e3f-4b8c-9b8e-daa9492ead76",
   "metadata": {},
   "source": [
    "The previous plots show the following:\n",
    "\n",
    "- The interest rate varies systematically with the loan grade.\n",
    "- For loans with a high grade, the interest rate varies systemtically with loan\n",
    "sub-grade.\n",
    "- For loans with a low grade, the dependence of interest rate on sub-grade is complex.\n",
    "\n",
    "To get a different view of these patterns, I'll set the y-axis to show percentage of\n",
    "loans rather than number of loans in each category."
   ]
  },
  {
   "cell_type": "code",
   "execution_count": null,
   "id": "0deb6f90-89c6-4dc2-b34a-5abdb887a725",
   "metadata": {},
   "outputs": [],
   "source": [
    "to_plot = get_group_sizes(\n",
    "    filtered_loan_data, group_by=[\"int_rate_bin\", \"grade\", \"sub_grade\"]\n",
    ")\n",
    "to_plot[\"sub_grade\"] = to_plot[\"sub_grade\"].str[1]\n",
    "fig = px.histogram(\n",
    "    to_plot,\n",
    "    x=\"int_rate_bin\",\n",
    "    y=\"count\",\n",
    "    facet_row=\"grade\",\n",
    "    color=\"sub_grade\",\n",
    "    labels={\n",
    "        \"count\": \"Number of loans\",\n",
    "        \"int_rate_bin\": \"Interest rate\",\n",
    "        \"grade\": \"Grade\",\n",
    "        \"sub_grade\": \"Sub-grade\",\n",
    "    },\n",
    "    barnorm=\"fraction\",\n",
    "    title=\"Distribution of loan interest rate by loan grade and sub-grade\",\n",
    "    height=1200,\n",
    ")\n",
    "\n",
    "\n",
    "def clean_up_hovertemplate(trace):\n",
    "    trace.hovertemplate = trace.hovertemplate.replace(\n",
    "        \"sum of Number of loans (normalized as fraction)\", \"Percentage\"\n",
    "    )\n",
    "\n",
    "\n",
    "fig.for_each_trace(clean_up_hovertemplate)\n",
    "fig.update_xaxes(tickmode=\"array\", tickvals=int_rate_tick_vals, tickangle=45)\n",
    "fig.update_yaxes(title=\"\", tickformat=\".2p\")\n",
    "fig.update_layout(bargap=0, yaxis4_title=\"Number of loans\")\n",
    "fig.show()"
   ]
  },
  {
   "cell_type": "markdown",
   "id": "c20c78cf-4ae9-4c03-8e8f-89bf1c147cc5",
   "metadata": {},
   "source": [
    "The plot above shows the anomalous interest rates.\n",
    "For example, most of the loans in the bottom row, which correspond to the lowest grade,\n",
    "have an interest rate of at least 22%, but the plot also shows a block of loans\n",
    "in the bottom row with interest rate in the range of 6% - 6.99%.\n",
    "\n",
    "Possible explanations that I explored:\n",
    "\n",
    "- These rates are associated with a hardship plan or settlement plan.\n",
    "- The funding mechanism for these loans is unusual.\n",
    "- These loans are associated with some external event and were all issued at around the\n",
    "same time.\n",
    "- An improvement in the borrower's FICO score may have caused the interest rate to be\n",
    "lowered without changing the assigned loan grade.\n",
    "\n",
    "As shown below, I could not find support in the data for any of these guesses."
   ]
  },
  {
   "cell_type": "markdown",
   "id": "5da1dc09-fa18-4e96-ab00-d75b69a8cc4b",
   "metadata": {},
   "source": [
    "First select all of anomalous cases with interest rate in the range of 6% - 6.99%.\n",
    "There are 625 of these loans."
   ]
  },
  {
   "cell_type": "code",
   "execution_count": null,
   "id": "54dcac9c-fbcf-4a59-b75a-9f81f29cfdf7",
   "metadata": {},
   "outputs": [],
   "source": [
    "anomalous_int_rate_data = filtered_loan_data[\n",
    "    (filtered_loan_data[\"grade\"] != \"A\") & (filtered_loan_data[\"int_rate\"] < 7)\n",
    "]"
   ]
  },
  {
   "cell_type": "code",
   "execution_count": null,
   "id": "4d2d20bf-4e56-4cb0-836e-32e3ceef56ff",
   "metadata": {},
   "outputs": [],
   "source": [
    "print(f\"Number of loans: {len(anomalous_int_rate_data.index)}.\")"
   ]
  },
  {
   "cell_type": "markdown",
   "id": "cb90d86a-8f1b-4885-89f8-9cced455bdb9",
   "metadata": {},
   "source": [
    "Check the category of loans with grade 'D' and interest rate 8% - 8.99% shown in the\n",
    "plot above.  There is only 1 loan in this category."
   ]
  },
  {
   "cell_type": "code",
   "execution_count": null,
   "id": "00e6dd89-8a6d-486c-a022-7124fcbafd45",
   "metadata": {},
   "outputs": [],
   "source": [
    "bool_index = (filtered_loan_data[\"grade\"] == \"D\") & (\n",
    "    filtered_loan_data[\"int_rate\"].between(7.99, 9, inclusive=\"neither\")\n",
    ")\n",
    "print(f\"Number of loans: {sum(bool_index)}.\")"
   ]
  },
  {
   "cell_type": "markdown",
   "id": "51b5a75c-1dc9-47c1-ab57-d67e9eb5b11b",
   "metadata": {},
   "source": [
    "I will focus on the anomalous cases with interest rate in the range of 6% - 6.99%.\n",
    "\n",
    "All of these loans have the same rate:  6.0%."
   ]
  },
  {
   "cell_type": "code",
   "execution_count": null,
   "id": "0e6bca38-0a83-40b1-b096-99687ab516cf",
   "metadata": {},
   "outputs": [],
   "source": [
    "anomalous_rates = list(anomalous_int_rate_data[\"int_rate\"].unique())\n",
    "print(f\"Distinct values of interest rate:  {anomalous_rates}\")"
   ]
  },
  {
   "cell_type": "markdown",
   "id": "a6743dc8-0b2c-453e-9657-d071234a1204",
   "metadata": {},
   "source": [
    "Only a few are associated with a hardship plan or settlement plan."
   ]
  },
  {
   "cell_type": "code",
   "execution_count": null,
   "id": "6a894178-9a97-4813-9855-879a19eaae25",
   "metadata": {},
   "outputs": [],
   "source": [
    "display(\n",
    "    style_value_counts(get_value_counts(anomalous_int_rate_data[\"hardship_status\"]))\n",
    ")\n",
    "display(\n",
    "    style_value_counts(get_value_counts(anomalous_int_rate_data[\"settlement_term\"]))\n",
    ")"
   ]
  },
  {
   "cell_type": "markdown",
   "id": "150b1666-9c28-4d01-b249-f309ec1a9e92",
   "metadata": {},
   "source": [
    "All of these loans are fully funded.  For 46 of the loans, the value of `funded_amnt` is\n",
    "different from the value of `funded_amnt_inv`, but most of the loans are fully funded by\n",
    "investors."
   ]
  },
  {
   "cell_type": "code",
   "execution_count": null,
   "id": "7469e3c8-7881-476f-aa91-fba3edf82e9d",
   "metadata": {},
   "outputs": [],
   "source": [
    "bool_index = (\n",
    "    anomalous_int_rate_data[\"loan_amnt\"] - anomalous_int_rate_data[\"funded_amnt\"]\n",
    ") != 0\n",
    "\n",
    "print(f\"The number of these loans that are not fully funded is {sum(bool_index)}.\")"
   ]
  },
  {
   "cell_type": "code",
   "execution_count": null,
   "id": "65eeb4d2-d45b-4a40-b751-d821259a331b",
   "metadata": {},
   "outputs": [],
   "source": [
    "bool_index = (\n",
    "    anomalous_int_rate_data[\"funded_amnt\"] - anomalous_int_rate_data[\"funded_amnt_inv\"]\n",
    ") != 0\n",
    "print(\n",
    "    'The number of these loans with \"funded_amnt\" different than \"funded_amnt_inv\" '\n",
    "    f\"is {sum(bool_index)}.\"\n",
    ")"
   ]
  },
  {
   "cell_type": "markdown",
   "id": "72a2c63a-d897-40fb-aac3-f1e6c94bcebc",
   "metadata": {},
   "source": [
    "The dates of these loans are spread over the full ranges of dates of the filtered data,\n",
    "so they do not appear to be associated with an external event."
   ]
  },
  {
   "cell_type": "code",
   "execution_count": null,
   "id": "71cc943a-fabf-4571-96cf-88eb558871e8",
   "metadata": {},
   "outputs": [],
   "source": [
    "to_plot = get_group_sizes(anomalous_int_rate_data, group_by=\"issue_d\")\n",
    "fig = px.scatter(\n",
    "    to_plot,\n",
    "    x=\"issue_d\",\n",
    "    y=\"count\",\n",
    "    labels={\"issue_d\": \"Loan date\", \"count\": \"Number of loans\"},\n",
    "    title=\"Dates of loans with anomalous interest rate 6.0%\",\n",
    ")\n",
    "fig.show()"
   ]
  },
  {
   "cell_type": "markdown",
   "id": "1bac6309-324c-43bb-b4c7-3eaf5ba05e1e",
   "metadata": {},
   "source": [
    "Look at a random sample of these records and check whether the FICO score improved from\n",
    "the value it had at loan origination."
   ]
  },
  {
   "cell_type": "code",
   "execution_count": null,
   "id": "ad967a78-0f13-496d-ab96-ab04461c65d1",
   "metadata": {},
   "outputs": [],
   "source": [
    "# Define a reproducible random state for sampling randomly\n",
    "rng = np.random.default_rng(seed=16513)"
   ]
  },
  {
   "cell_type": "code",
   "execution_count": null,
   "id": "28458023-80c0-4159-a725-ade670926a15",
   "metadata": {},
   "outputs": [],
   "source": [
    "sampled_data = anomalous_int_rate_data.sample(10, random_state=rng)"
   ]
  },
  {
   "cell_type": "code",
   "execution_count": null,
   "id": "57c5d721-d6f8-4108-b6b2-2abd4119b8b2",
   "metadata": {},
   "outputs": [],
   "source": [
    "fico_columns = [\n",
    "    \"fico_range_low\",\n",
    "    \"fico_range_high\",\n",
    "    \"last_fico_range_low\",\n",
    "    \"last_fico_range_high\",\n",
    "]\n",
    "style_loan_summary(sampled_data[fico_columns])"
   ]
  },
  {
   "cell_type": "markdown",
   "id": "d848604e-30de-4fa6-a15e-737648468768",
   "metadata": {},
   "source": [
    "The columns `fico_range_low` and `fico_range_high` correspond to values at loan\n",
    "origination, while the columns `last_fico_range_low` and `last_fico_range_high`\n",
    "correspond to a more recent check of the credit rating.  This random sample does not\n",
    "show a systematic jump in FICO scores for the loans with anomalously low interest rates."
   ]
  },
  {
   "cell_type": "markdown",
   "id": "6b5b8257-33c2-44bc-b663-bb035926f014",
   "metadata": {},
   "source": [
    "Inspect the columns of the data frame for a patterns that might explain the low rates."
   ]
  },
  {
   "cell_type": "code",
   "execution_count": null,
   "id": "0edee0c5-a228-44d4-8cb7-57882dec2d08",
   "metadata": {},
   "outputs": [],
   "source": [
    "with pd.option_context(\"display.max_columns\", None):\n",
    "    display(sampled_data)"
   ]
  },
  {
   "cell_type": "markdown",
   "id": "8083172b-3af6-4c64-abe4-71091bd57bd0",
   "metadata": {},
   "source": [
    "I don't see any interesting patterns in this sample, so I will filter out the 626 rows\n",
    "that have anomalously low interest rates."
   ]
  },
  {
   "cell_type": "code",
   "execution_count": null,
   "id": "52bc3d20-8c30-4ba5-9187-4f864e401034",
   "metadata": {},
   "outputs": [],
   "source": [
    "int_rate_is_anomalous = (filtered_loan_data[\"grade\"] != \"A\") & (\n",
    "    filtered_loan_data[\"int_rate\"] < 7\n",
    ")\n",
    "int_rate_is_anomalous = int_rate_is_anomalous | (\n",
    "    (filtered_loan_data[\"grade\"] == \"D\") & (filtered_loan_data[\"int_rate\"] < 9)\n",
    ")\n",
    "filtered_loan_data = filtered_loan_data[~int_rate_is_anomalous]"
   ]
  },
  {
   "cell_type": "markdown",
   "id": "8a0cc57a-744b-4943-bad6-eb1b67a233b1",
   "metadata": {},
   "source": [
    "### `hardship_type`, `hardship_length`, and `deferral_term`"
   ]
  },
  {
   "cell_type": "markdown",
   "id": "f9ffc039-3db8-46c9-a15d-202b7d0b6a50",
   "metadata": {},
   "source": [
    "The features `hardship_type`, `hardship_length`, and `deferral_term` each have only one value (other\n",
    "than &lt;NA&gt;)."
   ]
  },
  {
   "cell_type": "code",
   "execution_count": null,
   "id": "b270ff4a-cc87-4c6e-aab3-f76eef1955dc",
   "metadata": {},
   "outputs": [],
   "source": [
    "hardship_type_counts = get_value_counts(filtered_loan_data[\"hardship_type\"])\n",
    "display(style_value_counts(hardship_type_counts))"
   ]
  },
  {
   "cell_type": "code",
   "execution_count": null,
   "id": "f48290c5-3598-4e1f-8c94-348a18cd56b6",
   "metadata": {},
   "outputs": [],
   "source": [
    "hardship_length_counts = get_value_counts(filtered_loan_data[\"hardship_length\"])\n",
    "display(style_value_counts(hardship_length_counts))"
   ]
  },
  {
   "cell_type": "code",
   "execution_count": null,
   "id": "cd0a9742-d960-4176-89d0-ee92f42f5fb5",
   "metadata": {},
   "outputs": [],
   "source": [
    "deferral_term_counts = get_value_counts(filtered_loan_data[\"deferral_term\"])\n",
    "display(style_value_counts(deferral_term_counts))"
   ]
  },
  {
   "cell_type": "markdown",
   "id": "afd4f024-ad39-4c28-9c4f-a9a50d179b30",
   "metadata": {},
   "source": [
    "It appears that loans with &lt;NA&gt; in these columns are not associated with a hardship plan,\n",
    "so each of these columns can be used as a flag for hardship plans.\n",
    "\n",
    "If these columns are dropped, can we infer from other columns which loans are associated with a hardship plan?\n",
    "\n",
    "Yes, because a loan has `hardship_amount` equal to &lt;NA&gt; if and only if `hardship_type`, `hardship_length`, and `deferral_term` are &lt;NA&gt;."
   ]
  },
  {
   "cell_type": "code",
   "execution_count": null,
   "id": "287c8cf3-a341-40df-88bd-ef0be0b27d74",
   "metadata": {},
   "outputs": [],
   "source": [
    "hardship_amount_isna = filtered_loan_data[\"hardship_amount\"].isna()\n",
    "matching_na = (\n",
    "    hardship_amount_isna.equals(filtered_loan_data[\"hardship_type\"].isna())\n",
    "    and hardship_amount_isna.equals(filtered_loan_data[\"hardship_length\"].isna())\n",
    "    and hardship_amount_isna.equals(filtered_loan_data[\"deferral_term\"].isna())\n",
    ")\n",
    "if matching_na:\n",
    "    print(\n",
    "        \"The columns hardship_amount, hardship_type, hardship_length, \"\n",
    "        \"and deferral term have <NA> values at the same positions.\"\n",
    "    )\n",
    "else:\n",
    "    print(\"Mismatch in <NA> values.\")"
   ]
  },
  {
   "cell_type": "markdown",
   "id": "d2ec8802-dd46-4ce7-8efd-9f404d3f8221",
   "metadata": {},
   "source": [
    "## Filter data"
   ]
  },
  {
   "cell_type": "markdown",
   "id": "30f5d512-012d-4599-b038-c848afd8b706",
   "metadata": {},
   "source": [
    "Taking account of the feature summaries and the feature exploration above, certain\n",
    "columns will be excluded from the analysis of accepted loans.\n",
    "\n",
    "- url:  URL for the LC page with listing data\n",
    "- title:  The loan title provided by the borrower\n",
    "- desc:  Loan description provided by the borrower\n",
    "- policy_code:  publicly available policy_code=1, new products not publicly available\n",
    "policy_code=2\n",
    "- hardship_type:  Describes the hardship plan offering\n",
    "- hardship_length:  The number of months the borrower will make smaller payments than\n",
    "normally obligated due to a hardship plan\n",
    "- deferral_term:  Amount of months that the borrower is expected to pay less than the\n",
    "contractual monthly payment amount due to a hardship plan\n",
    "\n",
    "Also, rows will be featured out based on the following criteria:\n",
    "\n",
    "- Problematic values for `loan_status`\n",
    "    1. `<NA>`\n",
    "    2. `Does not meet the credit policy. Status:Fully Paid`\n",
    "    3. `Does not meet the credit policy. Status:Charged Off`\n",
    "- Values of `issue_d` before 2012\n",
    "- Anomalously low values of `int_rate`"
   ]
  },
  {
   "cell_type": "code",
   "execution_count": null,
   "id": "dc36cf6b-28c3-48c8-ac1c-8636d5f64254",
   "metadata": {},
   "outputs": [],
   "source": [
    "to_drop = [\n",
    "    \"url\",\n",
    "    \"title\",\n",
    "    \"desc\",\n",
    "    \"policy_code\",\n",
    "    \"hardship_type\",\n",
    "    \"hardship_length\",\n",
    "    \"deferral_term\",\n",
    "]\n",
    "filtered_loan_data = filtered_loan_data.drop(\n",
    "    to_drop,\n",
    "    axis=\"columns\",\n",
    ")"
   ]
  }
 ],
 "metadata": {
  "kernelspec": {
   "display_name": "Python 3 (ipykernel)",
   "language": "python",
   "name": "python3"
  },
  "language_info": {
   "codemirror_mode": {
    "name": "ipython",
    "version": 3
   },
   "file_extension": ".py",
   "mimetype": "text/x-python",
   "name": "python",
   "nbconvert_exporter": "python",
   "pygments_lexer": "ipython3",
   "version": "3.11.4"
  }
 },
 "nbformat": 4,
 "nbformat_minor": 5
}
