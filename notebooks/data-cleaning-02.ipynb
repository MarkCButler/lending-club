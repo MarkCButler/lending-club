{
 "cells": [
  {
   "cell_type": "markdown",
   "id": "b412eee1-e1e8-4eb0-ba2f-ebc8dbff4309",
   "metadata": {},
   "source": [
    "# Filter columns and rows\n",
    "\n",
    "- [Display feature summaries](#Display-feature-summaries)\n",
    "- [Explore features](#Explore-features)\n",
    "- [Filter columns and rows](#Filter-columns-and-rows)\n",
    "- [Update the database](#Update-the-database)"
   ]
  },
  {
   "cell_type": "markdown",
   "id": "87c6f0f4-0d32-46cb-a1fb-528a1263df10",
   "metadata": {},
   "source": [
    "The most recent data in the LendingClub\n",
    "[dataset](https://www.kaggle.com/datasets/wordsforthewise/lending-club) is from 2018,\n",
    "and since then, LendingClub has [stopped operating as a peer-to-peer\n",
    "lender](https://en.wikipedia.org/wiki/LendingClub#End_of_P2P_platform,_2019-2020).\n",
    "Unsurprisingly, it's difficult to find explanations on the LendingClub website about the\n",
    "features in this dataset.\n",
    "\n",
    "Sites not officially associated with LendingClub still contain information about the\n",
    "peer-to-peer service previously offered by LendingClub.  As a result, the feature\n",
    "exploration for this project includes links to miscellaneous pages such as blogs.\n",
    "\n",
    "Beginning with the current notebook, however, lack of detailed information about\n",
    "features does impose some limits.  For instance, rows containing certain values of\n",
    "`loan_status` are filtered out simply because it is difficult to understand what those\n",
    "values mean."
   ]
  },
  {
   "cell_type": "markdown",
   "id": "e305cc0e-bc33-4e44-b292-c8e3f568c9a2",
   "metadata": {},
   "source": [
    "This notebook does the following:\n",
    "\n",
    "- Explore features to determine what filtering should be done.\n",
    "- Filter out certain columns and rows from the data on accepted loans.\n",
    "- Update the database, including only the filtered data on accepted loans."
   ]
  },
  {
   "cell_type": "code",
   "execution_count": null,
   "id": "c96070d7-1f76-4792-9a83-76466e07ff67",
   "metadata": {},
   "outputs": [],
   "source": [
    "import numpy as np\n",
    "import pandas as pd\n",
    "import plotly.express as px\n",
    "from IPython.display import display\n",
    "\n",
    "import notebook_tools.data_cleaning as clean\n",
    "import notebook_tools.database as db\n",
    "from notebook_tools.feature_exploration import (\n",
    "    get_group_sizes,\n",
    "    get_value_counts,\n",
    "    style_loan_summary,\n",
    "    style_value_counts,\n",
    "    summarize_acc_loans,\n",
    "    summarize_loan_data,\n",
    ")"
   ]
  },
  {
   "cell_type": "markdown",
   "id": "ce4c84e8-f781-4f9f-b307-be5a7b647e87",
   "metadata": {},
   "source": [
    "## Display feature summaries"
   ]
  },
  {
   "cell_type": "markdown",
   "id": "e5dff0a8-d773-4cf5-a7a4-1ccce10c57c9",
   "metadata": {},
   "source": [
    "Use functions in the package `notebook_tools` to load data and generate feature\n",
    "summaries."
   ]
  },
  {
   "cell_type": "code",
   "execution_count": null,
   "id": "911bb68d-1876-4a50-afd6-474c199954df",
   "metadata": {},
   "outputs": [],
   "source": [
    "acc_loan_data = clean.load_acc_loan_data(excluded_cols=[\"member_id\"])\n",
    "acc_loan_data = clean.convert_acc_loan_data(\n",
    "    acc_loan_data, conversions=(\"time_intervals\", \"dates\", \"booleans\")\n",
    ")"
   ]
  },
  {
   "cell_type": "code",
   "execution_count": null,
   "id": "dbb7fc71-cd37-48ab-b907-6238e483f7b3",
   "metadata": {},
   "outputs": [],
   "source": [
    "acc_loan_feat_desc = clean.load_acc_loan_feat_desc()"
   ]
  },
  {
   "cell_type": "code",
   "execution_count": null,
   "id": "80b15560-c4d5-48bd-806f-0c7ecd0935be",
   "metadata": {},
   "outputs": [],
   "source": [
    "rej_loan_data = clean.load_rej_loan_data()\n",
    "rej_loan_data = clean.convert_rej_loan_data(rej_loan_data, conversions=(\"percentages\",))"
   ]
  },
  {
   "cell_type": "markdown",
   "id": "8d89710a-0d61-4b93-b2d9-106662924053",
   "metadata": {},
   "source": [
    "### Feature summaries for accepted loans"
   ]
  },
  {
   "cell_type": "markdown",
   "id": "92307e58-183b-480a-bc56-2da437b088af",
   "metadata": {},
   "source": [
    "#### Total number of records:  2,260,701"
   ]
  },
  {
   "cell_type": "code",
   "execution_count": null,
   "id": "d9c5532d-890c-4044-8148-9435aafaecd0",
   "metadata": {},
   "outputs": [],
   "source": [
    "print(f\"The number of records for accepted loans is {len(acc_loan_data.index):,d}.\")"
   ]
  },
  {
   "cell_type": "code",
   "execution_count": null,
   "id": "b9654b45-3891-40c4-9b07-afddf3536e8d",
   "metadata": {},
   "outputs": [],
   "source": [
    "for dtype in [np.number, \"string\", \"boolean\"]:\n",
    "    summary = summarize_acc_loans(acc_loan_data, dtype, acc_loan_feat_desc)\n",
    "    print(f\"\\n\\nThe number of features of type {dtype} is {len(summary.index)}.\\n\\n\")\n",
    "    display(style_loan_summary(summary))"
   ]
  },
  {
   "cell_type": "markdown",
   "id": "42515cf1-1faf-4c3e-8318-61e5027bf27c",
   "metadata": {},
   "source": [
    "### Feature summaries for rejected loans"
   ]
  },
  {
   "cell_type": "markdown",
   "id": "164d4498-d9c8-4383-99fb-ae7bf4137767",
   "metadata": {},
   "source": [
    "#### Total number of records:  27,648,741"
   ]
  },
  {
   "cell_type": "code",
   "execution_count": null,
   "id": "f9cfb47e-cc07-40e6-adcf-6ededc59a61d",
   "metadata": {},
   "outputs": [],
   "source": [
    "print(f\"The number of records for accepted loans is {len(rej_loan_data.index):,d}.\")"
   ]
  },
  {
   "cell_type": "code",
   "execution_count": null,
   "id": "647b57fd-bd55-4ee8-a917-af56c4fdd420",
   "metadata": {},
   "outputs": [],
   "source": [
    "for dtype in [np.number, \"string\"]:\n",
    "    summary = summarize_loan_data(rej_loan_data, dtype)\n",
    "    display(style_loan_summary(summary))"
   ]
  },
  {
   "cell_type": "markdown",
   "id": "ef6156cd-2203-4bca-aff9-c4e8b9d9737e",
   "metadata": {},
   "source": [
    "## Explore features"
   ]
  },
  {
   "cell_type": "markdown",
   "id": "ae815015-38fb-4782-8b14-d7167788dd70",
   "metadata": {},
   "source": [
    "### `policy_code` / `Policy Code`\n",
    "\n",
    "What do the columns `policy_code` (for accepted loans) and `Policy Code` (for rejected\n",
    "loans) refer to?\n",
    "\n",
    "From [\"What are these Policy Code 2 Loans at Lending\n",
    "Club?\"](https://www.fintechnexus.com/policy-code-2-loans-lending-club/):\n",
    "\n",
    "> - These [Policy Code 2 loans] are loans made to borrowers that do not meet Lending\n",
    "Club’s current credit policy standards.\n",
    "> - The FICO scores on these borrowers are typically 640-659, below the 660 threshold on\n",
    "Policy Code 1 loans.\n",
    "> - These loans are made available to select institutional investors who have a great\n",
    "deal of experience with consumer loans in this credit spectrum and with Lending Club."
   ]
  },
  {
   "cell_type": "code",
   "execution_count": null,
   "id": "9ff82876-93a8-46b8-9426-b608fce98f47",
   "metadata": {},
   "outputs": [],
   "source": [
    "policy_code_counts = get_value_counts(acc_loan_data[\"policy_code\"])\n",
    "display(style_value_counts(policy_code_counts))"
   ]
  },
  {
   "cell_type": "code",
   "execution_count": null,
   "id": "44c8c98c-3307-45b3-9c64-80f80383b955",
   "metadata": {},
   "outputs": [],
   "source": [
    "policy_code_counts_rej = get_value_counts(rej_loan_data[\"Policy Code\"])\n",
    "display(style_value_counts(policy_code_counts_rej))"
   ]
  },
  {
   "cell_type": "markdown",
   "id": "1948d8ab-3599-4c4e-924f-c8c7eb027539",
   "metadata": {},
   "source": [
    "### `loan_status`"
   ]
  },
  {
   "cell_type": "markdown",
   "id": "00cd6e10-d9bd-4199-abe8-c58538e448a1",
   "metadata": {},
   "source": [
    "What are the distinct values for the column `loan_status`?"
   ]
  },
  {
   "cell_type": "code",
   "execution_count": null,
   "id": "f430c5f2-2335-4a41-8e22-fe3c7de0586e",
   "metadata": {},
   "outputs": [],
   "source": [
    "loan_status_counts = get_value_counts(acc_loan_data[\"loan_status\"])\n",
    "display(style_value_counts(loan_status_counts))"
   ]
  },
  {
   "cell_type": "markdown",
   "id": "fdf59357-efab-45e3-8f53-db27b9398bfa",
   "metadata": {},
   "source": [
    "The 33 rows that have `NA` for `loan_status` also have `NA` for all other features other\n",
    "than `id`, so these rows can be filtered from the data.\n",
    "\n",
    "From the values of `id` displayed in the output of next cell, these null rows appear to\n",
    "be associated with the policy code."
   ]
  },
  {
   "cell_type": "code",
   "execution_count": null,
   "id": "db2858d7-7f0e-40cc-ba27-bb756c27be8f",
   "metadata": {},
   "outputs": [],
   "source": [
    "missing_status = acc_loan_data[acc_loan_data[\"loan_status\"].isna()]"
   ]
  },
  {
   "cell_type": "code",
   "execution_count": null,
   "id": "cb313337-3a2a-4ae8-9687-96f1e597eb02",
   "metadata": {},
   "outputs": [],
   "source": [
    "display(missing_status.head(4).transpose())"
   ]
  },
  {
   "cell_type": "markdown",
   "id": "71569468-0988-4136-a720-391e119ce15b",
   "metadata": {},
   "source": [
    "As a check, verify that if the `id` column is dropped, then all values are `NA` in rows\n",
    "that are missing `loan_status`."
   ]
  },
  {
   "cell_type": "code",
   "execution_count": null,
   "id": "55e61bca-91d7-4582-bcfa-3f8321bdd480",
   "metadata": {},
   "outputs": [],
   "source": [
    "display(missing_status.drop(\"id\", axis=\"columns\").count().sum())"
   ]
  },
  {
   "cell_type": "markdown",
   "id": "3223554d-cd8d-4f46-b582-260aad2610ab",
   "metadata": {},
   "source": [
    "Create a dataframe that has these empty rows filtered out.  After additional filtering,\n",
    "this dataframe will be used to recreate the SQLite database."
   ]
  },
  {
   "cell_type": "code",
   "execution_count": null,
   "id": "43871d75-7c2e-4148-9eb5-f76e46a176fa",
   "metadata": {},
   "outputs": [],
   "source": [
    "filtered_loan_data = acc_loan_data[acc_loan_data[\"loan_status\"].notna()]"
   ]
  },
  {
   "cell_type": "code",
   "execution_count": null,
   "id": "6b0c5c1a-fda1-4a7e-849d-73ad5426851d",
   "metadata": {},
   "outputs": [],
   "source": [
    "loan_status_counts = get_value_counts(filtered_loan_data[\"loan_status\"])\n",
    "display(style_value_counts(loan_status_counts))"
   ]
  },
  {
   "cell_type": "markdown",
   "id": "0b0a5b1c-43a2-4a9c-8689-4057f67454eb",
   "metadata": {},
   "source": [
    "Note that after the rows with missing `loan_status` have been filtered out, there are no\n",
    "missing values for `policy_code`.  Since all rows have the same value for `policy_code`,\n",
    "this column can be dropped."
   ]
  },
  {
   "cell_type": "code",
   "execution_count": null,
   "id": "a8c86216-cddd-48f7-8a7e-ba53e0f3f9ae",
   "metadata": {},
   "outputs": [],
   "source": [
    "policy_code_counts = get_value_counts(filtered_loan_data[\"policy_code\"])\n",
    "display(style_value_counts(policy_code_counts))"
   ]
  },
  {
   "cell_type": "markdown",
   "id": "c1c3d857-cee5-447d-bb1c-c7121b4fe4db",
   "metadata": {},
   "source": [
    "Most of the values for `loan_status` are explained at [\"What Do the Different Note Statuses\n",
    "Mean?\"](https://www.lendingclub.com/help/investing-faq/what-do-the-different-note-statuses-mean).\n",
    "\n",
    "However, the values `Does not meet the credit policy. Status:Fully Paid` and `Does not\n",
    "meet the credit policy. Status:Charged Off` are unclear. Let's take look at a random\n",
    "sample of the rows that have these value of loan status."
   ]
  },
  {
   "cell_type": "code",
   "execution_count": null,
   "id": "75dee296-689b-4409-b593-ce49b522bbb3",
   "metadata": {},
   "outputs": [],
   "source": [
    "bool_index = filtered_loan_data[\"loan_status\"].str.endswith(\"Status:Fully Paid\")\n",
    "sampled_data = filtered_loan_data[bool_index].sample(\n",
    "    n=5, random_state=59147, axis=\"index\"\n",
    ")\n",
    "with pd.option_context(\"display.max_columns\", None):\n",
    "    display(sampled_data)"
   ]
  },
  {
   "cell_type": "code",
   "execution_count": null,
   "id": "44b8b8a8-3f11-406f-9396-c9f0aefaa062",
   "metadata": {},
   "outputs": [],
   "source": [
    "bool_index = filtered_loan_data[\"loan_status\"].str.endswith(\"Status:Charged Off\")\n",
    "sampled_data = filtered_loan_data[bool_index].sample(\n",
    "    n=5, random_state=59147, axis=\"index\"\n",
    ")\n",
    "with pd.option_context(\"display.max_columns\", None):\n",
    "    display(sampled_data)"
   ]
  },
  {
   "cell_type": "markdown",
   "id": "9a474cba-0bd5-44ad-80f7-2a2448a339d9",
   "metadata": {},
   "source": [
    "Nothing jumps out from this small random sample.  Rather than trying to guess why\n",
    "certain rows do not meet the credit policy, I'll exclude these rows."
   ]
  },
  {
   "cell_type": "code",
   "execution_count": null,
   "id": "f22ed896-2c4a-483f-89a5-95ca13452e56",
   "metadata": {},
   "outputs": [],
   "source": [
    "bool_index = filtered_loan_data[\"loan_status\"].str.startswith(\"Does not meet\")\n",
    "filtered_loan_data = filtered_loan_data[~bool_index]"
   ]
  },
  {
   "cell_type": "code",
   "execution_count": null,
   "id": "9fb261eb-f506-4954-9404-f5c5c9fa91bb",
   "metadata": {},
   "outputs": [],
   "source": [
    "loan_status_counts = get_value_counts(filtered_loan_data[\"loan_status\"])\n",
    "display(style_value_counts(loan_status_counts))"
   ]
  },
  {
   "cell_type": "markdown",
   "id": "ced5dda5-0a62-44fc-84f0-a6943e8dd35a",
   "metadata": {},
   "source": [
    "### `issue_d`"
   ]
  },
  {
   "cell_type": "markdown",
   "id": "715867cf-bd06-4171-97d0-9bd66f72fd1b",
   "metadata": {},
   "source": [
    "The description of this feature is \"The month which the loan was funded\".\n",
    "\n",
    "After rows with problematic values of `loan_status` have been filtered out, there are no\n",
    "missing values for `issue_d`."
   ]
  },
  {
   "cell_type": "code",
   "execution_count": null,
   "id": "76f6df43-9439-49b3-9d0c-f1c805f24b39",
   "metadata": {},
   "outputs": [],
   "source": [
    "filtered_loan_data[\"issue_d\"].isna().sum()"
   ]
  },
  {
   "cell_type": "code",
   "execution_count": null,
   "id": "bf0d76c0-224c-4765-b5af-b6187aec01f0",
   "metadata": {},
   "outputs": [],
   "source": [
    "to_plot = get_group_sizes(filtered_loan_data, by=\"issue_d\")\n",
    "fig = px.line(\n",
    "    to_plot,\n",
    "    x=\"issue_d\",\n",
    "    y=\"count\",\n",
    "    markers=True,\n",
    "    labels={\"issue_d\": \"Loan date\", \"count\": \"Number of loans\"},\n",
    "    hover_data={\"count\": \":.3s\"},\n",
    "    title=\"Number of accepted loans by date\",\n",
    ")\n",
    "fig.show()"
   ]
  },
  {
   "cell_type": "markdown",
   "id": "95ca72d5-71d4-4f4c-80dd-4dd1684119d7",
   "metadata": {},
   "source": [
    "I will exclude pre-2012 dates from the analysis.\n",
    "\n",
    "Analysis and prediction based on this data will need to take account of changes in\n",
    "behavior over time, and given the relatively small number of loans issued before 2012,\n",
    "it is not worthwhile to include the pre-2012 data."
   ]
  },
  {
   "cell_type": "code",
   "execution_count": null,
   "id": "260a8ed4-9b47-44d7-9639-3aeac71640f7",
   "metadata": {},
   "outputs": [],
   "source": [
    "bool_index = filtered_loan_data[\"issue_d\"] >= \"2012-01\"\n",
    "filtered_loan_data = filtered_loan_data[bool_index]"
   ]
  },
  {
   "cell_type": "code",
   "execution_count": null,
   "id": "509a195e-fb4c-4ef9-bcbd-70b3e83f0cb6",
   "metadata": {},
   "outputs": [],
   "source": [
    "to_plot = get_group_sizes(filtered_loan_data, by=\"issue_d\")\n",
    "fig = px.line(\n",
    "    to_plot,\n",
    "    x=\"issue_d\",\n",
    "    y=\"count\",\n",
    "    markers=True,\n",
    "    labels={\"issue_d\": \"Loan date\", \"count\": \"Number of loans\"},\n",
    "    hover_data={\"count\": \":.3s\"},\n",
    "    title=\"Number of accepted loans by date\",\n",
    ")\n",
    "fig.show()"
   ]
  },
  {
   "cell_type": "markdown",
   "id": "6d90e094-a7a4-442b-b6d6-eb3e049cef7d",
   "metadata": {},
   "source": [
    "### `loan_amnt` / `funded_amnt` / `funded_amnt_inv`"
   ]
  },
  {
   "cell_type": "markdown",
   "id": "04ff7372-65fc-4d48-9750-db14b30d108e",
   "metadata": {},
   "source": [
    "What is the distinction between `loan_amnt`, `funded_amnt`, `funded_amnt_inv`?\n",
    "\n",
    "Start by examining the feature descriptions."
   ]
  },
  {
   "cell_type": "code",
   "execution_count": null,
   "id": "78262c16-4dc9-4103-a57a-79003df62534",
   "metadata": {},
   "outputs": [],
   "source": [
    "amount_features = acc_loan_feat_desc.loc[\n",
    "    [\"loan_amnt\", \"funded_amnt\", \"funded_amnt_inv\"], [\"description\"]\n",
    "]\n",
    "display(style_loan_summary(amount_features))"
   ]
  },
  {
   "cell_type": "markdown",
   "id": "0923418c-7c1a-484a-a178-14063ac2a76b",
   "metadata": {},
   "source": [
    "What should we infer in cases where `loan_amnt` is different than `funded_amnt`, or in\n",
    "cases where `funded_amnt` is different than `funded_amnt_inv`?  It's not completely\n",
    "clear from these descriptions.\n",
    "\n",
    "Investigate the frequency of these cases."
   ]
  },
  {
   "cell_type": "code",
   "execution_count": null,
   "id": "42c0849d-0505-460e-815d-05b1333f0d01",
   "metadata": {},
   "outputs": [],
   "source": [
    "# First check for missing values.\n",
    "for column_name in [\"loan_amnt\", \"funded_amnt\", \"funded_amnt_inv\"]:\n",
    "    na_count = filtered_loan_data[column_name].isna().sum()\n",
    "    print(f'\\nThe number of missing values for feature \"{column_name}\" is {na_count}.')"
   ]
  },
  {
   "cell_type": "code",
   "execution_count": null,
   "id": "7f97fad4-44bc-4656-8910-1312c08b68d1",
   "metadata": {},
   "outputs": [],
   "source": [
    "bool_index = (filtered_loan_data[\"loan_amnt\"] - filtered_loan_data[\"funded_amnt\"]) != 0\n",
    "print(\n",
    "    '\\nThe number of loans with \"loan_amnt\" different than \"funded_amnt\" is '\n",
    "    f\"{sum(bool_index)}.\\n\"\n",
    ")\n",
    "\n",
    "to_plot = get_group_sizes(filtered_loan_data[bool_index], by=\"issue_d\")\n",
    "fig = px.scatter(\n",
    "    to_plot,\n",
    "    x=\"issue_d\",\n",
    "    y=\"count\",\n",
    "    labels={\"issue_d\": \"Loan date\", \"count\": \"Number of loans\"},\n",
    "    hover_data={\"count\": \":,d\"},\n",
    "    title='Number of loans with \"loan_amnt\" different than \"funded_amnt\"',\n",
    ")\n",
    "fig.show()"
   ]
  },
  {
   "cell_type": "code",
   "execution_count": null,
   "id": "bee98671-04f6-4092-a688-13be388bb103",
   "metadata": {},
   "outputs": [],
   "source": [
    "bool_index = (\n",
    "    filtered_loan_data[\"funded_amnt\"] - filtered_loan_data[\"funded_amnt_inv\"]\n",
    ") != 0\n",
    "print(\n",
    "    '\\nThe number of loans with \"funded_amnt\" different than \"funded_amnt_inv\" is '\n",
    "    f\"{sum(bool_index)}.\\n\"\n",
    ")\n",
    "\n",
    "to_plot = get_group_sizes(filtered_loan_data[bool_index], by=\"issue_d\")\n",
    "fig = px.scatter(\n",
    "    to_plot,\n",
    "    x=\"issue_d\",\n",
    "    y=\"count\",\n",
    "    labels={\"issue_d\": \"Loan date\", \"count\": \"Number of loans\"},\n",
    "    hover_data={\"count\": \":,d\"},\n",
    "    title='Number of loans with \"funded_amnt\" different than \"funded_amnt_inv\"',\n",
    ")\n",
    "fig.show()"
   ]
  },
  {
   "cell_type": "markdown",
   "id": "0bcc869c-8938-4a13-b122-abb30f82b5fc",
   "metadata": {},
   "source": [
    "Discussion:\n",
    "\n",
    "- Only 68 of the 2.2 million loans have `loan_amnt` different than `funded_amnt`.\n",
    "Essentially all the loans are fully funded.\n",
    "- About 130k of the loans have different values for `funded_amnt` and `funded_amnt_inv`.\n",
    "Is LendingClub itself providing funding in these case?\n",
    "\n",
    "While I don't understand the cause of the differences between `loan_amnt`,\n",
    "`funded_amnt`, and `funded_amnt_inv`, I won't filter out the rows with different values\n",
    "for these features.  Unlike the rows where `loan_status` includes the string `\"Does not\n",
    "meet the credit policy\"`, there isn't a strong indication that rows with different\n",
    "values for `loan_amnt`, `funded_amnt`, and `funded_amnt_inv` are fundamentally\n",
    "problematic."
   ]
  },
  {
   "cell_type": "markdown",
   "id": "472c5921-81e2-470b-a7a2-03c0c594eb1d",
   "metadata": {},
   "source": [
    "### `initial_list_status`"
   ]
  },
  {
   "cell_type": "markdown",
   "id": "23f04e21-752c-4999-8fca-7bff0f79825d",
   "metadata": {},
   "source": [
    "The feature `initial_list_status` is explained in [this blog\n",
    "post](https://sirallen.name/blog/note-on-lending-club/):\n",
    "\n",
    "> The variable initial_list_status is available in the public data and identifies\n",
    "whether a loan was initially listed in the whole (W) or fractional (F) market. Loans\n",
    "listed “whole” become available for fractional funding (and vice versa) if there are no\n",
    "buyers within a certain time frame."
   ]
  },
  {
   "cell_type": "code",
   "execution_count": null,
   "id": "f3446c70-2e14-4be6-a76d-6d31f46addb6",
   "metadata": {},
   "outputs": [],
   "source": [
    "list_status_counts = get_value_counts(filtered_loan_data[\"initial_list_status\"])\n",
    "display(style_value_counts(list_status_counts))"
   ]
  },
  {
   "cell_type": "markdown",
   "id": "0ac077b9-062c-4f88-ae63-afbae4ab6253",
   "metadata": {},
   "source": [
    "Given this explanation of the feature `initial_list_status`, there's no need to drop the\n",
    "feature or filter out rows based on the value of the feature"
   ]
  },
  {
   "cell_type": "markdown",
   "id": "d2ec8802-dd46-4ce7-8efd-9f404d3f8221",
   "metadata": {},
   "source": [
    "## Filter columns and rows"
   ]
  },
  {
   "cell_type": "markdown",
   "id": "30f5d512-012d-4599-b038-c848afd8b706",
   "metadata": {},
   "source": [
    "Taking account of the feature summaries and the feature exploration above, certain\n",
    "columns will be excluded from the analysis of accepted loans.\n",
    "\n",
    "- url:  URL for the LC page with listing data\n",
    "- title:  The loan title provided by the borrower\n",
    "- desc:  Loan description provided by the borrower\n",
    "- policy_code:  publicly available policy_code=1, new products not publicly available policy_code=2\n",
    "\n",
    "Also, rows will be featured out based on the following criteria:\n",
    "\n",
    "- Problematic values for `loan_status`\n",
    "    1. `<NA>`\n",
    "    2. `Does not meet the credit policy. Status:Fully Paid`\n",
    "    3. `Does not meet the credit policy. Status:Charged Off`\n",
    "- Values of `issue_d` before 2012"
   ]
  },
  {
   "cell_type": "code",
   "execution_count": null,
   "id": "dc36cf6b-28c3-48c8-ac1c-8636d5f64254",
   "metadata": {},
   "outputs": [],
   "source": [
    "filtered_loan_data = filtered_loan_data.drop(\n",
    "    [\"url\", \"title\", \"desc\", \"policy_code\"], axis=\"columns\"\n",
    ")"
   ]
  },
  {
   "cell_type": "markdown",
   "id": "8b47c8bb-6f1e-4a03-82ee-9c453b48bf34",
   "metadata": {},
   "source": [
    "## Update the database"
   ]
  },
  {
   "cell_type": "markdown",
   "id": "c65b4a3a-a5c6-48c3-90f5-bb89b42a3b61",
   "metadata": {},
   "source": [
    "The information available on rejected loans is fairly limited, so for now we'll limit\n",
    "our attention to the data on accepted loans.\n",
    "\n",
    "Columns and rows that have been filtered out in this notebook will not be included in\n",
    "the database."
   ]
  },
  {
   "cell_type": "code",
   "execution_count": null,
   "id": "836b41ab-f699-4aba-946b-1c19a3a56151",
   "metadata": {},
   "outputs": [],
   "source": [
    "loan_metadata = clean.load_acc_loan_metadata()\n",
    "# The metadata on accepted loans has been manually updated with columns to support\n",
    "# feature classification.  These columns will be used in a later notebook, but for now\n",
    "# they are excluded from the database.\n",
    "loan_metadata = loan_metadata[[\"data type\", \"description\"]]\n",
    "# Columns that have been excluded from the loan data are filtered from the index of\n",
    "# metadata.\n",
    "bool_index = loan_metadata.index.isin(filtered_loan_data.columns)\n",
    "loan_metadata = loan_metadata[bool_index]"
   ]
  },
  {
   "cell_type": "code",
   "execution_count": null,
   "id": "bf9afae2-baf7-4284-a841-e89074f0414e",
   "metadata": {},
   "outputs": [],
   "source": [
    "tables = {\n",
    "    \"loan_data\": filtered_loan_data,\n",
    "    \"loan_metadata\": loan_metadata.reset_index(),\n",
    "}"
   ]
  },
  {
   "cell_type": "code",
   "execution_count": null,
   "id": "004403f3-78ee-4341-94d0-397f5371c721",
   "metadata": {},
   "outputs": [],
   "source": [
    "db.create_database(tables)"
   ]
  }
 ],
 "metadata": {
  "kernelspec": {
   "display_name": "Python 3 (ipykernel)",
   "language": "python",
   "name": "python3"
  },
  "language_info": {
   "codemirror_mode": {
    "name": "ipython",
    "version": 3
   },
   "file_extension": ".py",
   "mimetype": "text/x-python",
   "name": "python",
   "nbconvert_exporter": "python",
   "pygments_lexer": "ipython3",
   "version": "3.11.4"
  }
 },
 "nbformat": 4,
 "nbformat_minor": 5
}
