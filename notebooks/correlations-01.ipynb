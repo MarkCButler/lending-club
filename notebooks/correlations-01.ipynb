{
 "cells": [
  {
   "cell_type": "markdown",
   "id": "5c7730d7-cc4d-4f00-bdb2-125f5f643f54",
   "metadata": {
    "editable": true,
    "slideshow": {
     "slide_type": ""
    },
    "tags": []
   },
   "source": [
    "# Explore correlations\n",
    "\n",
    "- [Correlations among `year`, `loan_grade`, `purpose`](#Correlations-among-year,-loan_grade,-purpose)\n",
    "\n",
    "    - Plots presented in this section show distinct differences in the distribution of\n",
    "    loan grades for different years and loan purposes, but no dramatic patterns.\n",
    "\n",
    "    - The distribution of loan purposes varies only slightly as a function of year.\n",
    "    \n",
    "- [Correlations involving `loan_amnt`](#Correlations-involving-loan_amnt)\n",
    "\n",
    "    - The largest loans, in the range of \\\\$36k to \\\\$40k, have much better loan grades\n",
    "    than smaller loans.\n",
    "    \n",
    "    - Loans in the range of \\\\$5k to \\\\$11k have somewhat better grades than other loans\n",
    "    less than \\\\$36k.\n",
    "\n",
    "    - The year 2018 shows a distinct change in the distribution of loan amounts.  Loans\n",
    "    amounts that are multiple of \\\\$5k become more frequent, as do loans of \\\\$36k and\n",
    "    above."
   ]
  },
  {
   "cell_type": "markdown",
   "id": "e56564af-ce51-4377-87ac-7e7bf5c06014",
   "metadata": {},
   "source": [
    "This notebook presents initial exploration of correlations involving selected features\n",
    "in the loan data.\n",
    "\n",
    "Later notebooks present in-depth analysis of particular features, e.g., `int_rate`,\n",
    "including correlations involving those features."
   ]
  },
  {
   "cell_type": "code",
   "execution_count": null,
   "id": "8dea8c27-2ee7-42eb-81f9-c31f26051ff8",
   "metadata": {},
   "outputs": [],
   "source": [
    "import string\n",
    "\n",
    "import numpy as np\n",
    "import pandas as pd\n",
    "import plotly.express as px\n",
    "from IPython.display import display\n",
    "\n",
    "import notebook_tools.database as db\n",
    "from notebook_tools.derived_features import get_year\n",
    "from notebook_tools.feature_exploration import (\n",
    "    get_group_sizes,\n",
    "    get_value_counts,\n",
    "    style_value_counts,\n",
    ")"
   ]
  },
  {
   "cell_type": "code",
   "execution_count": null,
   "id": "3b339023-1a3a-4abe-8395-ee4aa75724d2",
   "metadata": {},
   "outputs": [],
   "source": [
    "loan_data = db.get_loan_data()\n",
    "loan_metadata = db.get_loan_metadata()"
   ]
  },
  {
   "cell_type": "code",
   "execution_count": null,
   "id": "0f33b3f6-62b1-4aa9-8e5f-c37296c0e6a5",
   "metadata": {
    "editable": true,
    "slideshow": {
     "slide_type": ""
    },
    "tags": []
   },
   "outputs": [],
   "source": [
    "loan_data[\"year\"] = get_year(loan_data, \"issue_d\")"
   ]
  },
  {
   "cell_type": "markdown",
   "id": "0878aefb-6bf3-4301-9149-b103c36ad8da",
   "metadata": {},
   "source": [
    "## Correlations among `year`, `loan_grade`, `purpose`"
   ]
  },
  {
   "cell_type": "markdown",
   "id": "42134195-6272-4494-b1b9-ade61be95bba",
   "metadata": {},
   "source": [
    "### Distributions of individual features"
   ]
  },
  {
   "cell_type": "code",
   "execution_count": null,
   "id": "09c67943-90ee-4a85-a1a1-3c4a430218be",
   "metadata": {},
   "outputs": [],
   "source": [
    "year_counts = get_value_counts(loan_data[\"year\"])\n",
    "display(style_value_counts(year_counts))"
   ]
  },
  {
   "cell_type": "code",
   "execution_count": null,
   "id": "4adc28a9-c362-409e-b757-2dacf73afea8",
   "metadata": {},
   "outputs": [],
   "source": [
    "loan_data.groupby(by=[\"grade\", \"sub_grade\"]).size().to_frame(name=\"count\")"
   ]
  },
  {
   "cell_type": "code",
   "execution_count": null,
   "id": "8cf7e36b-42e0-4b06-b98d-5a6e7e1ce5f7",
   "metadata": {},
   "outputs": [],
   "source": [
    "purpose_counts = get_value_counts(loan_data[\"purpose\"])\n",
    "display(style_value_counts(purpose_counts))"
   ]
  },
  {
   "cell_type": "code",
   "execution_count": null,
   "id": "6eaa05d4-32c7-4edd-819d-18d9fe002b4e",
   "metadata": {},
   "outputs": [],
   "source": [
    "to_plot = get_group_sizes(loan_data, group_by=\"issue_d\")\n",
    "fig = px.line(\n",
    "    to_plot,\n",
    "    x=\"issue_d\",\n",
    "    y=\"count\",\n",
    "    markers=True,\n",
    "    labels={\"issue_d\": \"Loan date\", \"count\": \"Number of loans\"},\n",
    "    hover_data={\"count\": \":.3s\"},\n",
    "    title=\"Number of loans by date\",\n",
    ")\n",
    "fig.show()"
   ]
  },
  {
   "cell_type": "code",
   "execution_count": null,
   "id": "ca007ad9-739f-42de-b759-77b079edab3c",
   "metadata": {},
   "outputs": [],
   "source": [
    "to_plot = get_group_sizes(loan_data, group_by=\"year\")\n",
    "fig = px.bar(\n",
    "    to_plot,\n",
    "    x=\"year\",\n",
    "    y=\"count\",\n",
    "    labels={\"year\": \"Year\", \"count\": \"Number of loans\"},\n",
    "    hover_data={\"count\": \":.3s\"},\n",
    "    title=\"Number of loans by year\",\n",
    ")\n",
    "fig.show()"
   ]
  },
  {
   "cell_type": "code",
   "execution_count": null,
   "id": "3d290edf-683e-4ea7-8978-1459c146cf56",
   "metadata": {},
   "outputs": [],
   "source": [
    "to_plot = get_group_sizes(loan_data, group_by=\"grade\")\n",
    "fig = px.bar(\n",
    "    to_plot,\n",
    "    x=\"grade\",\n",
    "    y=\"count\",\n",
    "    labels={\"grade\": \"Loan grade\", \"count\": \"Number of loans\"},\n",
    "    hover_data={\"count\": \":.3s\"},\n",
    "    title=\"Number of loans by loan grade\",\n",
    ")\n",
    "fig.show()"
   ]
  },
  {
   "cell_type": "code",
   "execution_count": null,
   "id": "50c8194c-1b93-4415-8d14-b0f27eb56a41",
   "metadata": {},
   "outputs": [],
   "source": [
    "to_plot = get_group_sizes(loan_data, group_by=[\"grade\", \"sub_grade\"])\n",
    "to_plot[\"sub_grade\"] = to_plot[\"sub_grade\"].str[1]\n",
    "fig = px.bar(\n",
    "    to_plot,\n",
    "    x=\"grade\",\n",
    "    y=\"count\",\n",
    "    color=\"sub_grade\",\n",
    "    labels={\n",
    "        \"grade\": \"Loan grade\",\n",
    "        \"count\": \"Number of loans\",\n",
    "        \"sub_grade\": \"Sub-grade\",\n",
    "    },\n",
    "    hover_data={\"count\": \":.3s\"},\n",
    "    title=\"Number of loans by loan grade and sub-grade\",\n",
    ")\n",
    "fig.show()"
   ]
  },
  {
   "cell_type": "code",
   "execution_count": null,
   "id": "b33abb70-12a3-472d-88f7-e469de934fec",
   "metadata": {},
   "outputs": [],
   "source": [
    "to_plot = get_group_sizes(loan_data, group_by=\"purpose\").sort_values(\n",
    "    \"count\", ascending=False\n",
    ")\n",
    "\n",
    "# Save an ordered array of the loan purposes for use in later plotting.\n",
    "ordered_loan_purposes = list(to_plot[\"purpose\"])\n",
    "\n",
    "fig = px.bar(\n",
    "    to_plot,\n",
    "    x=\"purpose\",\n",
    "    y=\"count\",\n",
    "    labels={\"purpose\": \"Loan purpose\", \"count\": \"Number of loans\"},\n",
    "    hover_data={\"count\": \":.3s\"},\n",
    "    title=\"Number of loans by purpose\",\n",
    ")\n",
    "fig.show()"
   ]
  },
  {
   "cell_type": "markdown",
   "id": "50078d26-c510-4ec6-b5ae-687a20ba304d",
   "metadata": {},
   "source": [
    "### Correlations between features"
   ]
  },
  {
   "cell_type": "code",
   "execution_count": null,
   "id": "1bae01d9-c0b6-4241-908a-59cd226f19eb",
   "metadata": {},
   "outputs": [],
   "source": [
    "to_plot = get_group_sizes(loan_data, group_by=[\"year\", \"grade\"])\n",
    "fig = px.histogram(\n",
    "    to_plot,\n",
    "    x=\"year\",\n",
    "    y=\"count\",\n",
    "    color=\"grade\",\n",
    "    barnorm=\"fraction\",\n",
    "    category_orders={\"grade\": list(string.ascii_uppercase[:7])},\n",
    "    labels={\"year\": \"Year\", \"count\": \"Number of loans\", \"grade\": \"Grade\"},\n",
    "    title=\"Distribution of loan grade by year\",\n",
    "    height=400,\n",
    ")\n",
    "\n",
    "\n",
    "def clean_up_hovertemplate(trace):\n",
    "    trace.hovertemplate = trace.hovertemplate.replace(\"%{y}\", \"%{y:.3p}\").replace(\n",
    "        \"sum of Number of loans (normalized as fraction)\", \"Percentage\"\n",
    "    )\n",
    "\n",
    "\n",
    "fig.for_each_trace(clean_up_hovertemplate)\n",
    "fig.update_yaxes(tickformat=\".2p\", title_text=\"Percentage of loans\")\n",
    "fig.show()"
   ]
  },
  {
   "cell_type": "markdown",
   "id": "5ea4b845-376c-4400-abe0-34765366cdeb",
   "metadata": {},
   "source": [
    "For a simpler view of correlations involving the loan grade, map the grades to numbers\n",
    "and calculate the mean grade for different groups."
   ]
  },
  {
   "cell_type": "code",
   "execution_count": null,
   "id": "c4f3b215-3737-4c1c-97c6-e5590aa34d0f",
   "metadata": {},
   "outputs": [],
   "source": [
    "loan_grade_mapper = {\"A\": 7, \"B\": 6, \"C\": 5, \"D\": 4, \"E\": 3, \"F\": 2, \"G\": 1}"
   ]
  },
  {
   "cell_type": "code",
   "execution_count": null,
   "id": "22cecbcb-96cf-4a8f-92a5-b1c992fe0705",
   "metadata": {},
   "outputs": [],
   "source": [
    "to_plot = loan_data[[\"year\", \"grade\"]]\n",
    "to_plot = (\n",
    "    to_plot.assign(grade=to_plot[\"grade\"].map(loan_grade_mapper))\n",
    "    .groupby(\"year\")\n",
    "    .mean()\n",
    "    .reset_index()\n",
    ")\n",
    "fig = px.bar(\n",
    "    to_plot,\n",
    "    x=\"year\",\n",
    "    y=\"grade\",\n",
    "    labels={\"year\": \"Year\", \"grade\": \"Mean numeric grade\"},\n",
    "    title=\"Mean numeric grades by year (A=7, B=6, C=5, ..., G=1)\",\n",
    "    hover_data={\"grade\": \":.2f\"},\n",
    ")\n",
    "fig.show()"
   ]
  },
  {
   "cell_type": "code",
   "execution_count": null,
   "id": "adfea842-6b6d-47c1-a37d-99f084e9e7df",
   "metadata": {},
   "outputs": [],
   "source": [
    "to_plot = get_group_sizes(loan_data, group_by=[\"year\", \"purpose\"])\n",
    "fig = px.histogram(\n",
    "    to_plot,\n",
    "    x=\"year\",\n",
    "    y=\"count\",\n",
    "    color=\"purpose\",\n",
    "    barnorm=\"fraction\",\n",
    "    category_orders={\"purpose\": ordered_loan_purposes},\n",
    "    labels={\"year\": \"Year\", \"count\": \"Number of loans\", \"purpose\": \"Purpose\"},\n",
    "    title=\"Distribution of loan purpose by year\",\n",
    "    height=500,\n",
    ")\n",
    "\n",
    "\n",
    "def clean_up_hovertemplate(trace):\n",
    "    trace.hovertemplate = trace.hovertemplate.replace(\"%{y}\", \"%{y:.3p}\").replace(\n",
    "        \"sum of Number of loans (normalized as fraction)\", \"Percentage\"\n",
    "    )\n",
    "\n",
    "\n",
    "fig.for_each_trace(clean_up_hovertemplate)\n",
    "fig.update_yaxes(tickformat=\".2p\", title_text=\"Percentage of loans\")\n",
    "fig.show()"
   ]
  },
  {
   "cell_type": "code",
   "execution_count": null,
   "id": "7ec5ad54-ac6e-48ea-95e5-a79b1bd9f683",
   "metadata": {},
   "outputs": [],
   "source": [
    "to_plot = get_group_sizes(loan_data, group_by=[\"purpose\", \"grade\"])\n",
    "fig = px.histogram(\n",
    "    to_plot,\n",
    "    x=\"purpose\",\n",
    "    y=\"count\",\n",
    "    color=\"grade\",\n",
    "    barnorm=\"fraction\",\n",
    "    category_orders={\n",
    "        \"purpose\": ordered_loan_purposes,\n",
    "        \"grade\": list(string.ascii_uppercase[:7]),\n",
    "    },\n",
    "    labels={\"purpose\": \"Loan purpose\", \"count\": \"Number of loans\", \"grade\": \"Grade\"},\n",
    "    title=\"Distribution of loan grade by loan purpose\",\n",
    "    height=400,\n",
    ")\n",
    "\n",
    "\n",
    "def clean_up_hovertemplate(trace):\n",
    "    trace.hovertemplate = trace.hovertemplate.replace(\"%{y}\", \"%{y:.3p}\").replace(\n",
    "        \"sum of Number of loans (normalized as fraction)\", \"Percentage\"\n",
    "    )\n",
    "\n",
    "\n",
    "fig.for_each_trace(clean_up_hovertemplate)\n",
    "fig.update_yaxes(tickformat=\",.2p\", title_text=\"Percentage of loans\")\n",
    "fig.show()"
   ]
  },
  {
   "cell_type": "code",
   "execution_count": null,
   "id": "d23d94fd-2d0d-4915-a9f5-8ab37e970291",
   "metadata": {},
   "outputs": [],
   "source": [
    "to_plot = loan_data[[\"purpose\", \"grade\"]]\n",
    "to_plot = (\n",
    "    to_plot.assign(grade=to_plot[\"grade\"].map(loan_grade_mapper))\n",
    "    .groupby(\"purpose\")\n",
    "    .mean()\n",
    "    .reset_index()\n",
    ")\n",
    "fig = px.bar(\n",
    "    to_plot,\n",
    "    x=\"purpose\",\n",
    "    y=\"grade\",\n",
    "    category_orders={\n",
    "        \"purpose\": ordered_loan_purposes,\n",
    "    },\n",
    "    labels={\"purpose\": \"Loan purpose\", \"grade\": \"Mean numeric grade\"},\n",
    "    title=\"Mean numeric grades by loan purpose (A=7, B=6, C=5, ..., G=1)\",\n",
    "    hover_data={\"grade\": \":.2f\"},\n",
    ")\n",
    "fig.show()"
   ]
  },
  {
   "cell_type": "markdown",
   "id": "b9cf5fe3-23e0-4c38-8d20-4bef15f51059",
   "metadata": {},
   "source": [
    "Conclusions:\n",
    "\n",
    "- The distribution of loan grades shows distinct variation for different years and loan\n",
    "purposes, but no dramatic patterns.\n",
    "- The distribution of loan purposes varies only slightly as a function of year."
   ]
  },
  {
   "cell_type": "markdown",
   "id": "cc276b8a-2791-424d-9141-f59def57adc2",
   "metadata": {},
   "source": [
    "## Correlations involving `loan_amnt`"
   ]
  },
  {
   "cell_type": "markdown",
   "id": "43228b41-f228-4f5b-a30a-e9edba6e61e3",
   "metadata": {},
   "source": [
    "For large data sets, the binning of histogram data should be done outside of plotly. The\n",
    "reason is that plotly does binning in JavaScript, and so unbinned data passed to\n",
    "plotly's histogram function becomes part of the javascript code stored with the\n",
    "notebook.  For the current data set, this can increase the notebook size on disk by a\n",
    "factor of more than 100."
   ]
  },
  {
   "cell_type": "code",
   "execution_count": null,
   "id": "f2143918-16e4-40d8-9a4a-d8f04a25d136",
   "metadata": {},
   "outputs": [],
   "source": [
    "min = loan_data[\"loan_amnt\"].min()\n",
    "max = loan_data[\"loan_amnt\"].max()\n",
    "print(\n",
    "    'The minimum and maximum values of \"loan_amnt\" '\n",
    "    f\"are ${min:,} and ${max:,}, respectively.\"\n",
    ")"
   ]
  },
  {
   "cell_type": "code",
   "execution_count": null,
   "id": "097273bb-841d-47a1-be48-b26a511f51db",
   "metadata": {},
   "outputs": [],
   "source": [
    "# Define arrays / lists needed for binning the histogram and plotting the bins in\n",
    "# plotly.  Use &#36; in place of $ in order to avoid triggering math formatting.\n",
    "loan_amnt_bins = np.linspace(1e3, 41e3, num=41)\n",
    "loan_amnt_bin_labels = [f\"[&#36;{left:d}k - &#36;{left+1:d}k)\" for left in range(1, 41)]\n",
    "loan_amnt_tick_vals = loan_amnt_bin_labels[4::5]\n",
    "loan_amnt_tick_text = [f\"&#36;{left:d}k\" for left in range(5, 45, 5)]"
   ]
  },
  {
   "cell_type": "code",
   "execution_count": null,
   "id": "9a30da7b-2ce5-4695-a92c-a7bc699e0e43",
   "metadata": {},
   "outputs": [],
   "source": [
    "loan_data[\"loan_amnt_bin\"] = pd.cut(\n",
    "    loan_data[\"loan_amnt\"],\n",
    "    bins=loan_amnt_bins,\n",
    "    labels=loan_amnt_bin_labels,\n",
    "    right=False,\n",
    ")"
   ]
  },
  {
   "cell_type": "code",
   "execution_count": null,
   "id": "b21580f6-b2c6-4f8d-b60f-584696d79037",
   "metadata": {
    "editable": true,
    "slideshow": {
     "slide_type": ""
    },
    "tags": []
   },
   "outputs": [],
   "source": [
    "to_plot = get_group_sizes(loan_data, group_by=\"loan_amnt_bin\")\n",
    "fig = px.bar(\n",
    "    to_plot,\n",
    "    x=\"loan_amnt_bin\",\n",
    "    y=\"count\",\n",
    "    labels={\"count\": \"Number of loans\", \"loan_amnt_bin\": \"Loan amount\"},\n",
    "    title=\"Distribution of loan amount\",\n",
    ")\n",
    "hovertemplate = \"Loan amount=%{customdata}<br>Number of loans=%{y:.3s}<extra></extra>\"\n",
    "fig.update_traces(customdata=loan_amnt_bin_labels, hovertemplate=hovertemplate)\n",
    "fig.update_layout(bargap=0)\n",
    "fig.update_xaxes(\n",
    "    tickmode=\"array\", tickvals=loan_amnt_tick_vals, ticktext=loan_amnt_tick_text\n",
    ")\n",
    "fig.show()"
   ]
  },
  {
   "cell_type": "code",
   "execution_count": null,
   "id": "15129bf8-f3f2-4a84-8505-2d37351409d4",
   "metadata": {
    "editable": true,
    "slideshow": {
     "slide_type": ""
    },
    "tags": []
   },
   "outputs": [],
   "source": [
    "to_plot = get_group_sizes(loan_data, group_by=[\"loan_amnt_bin\", \"grade\"])\n",
    "fig = px.histogram(\n",
    "    to_plot,\n",
    "    x=\"loan_amnt_bin\",\n",
    "    y=\"count\",\n",
    "    color=\"grade\",\n",
    "    barnorm=\"fraction\",\n",
    "    category_orders={\"grade\": list(string.ascii_uppercase[:7])},\n",
    "    labels={\n",
    "        \"loan_amnt_bin\": \"Loan amount\",\n",
    "        \"count\": \"Number of loans\",\n",
    "        \"grade\": \"Grade\",\n",
    "    },\n",
    "    title=\"Distribution of loan grade by loan amount\",\n",
    ")\n",
    "\n",
    "\n",
    "def clean_up_hovertemplate(trace):\n",
    "    trace.customdata = loan_amnt_bin_labels\n",
    "    trace.hovertemplate = (\n",
    "        trace.hovertemplate.replace(\"%{x}\", \"%{customdata}\")\n",
    "        .replace(\"%{y}\", \"%{y:.3p}\")\n",
    "        .replace(\"sum of Number of loans (normalized as fraction)\", \"Percentage\")\n",
    "    )\n",
    "\n",
    "\n",
    "fig.for_each_trace(clean_up_hovertemplate)\n",
    "fig.update_layout(bargap=0)\n",
    "fig.update_xaxes(\n",
    "    tickmode=\"array\", tickvals=loan_amnt_tick_vals, ticktext=loan_amnt_tick_text\n",
    ")\n",
    "fig.update_yaxes(tickformat=\",.2p\", title_text=\"Percentage of loans\")\n",
    "fig.show()"
   ]
  },
  {
   "cell_type": "code",
   "execution_count": null,
   "id": "c0671fd8-832d-4550-a53b-9ac2c6b103f2",
   "metadata": {},
   "outputs": [],
   "source": [
    "to_plot = loan_data[[\"loan_amnt_bin\", \"grade\"]]\n",
    "to_plot = (\n",
    "    to_plot.assign(grade=to_plot[\"grade\"].map(loan_grade_mapper))\n",
    "    .groupby(\"loan_amnt_bin\", observed=False)\n",
    "    .mean()\n",
    "    .reset_index()\n",
    ")\n",
    "fig = px.bar(\n",
    "    to_plot,\n",
    "    x=\"loan_amnt_bin\",\n",
    "    y=\"grade\",\n",
    "    labels={\n",
    "        \"loan_amnt_bin\": \"Loan amount\",\n",
    "        \"grade\": \"Mean numeric grade\",\n",
    "    },\n",
    "    title=\"Mean numeric grades by loan amount (A=7, B=6, C=5, ..., G=1)\",\n",
    ")\n",
    "hovertemplate = (\n",
    "    \"Loan amount=%{customdata}<br>Mean numeric grade=%{y:.2f}<extra></extra>\"\n",
    ")\n",
    "fig.update_traces(customdata=loan_amnt_bin_labels, hovertemplate=hovertemplate)\n",
    "fig.update_layout(bargap=0)\n",
    "fig.update_xaxes(\n",
    "    tickmode=\"array\", tickvals=loan_amnt_tick_vals, ticktext=loan_amnt_tick_text\n",
    ")\n",
    "fig.show()"
   ]
  },
  {
   "cell_type": "code",
   "execution_count": null,
   "id": "85712fb8-7f74-4823-a956-ede468b2915b",
   "metadata": {},
   "outputs": [],
   "source": [
    "to_plot = get_group_sizes(loan_data, group_by=[\"loan_amnt_bin\", \"year\"])\n",
    "fig = px.histogram(\n",
    "    to_plot,\n",
    "    x=\"loan_amnt_bin\",\n",
    "    y=\"count\",\n",
    "    color=\"year\",\n",
    "    barnorm=\"fraction\",\n",
    "    labels={\n",
    "        \"loan_amnt_bin\": \"Loan amount\",\n",
    "        \"count\": \"Number of loans\",\n",
    "        \"year\": \"Year\",\n",
    "    },\n",
    "    title=\"Distribution of loan year by loan amount\",\n",
    ")\n",
    "\n",
    "\n",
    "def clean_up_hovertemplate(trace):\n",
    "    trace.customdata = loan_amnt_bin_labels\n",
    "    trace.hovertemplate = (\n",
    "        trace.hovertemplate.replace(\"%{x}\", \"%{customdata}\")\n",
    "        .replace(\"%{y}\", \"%{y:.3p}\")\n",
    "        .replace(\"sum of Number of loans (normalized as fraction)\", \"Percentage\")\n",
    "    )\n",
    "\n",
    "\n",
    "fig.for_each_trace(clean_up_hovertemplate)\n",
    "fig.update_layout(bargap=0)\n",
    "fig.update_xaxes(\n",
    "    tickmode=\"array\", tickvals=loan_amnt_tick_vals, ticktext=loan_amnt_tick_text\n",
    ")\n",
    "fig.update_yaxes(tickformat=\",.2p\", title_text=\"Percentage of loans\")\n",
    "fig.show()"
   ]
  },
  {
   "cell_type": "code",
   "execution_count": null,
   "id": "d6749e23-f0dd-46ae-bd94-88bcbe7c4d1c",
   "metadata": {},
   "outputs": [],
   "source": [
    "encoded_year_mapper = {\n",
    "    \"2012\": 1,\n",
    "    \"2013\": 2,\n",
    "    \"2014\": 3,\n",
    "    \"2015\": 4,\n",
    "    \"2016\": 5,\n",
    "    \"2017\": 6,\n",
    "    \"2018\": 7,\n",
    "}\n",
    "to_plot = loan_data[[\"loan_amnt_bin\", \"year\"]]\n",
    "to_plot = (\n",
    "    to_plot.assign(year=to_plot[\"year\"].map(encoded_year_mapper))\n",
    "    .groupby(\"loan_amnt_bin\", observed=False)\n",
    "    .mean()\n",
    "    .reset_index()\n",
    ")\n",
    "fig = px.bar(\n",
    "    to_plot,\n",
    "    x=\"loan_amnt_bin\",\n",
    "    y=\"year\",\n",
    "    labels={\n",
    "        \"loan_amnt_bin\": \"Loan amount\",\n",
    "        \"year\": \"Mean encoded year\",\n",
    "    },\n",
    "    title=\"Mean encoded year by loan amount (2018=7, 2017=6, 2015=5, ..., 2012=1)\",\n",
    ")\n",
    "hovertemplate = \"Loan amount=%{customdata}<br>Mean encoded year=%{y:.2f}<extra></extra>\"\n",
    "fig.update_traces(customdata=loan_amnt_bin_labels, hovertemplate=hovertemplate)\n",
    "fig.update_layout(bargap=0)\n",
    "fig.update_xaxes(\n",
    "    tickmode=\"array\", tickvals=loan_amnt_tick_vals, ticktext=loan_amnt_tick_text\n",
    ")\n",
    "fig.show()"
   ]
  },
  {
   "cell_type": "code",
   "execution_count": null,
   "id": "189ba8d2-2a9f-4570-b230-6c136b500e3a",
   "metadata": {},
   "outputs": [],
   "source": [
    "to_plot = get_group_sizes(loan_data, group_by=[\"loan_amnt_bin\", \"purpose\"])\n",
    "fig = px.histogram(\n",
    "    to_plot,\n",
    "    x=\"loan_amnt_bin\",\n",
    "    y=\"count\",\n",
    "    color=\"purpose\",\n",
    "    barnorm=\"fraction\",\n",
    "    category_orders={\"purpose\": ordered_loan_purposes},\n",
    "    labels={\n",
    "        \"loan_amnt_bin\": \"Loan amount\",\n",
    "        \"count\": \"Number of loans\",\n",
    "        \"purpose\": \"Purpose\",\n",
    "    },\n",
    "    title=\"Distribution of loan purpose by loan amount\",\n",
    "    height=500,\n",
    ")\n",
    "\n",
    "\n",
    "def clean_up_hovertemplate(trace):\n",
    "    trace.customdata = loan_amnt_bin_labels\n",
    "    trace.hovertemplate = (\n",
    "        trace.hovertemplate.replace(\"%{x}\", \"%{customdata}\")\n",
    "        .replace(\"%{y}\", \"%{y:.3p}\")\n",
    "        .replace(\"sum of Number of loans (normalized as fraction)\", \"Percentage\")\n",
    "    )\n",
    "\n",
    "\n",
    "fig.for_each_trace(clean_up_hovertemplate)\n",
    "fig.update_layout(bargap=0)\n",
    "fig.update_xaxes(\n",
    "    tickmode=\"array\", tickvals=loan_amnt_tick_vals, ticktext=loan_amnt_tick_text\n",
    ")\n",
    "fig.update_yaxes(tickformat=\",.2p\", title_text=\"Percentage of loans\")\n",
    "fig.show()"
   ]
  },
  {
   "cell_type": "markdown",
   "id": "24ee5179-f202-4667-b8e8-fff361f11980",
   "metadata": {},
   "source": [
    "Conclusions:\n",
    "\n",
    "- The largest loans, in the range of \\\\$36k to \\\\$40k, have much better loan grades than\n",
    "smaller loans.\n",
    "- Loans in the range of \\\\$5k to \\\\$11k have somewhat better grades than other loans\n",
    "less than \\\\$36k.\n",
    "- The year 2018 shows a distinct change in the distribution of loan amounts.  Loans\n",
    "amounts that are multiple of \\\\$5k become more frequent, as do loans of \\\\$36k and\n",
    "above.\n"
   ]
  }
 ],
 "metadata": {
  "kernelspec": {
   "display_name": "Python 3 (ipykernel)",
   "language": "python",
   "name": "python3"
  },
  "language_info": {
   "codemirror_mode": {
    "name": "ipython",
    "version": 3
   },
   "file_extension": ".py",
   "mimetype": "text/x-python",
   "name": "python",
   "nbconvert_exporter": "python",
   "pygments_lexer": "ipython3",
   "version": "3.11.4"
  }
 },
 "nbformat": 4,
 "nbformat_minor": 5
}
