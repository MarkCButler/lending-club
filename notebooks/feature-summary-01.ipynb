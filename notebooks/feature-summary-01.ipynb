{
 "cells": [
  {
   "cell_type": "markdown",
   "id": "39e0ff50-478e-4adc-b683-d892730654f9",
   "metadata": {},
   "source": [
    "# Summarize the cleaned data\n",
    "\n",
    "- [Tables of descriptive statistics](#Tables-of-descriptive-statistics)\n",
    "\n",
    "    The feature summaries displayed in earlier notebooks are no longer valid due to the\n",
    "    data-cleaning performed in those notebooks. This notebook displays feature summaries\n",
    "    for the cleaned data.\n",
    "\n",
    "- [Plots of distributions](#Plots-of-distributions)\n",
    "\n",
    "    As a complement to the summary tables, the notebook also plots the distribution of\n",
    "    values for each feature (excluding categorical features that have a large number of\n",
    "    distinct values)."
   ]
  },
  {
   "cell_type": "code",
   "execution_count": null,
   "id": "afe60b4f-83c5-4162-a6e8-0d66d1cd3794",
   "metadata": {},
   "outputs": [],
   "source": [
    "from pathlib import Path\n",
    "\n",
    "import matplotlib\n",
    "import matplotlib.pyplot as plt\n",
    "import numpy as np\n",
    "import seaborn as sns\n",
    "from IPython.display import SVG, display\n",
    "from matplotlib.ticker import FuncFormatter, MaxNLocator, PercentFormatter\n",
    "from pandas import Categorical, Series, to_datetime\n",
    "from pandas.api.types import is_integer_dtype, is_numeric_dtype, is_string_dtype\n",
    "\n",
    "from notebook_tools.data_cleaning import (\n",
    "    convert_acc_loan_data,\n",
    "    filter_acc_loan_data,\n",
    "    load_acc_loan_data,\n",
    "    load_acc_loan_feat_desc,\n",
    ")\n",
    "from notebook_tools.feature_exploration import (\n",
    "    get_group_sizes,\n",
    "    style_loan_summary,\n",
    "    summarize_acc_loans,\n",
    ")\n",
    "from notebook_tools.plots import format_counts, get_wrapped_caption"
   ]
  },
  {
   "cell_type": "code",
   "execution_count": null,
   "id": "5f88a2d8-db0e-4563-8567-041f7921e70b",
   "metadata": {},
   "outputs": [],
   "source": [
    "loan_data = load_acc_loan_data().pipe(convert_acc_loan_data).pipe(filter_acc_loan_data)"
   ]
  },
  {
   "cell_type": "code",
   "execution_count": null,
   "id": "d52e4532-06f6-46d0-ae6d-36ed82b49ccf",
   "metadata": {},
   "outputs": [],
   "source": [
    "feat_desc = load_acc_loan_feat_desc()"
   ]
  },
  {
   "cell_type": "markdown",
   "id": "4bf23581-4f93-4baf-80d6-7cac94a2081e",
   "metadata": {},
   "source": [
    "## Tables of descriptive statistics"
   ]
  },
  {
   "cell_type": "code",
   "execution_count": null,
   "id": "25a56e4b-3b1c-40b7-b051-5f08e5041dea",
   "metadata": {},
   "outputs": [],
   "source": [
    "print(f\"\\n\\nThe number of records is {len(loan_data.index):,d}.\")\n",
    "for dtype in [np.number, \"string\", \"boolean\"]:\n",
    "    summary = summarize_acc_loans(loan_data, dtype, feat_desc)\n",
    "    print(f\"\\n\\nThe number of features of type {dtype} is {len(summary.index)}.\\n\\n\")\n",
    "    display(style_loan_summary(summary))"
   ]
  },
  {
   "cell_type": "markdown",
   "id": "c1215121-6e81-4a16-a448-068fdcacd150",
   "metadata": {},
   "source": [
    "## Plots of distributions"
   ]
  },
  {
   "cell_type": "markdown",
   "id": "4136af9b-9872-48a4-9203-20eebbe0c637",
   "metadata": {},
   "source": [
    "When working in R markdown, I have often used a loop to generate plots showing the\n",
    "distributions of all features. The plots function as a complement to summary tables such\n",
    "as those shown in the previous section of the notebook.\n",
    "\n",
    "When I tried to use this workflow while plotting with seaborn in Jupyter, I found that\n",
    "memory leakage caused the kernel to die, even when I took care to ensure that all\n",
    "figures where closed at the end of each loop iteration. For a few years there have been\n",
    "posts about memory leakage associated with using matplotlib to generate figures in a\n",
    "loop within Jupyter, and it appears that the only reliable solution is to use a\n",
    "noninteractive backend for matplotlib.\n",
    "\n",
    "To apply this workaround, each iteration of a loop that generates plots does the\n",
    "following:\n",
    "\n",
    "- Use seaborn to generate a figure.\n",
    "- Write the figure to disk in SVG format.\n",
    "- Load the SVG figure from disk as a string.\n",
    "- Pass the SVG string to functions from `IPython.display` to add the figure to the\n",
    "notebook.\n",
    "\n",
    "These steps are encapsulated in the function `display_svg_plot` defined below."
   ]
  },
  {
   "cell_type": "code",
   "execution_count": null,
   "id": "0ea4077f-2a06-4470-a8b3-d8ba26a85402",
   "metadata": {},
   "outputs": [],
   "source": [
    "matplotlib.use(\"svg\")\n",
    "sns.set_theme()"
   ]
  },
  {
   "cell_type": "code",
   "execution_count": null,
   "id": "127e821e-5321-40fa-9464-fe35a2f4bc1c",
   "metadata": {},
   "outputs": [],
   "source": [
    "def display_svg_plot(plot):\n",
    "    temp_svg_path = Path.cwd() / \"temp.svg\"\n",
    "    plot.savefig(temp_svg_path, format=\"svg\")\n",
    "    svg_string = temp_svg_path.read_text()\n",
    "    display(SVG(data=svg_string))\n",
    "    plt.close(\"all\")\n",
    "    temp_svg_path.unlink()"
   ]
  },
  {
   "cell_type": "markdown",
   "id": "d363a6c8-96a2-45b3-8ce7-d8fe97d41de4",
   "metadata": {},
   "source": [
    "Certain columns contain categorical data with a large number of possible values. Exclude\n",
    "these columns from the loop that generates plots of distribution."
   ]
  },
  {
   "cell_type": "code",
   "execution_count": null,
   "id": "39dcba5c-de66-49e2-bbde-dbe66a61ffde",
   "metadata": {},
   "outputs": [],
   "source": [
    "do_not_plot = [\"id\", \"emp_title\", \"zip_code\"]"
   ]
  },
  {
   "cell_type": "markdown",
   "id": "6da93bc5-d2a1-43dd-9a89-96d542ef50f8",
   "metadata": {},
   "source": [
    "Define which type of plot to generate for each feature."
   ]
  },
  {
   "cell_type": "code",
   "execution_count": null,
   "id": "caae4647-890b-4ebb-91fc-c6fea165a4c7",
   "metadata": {},
   "outputs": [],
   "source": [
    "line_plots = [\n",
    "    \"issue_d\",\n",
    "    \"earliest_cr_line\",\n",
    "    \"last_pymnt_d\",\n",
    "    \"next_pymnt_d\",\n",
    "    \"last_credit_pull_d\",\n",
    "    \"sec_app_earliest_cr_line\",\n",
    "    \"hardship_start_date\",\n",
    "    \"hardship_end_date\",\n",
    "    \"payment_plan_start_date\",\n",
    "    \"debt_settlement_flag_date\",\n",
    "    \"settlement_date\",\n",
    "]\n",
    "\n",
    "boolean_plots = [\"pymnt_plan\", \"hardship_flag\", \"debt_settlement_flag\"]\n",
    "\n",
    "logscale_histograms = [\n",
    "    \"installment\",\n",
    "    \"annual_inc\",\n",
    "    \"dti\",\n",
    "    \"revol_bal\",\n",
    "    \"revol_util\",\n",
    "    \"out_prncp\",\n",
    "    \"out_prncp_inv\",\n",
    "    \"total_pymnt\",\n",
    "    \"total_pymnt_inv\",\n",
    "    \"total_rec_int\",\n",
    "    \"last_pymnt_amnt\",\n",
    "    \"annual_inc_joint\",\n",
    "    \"tot_cur_bal\",\n",
    "    \"mths_since_rcnt_il\",\n",
    "    \"total_bal_il\",\n",
    "    \"il_util\",\n",
    "    \"max_bal_bc\",\n",
    "    \"total_rev_hi_lim\",\n",
    "    \"avg_cur_bal\",\n",
    "    \"bc_open_to_buy\",\n",
    "    \"bc_util\",\n",
    "    \"mo_sin_old_il_acct\",\n",
    "    \"mo_sin_old_rev_tl_op\",\n",
    "    \"mo_sin_rcnt_rev_tl_op\",\n",
    "    \"mo_sin_rcnt_tl\",\n",
    "    \"mths_since_recent_bc\",\n",
    "    \"tot_hi_cred_lim\",\n",
    "    \"total_bal_ex_mort\",\n",
    "    \"total_bc_limit\",\n",
    "    \"total_il_high_credit_limit\",\n",
    "    \"revol_bal_joint\",\n",
    "    \"settlement_percentage\",\n",
    "]"
   ]
  },
  {
   "cell_type": "code",
   "execution_count": null,
   "id": "2b23a844-6bda-4e6f-89e6-1ab57e99640c",
   "metadata": {},
   "outputs": [],
   "source": [
    "linear_histograms = [\n",
    "    column\n",
    "    for column in loan_data\n",
    "    if column not in (do_not_plot + line_plots + boolean_plots + logscale_histograms)\n",
    "]"
   ]
  },
  {
   "cell_type": "markdown",
   "id": "1d915bf3-b790-4032-a7af-28c8f432a7fc",
   "metadata": {},
   "source": [
    "Define variables used in plot customization."
   ]
  },
  {
   "cell_type": "code",
   "execution_count": null,
   "id": "991a8e96-14de-4f0b-aef3-ba4a730cb675",
   "metadata": {},
   "outputs": [],
   "source": [
    "custom_binwidth = {\n",
    "    \"fico_range_low\": 5,\n",
    "    \"fico_range_high\": 5,\n",
    "    \"last_fico_range_low\": 5,\n",
    "    \"last_fico_range_high\": 5,\n",
    "    \"all_util\": 2,\n",
    "    \"sec_app_fico_range_low\": 5,\n",
    "    \"sec_app_fico_range_high\": 5,\n",
    "    \"pct_tl_nvr_dlq\": 1,\n",
    "}\n",
    "\n",
    "percent_formatting = [\n",
    "    \"pct_tl_nvr_dlq\",\n",
    "    \"percent_bc_gt_75\",\n",
    "    \"settlement_percentage\",\n",
    "]\n",
    "\n",
    "angled_labels = [\n",
    "    \"purpose\",\n",
    "    \"hardship_reason\",\n",
    "]\n",
    "\n",
    "custom_ordered_categories = {\n",
    "    \"emp_length\": [\n",
    "        \"< 1 year\",\n",
    "        \"1 year\",\n",
    "        \"2 years\",\n",
    "        \"3 years\",\n",
    "        \"4 years\",\n",
    "        \"5 years\",\n",
    "        \"6 years\",\n",
    "        \"7 years\",\n",
    "        \"8 years\",\n",
    "        \"9 years\",\n",
    "        \"10+ years\",\n",
    "    ]\n",
    "}"
   ]
  },
  {
   "cell_type": "code",
   "execution_count": null,
   "id": "f737f76a-4ed2-434a-a161-cf9f812d4453",
   "metadata": {},
   "outputs": [],
   "source": [
    "def plot_distribution(data, column_name, title, caption, **kwargs):\n",
    "    column_data = data[column_name]\n",
    "\n",
    "    # If the values are strings, then set the order in which labels will appear along\n",
    "    # the x-axis.\n",
    "    if is_string_dtype(column_data.dtype):\n",
    "        column_data = _convert_to_ordered_categorical(column_data, column_name)\n",
    "\n",
    "    plot = sns.displot(x=column_data, **kwargs).set(title=title)\n",
    "\n",
    "    # Tweak tick locations and labels.\n",
    "    ax = plot.facet_axis(0, 0)\n",
    "    ax.yaxis.set_major_formatter(FuncFormatter(format_counts))\n",
    "    if column in percent_formatting:\n",
    "        ax.xaxis.set_major_formatter(PercentFormatter(decimals=0))\n",
    "    elif is_numeric_dtype(column_data.dtype) and \"log_scale\" not in kwargs:\n",
    "        # Force tick marks to be located on integers.  The call below is equivalent to\n",
    "        # using matplotlib.ticker.AutoLocator with the constraint that tick marks are\n",
    "        # integers.\n",
    "        ax.xaxis.set_major_locator(\n",
    "            MaxNLocator(nbins=\"auto\", steps=[1, 2, 2.5, 5, 10], integer=True)\n",
    "        )\n",
    "        # Add comma separators in formatting tick labels for the x-axis.\n",
    "        ax.xaxis.set_major_formatter(\n",
    "            FuncFormatter(\n",
    "                lambda tick_value, _tick_position: format(int(tick_value), \",\")\n",
    "            )\n",
    "        )\n",
    "    if column in angled_labels:\n",
    "        # The steps to rotate tick labels for the x-axis using matplotlib's\n",
    "        # object-oriented approach are clumsy, so use pyplot instead.\n",
    "        plt.xticks(rotation=-45, ha=\"left\")\n",
    "\n",
    "    display_svg_plot(plot)\n",
    "    print(f\"\\n{caption}\\n\\n\\n\", flush=True)\n",
    "\n",
    "\n",
    "def _convert_to_ordered_categorical(col_data, col_name):\n",
    "    if col_name in custom_ordered_categories:\n",
    "        ordered_categories = custom_ordered_categories[col_name]\n",
    "    else:\n",
    "        ordered_categories = Series(col_data.unique()).dropna().sort_values()\n",
    "    categorical_data = Categorical(\n",
    "        col_data, categories=ordered_categories, ordered=True\n",
    "    )\n",
    "    categorical_data.name = col_data.name\n",
    "    return categorical_data"
   ]
  },
  {
   "cell_type": "code",
   "execution_count": null,
   "id": "7550d7a5-8579-477d-88dc-9caaf7ec6a01",
   "metadata": {},
   "outputs": [],
   "source": [
    "def plot_date_distribution(data, column_name, title, caption, **kwargs):\n",
    "    to_plot = get_group_sizes(data, group_by=column_name).rename(\n",
    "        {\"count\": \"Count\"}, axis=\"columns\"\n",
    "    )\n",
    "    to_plot[column_name] = to_datetime(to_plot[column_name], format=\"ISO8601\")\n",
    "\n",
    "    kwargs[\"kind\"] = \"line\"\n",
    "    if len(to_plot[column_name].index) <= 150:\n",
    "        kwargs[\"marker\"] = \"o\"\n",
    "    plot = sns.relplot(data=to_plot, x=column_name, y=\"Count\", **kwargs).set(\n",
    "        title=title\n",
    "    )\n",
    "\n",
    "    # Tweak formatting of tick labels for the y-axis..\n",
    "    ax = plot.facet_axis(0, 0)\n",
    "    ax.yaxis.set_major_formatter(FuncFormatter(format_counts))\n",
    "\n",
    "    display_svg_plot(plot)\n",
    "    print(f\"\\n{caption}\\n\\n\\n\", flush=True)"
   ]
  },
  {
   "cell_type": "code",
   "execution_count": null,
   "id": "cb4edf75-d94e-4eb5-b5ea-075c0085fcae",
   "metadata": {},
   "outputs": [],
   "source": [
    "for column in linear_histograms:\n",
    "    caption = get_wrapped_caption(column, feat_desc, width=200)\n",
    "    kwargs = {\"aspect\": 3.3}\n",
    "    if column in custom_binwidth:\n",
    "        kwargs[\"binwidth\"] = custom_binwidth[column]\n",
    "    elif is_integer_dtype(loan_data[column].dtype):\n",
    "        kwargs[\"discrete\"] = True\n",
    "    plot_distribution(loan_data, column, f\"Distribution of {column}\", caption, **kwargs)"
   ]
  },
  {
   "cell_type": "code",
   "execution_count": null,
   "id": "a2ea3d79-e2b7-4a2d-9770-2078d10c9e00",
   "metadata": {},
   "outputs": [],
   "source": [
    "for column in logscale_histograms:\n",
    "    caption = get_wrapped_caption(column, feat_desc, width=200)\n",
    "    kwargs = {\"aspect\": 3.3, \"log_scale\": True, \"bins\": 50}\n",
    "    plot_distribution(loan_data, column, f\"Distribution of {column}\", caption, **kwargs)"
   ]
  },
  {
   "cell_type": "code",
   "execution_count": null,
   "id": "3fb40747-333e-49e9-80f3-1b5f2c26aa2c",
   "metadata": {},
   "outputs": [],
   "source": [
    "for column in boolean_plots:\n",
    "    caption = get_wrapped_caption(column, feat_desc, width=200)\n",
    "    kwargs = {\"aspect\": 3.3}\n",
    "    mapper = {True: \"True\", False: \"False\"}\n",
    "    plot_distribution(\n",
    "        loan_data[column].map(mapper).to_frame(),\n",
    "        column,\n",
    "        f\"Distribution of {column}\",\n",
    "        caption,\n",
    "        **kwargs,\n",
    "    )"
   ]
  },
  {
   "cell_type": "code",
   "execution_count": null,
   "id": "09de3bc4-027a-487e-87ee-2f0aa521166b",
   "metadata": {},
   "outputs": [],
   "source": [
    "for column in line_plots:\n",
    "    caption = get_wrapped_caption(column, feat_desc, width=200)\n",
    "    kwargs = {\"aspect\": 3.3}\n",
    "    plot_date_distribution(\n",
    "        loan_data, column, f\"Distribution of {column}\", caption, **kwargs\n",
    "    )"
   ]
  }
 ],
 "metadata": {
  "kernelspec": {
   "display_name": "Python 3 (ipykernel)",
   "language": "python",
   "name": "python3"
  },
  "language_info": {
   "codemirror_mode": {
    "name": "ipython",
    "version": 3
   },
   "file_extension": ".py",
   "mimetype": "text/x-python",
   "name": "python",
   "nbconvert_exporter": "python",
   "pygments_lexer": "ipython3",
   "version": "3.11.4"
  }
 },
 "nbformat": 4,
 "nbformat_minor": 5
}
